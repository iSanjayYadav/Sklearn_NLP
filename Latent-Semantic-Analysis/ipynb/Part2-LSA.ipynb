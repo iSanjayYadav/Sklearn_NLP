{
 "cells": [
  {
   "cell_type": "code",
   "execution_count": 1,
   "metadata": {},
   "outputs": [
    {
     "name": "stdout",
     "output_type": "stream",
     "text": [
      "\n",
      "\n",
      "# All requested packages already installed.\n",
      "# packages in environment at /opt/conda:\n",
      "#\n",
      "pymongo                   3.4.0                    py36_0    defaults\n"
     ]
    }
   ],
   "source": [
    "!conda install --yes --quiet pymongo\n"
   ]
  },
  {
   "cell_type": "code",
   "execution_count": 90,
   "metadata": {},
   "outputs": [],
   "source": [
    "import pymongo\n",
    "import sys\n",
    "import warnings\n",
    "warnings.filterwarnings(\"ignore\")"
   ]
  },
  {
   "cell_type": "code",
   "execution_count": 20,
   "metadata": {},
   "outputs": [],
   "source": [
    "import matplotlib.pyplot as plt\n",
    "import re\n",
    "import requests\n",
    "import pandas as pd\n",
    "import numpy as np"
   ]
  },
  {
   "cell_type": "code",
   "execution_count": null,
   "metadata": {},
   "outputs": [],
   "source": []
  },
  {
   "cell_type": "markdown",
   "metadata": {
    "scrolled": true
   },
   "source": [
    "#### Importing Machine Learning DataFrame"
   ]
  },
  {
   "cell_type": "code",
   "execution_count": 241,
   "metadata": {},
   "outputs": [],
   "source": [
    "machine_learning_md3_df.to_pickle('../pickle_jar/machine_learning_md3_df.p')"
   ]
  },
  {
   "cell_type": "code",
   "execution_count": 3,
   "metadata": {},
   "outputs": [],
   "source": [
    "machine_learning_md3_df = pd.read_pickle('../pickle_jar/machine_learning_md3_df.p')"
   ]
  },
  {
   "cell_type": "code",
   "execution_count": 4,
   "metadata": {},
   "outputs": [
    {
     "data": {
      "text/html": [
       "<div>\n",
       "<table border=\"1\" class=\"dataframe\">\n",
       "  <thead>\n",
       "    <tr style=\"text-align: right;\">\n",
       "      <th></th>\n",
       "      <th>ns</th>\n",
       "      <th>pageid</th>\n",
       "      <th>title</th>\n",
       "      <th>Category</th>\n",
       "      <th>Text</th>\n",
       "    </tr>\n",
       "  </thead>\n",
       "  <tbody>\n",
       "    <tr>\n",
       "      <th>1527</th>\n",
       "      <td>0</td>\n",
       "      <td>11273721</td>\n",
       "      <td>Hierarchical temporal memory</td>\n",
       "      <td>Machine Learning</td>\n",
       "      <td>Hierarchical temporal memory HTM is a biologic...</td>\n",
       "    </tr>\n",
       "    <tr>\n",
       "      <th>1528</th>\n",
       "      <td>0</td>\n",
       "      <td>33742232</td>\n",
       "      <td>Restricted Boltzmann machine</td>\n",
       "      <td>Machine Learning</td>\n",
       "      <td>A restricted Boltzmann machine RBM is a genera...</td>\n",
       "    </tr>\n",
       "    <tr>\n",
       "      <th>1529</th>\n",
       "      <td>0</td>\n",
       "      <td>76996</td>\n",
       "      <td>Self-organizing map</td>\n",
       "      <td>Machine Learning</td>\n",
       "      <td>A selforganizing map SOM or selforganizing fea...</td>\n",
       "    </tr>\n",
       "    <tr>\n",
       "      <th>1530</th>\n",
       "      <td>0</td>\n",
       "      <td>48813654</td>\n",
       "      <td>Sparse dictionary learning</td>\n",
       "      <td>Machine Learning</td>\n",
       "      <td>Sparse dictionary learning is a representation...</td>\n",
       "    </tr>\n",
       "    <tr>\n",
       "      <th>1531</th>\n",
       "      <td>0</td>\n",
       "      <td>47805</td>\n",
       "      <td>Vector quantization</td>\n",
       "      <td>Machine Learning</td>\n",
       "      <td>Vector quantization VQ is a classical quantiza...</td>\n",
       "    </tr>\n",
       "  </tbody>\n",
       "</table>\n",
       "</div>"
      ],
      "text/plain": [
       "      ns    pageid                         title          Category  \\\n",
       "1527   0  11273721  Hierarchical temporal memory  Machine Learning   \n",
       "1528   0  33742232  Restricted Boltzmann machine  Machine Learning   \n",
       "1529   0     76996           Self-organizing map  Machine Learning   \n",
       "1530   0  48813654    Sparse dictionary learning  Machine Learning   \n",
       "1531   0     47805           Vector quantization  Machine Learning   \n",
       "\n",
       "                                                   Text  \n",
       "1527  Hierarchical temporal memory HTM is a biologic...  \n",
       "1528  A restricted Boltzmann machine RBM is a genera...  \n",
       "1529  A selforganizing map SOM or selforganizing fea...  \n",
       "1530  Sparse dictionary learning is a representation...  \n",
       "1531  Vector quantization VQ is a classical quantiza...  "
      ]
     },
     "execution_count": 4,
     "metadata": {},
     "output_type": "execute_result"
    }
   ],
   "source": [
    "machine_learning_md3_df.tail()"
   ]
  },
  {
   "cell_type": "code",
   "execution_count": 5,
   "metadata": {},
   "outputs": [
    {
     "data": {
      "text/html": [
       "<div>\n",
       "<table border=\"1\" class=\"dataframe\">\n",
       "  <thead>\n",
       "    <tr style=\"text-align: right;\">\n",
       "      <th></th>\n",
       "      <th>ns</th>\n",
       "      <th>pageid</th>\n",
       "      <th>title</th>\n",
       "      <th>Category</th>\n",
       "      <th>Text</th>\n",
       "    </tr>\n",
       "  </thead>\n",
       "  <tbody>\n",
       "    <tr>\n",
       "      <th>0</th>\n",
       "      <td>0</td>\n",
       "      <td>43385931</td>\n",
       "      <td>Data exploration</td>\n",
       "      <td>Machine Learning</td>\n",
       "      <td>Data exploration is an approach similar to ini...</td>\n",
       "    </tr>\n",
       "    <tr>\n",
       "      <th>1</th>\n",
       "      <td>0</td>\n",
       "      <td>49082762</td>\n",
       "      <td>List of datasets for machine learning research</td>\n",
       "      <td>Machine Learning</td>\n",
       "      <td>These datasets are used for machinelearning re...</td>\n",
       "    </tr>\n",
       "    <tr>\n",
       "      <th>2</th>\n",
       "      <td>0</td>\n",
       "      <td>233488</td>\n",
       "      <td>Machine learning</td>\n",
       "      <td>Machine Learning</td>\n",
       "      <td>Machine learning is a field of computer scienc...</td>\n",
       "    </tr>\n",
       "    <tr>\n",
       "      <th>3</th>\n",
       "      <td>0</td>\n",
       "      <td>53587467</td>\n",
       "      <td>Outline of machine learning</td>\n",
       "      <td>Machine Learning</td>\n",
       "      <td>The following outline is provided as an overvi...</td>\n",
       "    </tr>\n",
       "    <tr>\n",
       "      <th>4</th>\n",
       "      <td>0</td>\n",
       "      <td>3771060</td>\n",
       "      <td>Accuracy paradox</td>\n",
       "      <td>Machine Learning</td>\n",
       "      <td>The accuracy paradox for predictive analytics ...</td>\n",
       "    </tr>\n",
       "  </tbody>\n",
       "</table>\n",
       "</div>"
      ],
      "text/plain": [
       "   ns    pageid                                           title  \\\n",
       "0   0  43385931                                Data exploration   \n",
       "1   0  49082762  List of datasets for machine learning research   \n",
       "2   0    233488                                Machine learning   \n",
       "3   0  53587467                     Outline of machine learning   \n",
       "4   0   3771060                                Accuracy paradox   \n",
       "\n",
       "           Category                                               Text  \n",
       "0  Machine Learning  Data exploration is an approach similar to ini...  \n",
       "1  Machine Learning  These datasets are used for machinelearning re...  \n",
       "2  Machine Learning  Machine learning is a field of computer scienc...  \n",
       "3  Machine Learning  The following outline is provided as an overvi...  \n",
       "4  Machine Learning  The accuracy paradox for predictive analytics ...  "
      ]
     },
     "execution_count": 5,
     "metadata": {},
     "output_type": "execute_result"
    }
   ],
   "source": [
    "# machine_learning_md3_df['Text'][177] = get_page_contents(1579244)\n",
    "machine_learning_md3_df.head()"
   ]
  },
  {
   "cell_type": "markdown",
   "metadata": {},
   "source": [
    "#### Importing Business Software Dataframe"
   ]
  },
  {
   "cell_type": "code",
   "execution_count": 11,
   "metadata": {},
   "outputs": [
    {
     "data": {
      "text/plain": [
       "(4121, 5)"
      ]
     },
     "execution_count": 11,
     "metadata": {},
     "output_type": "execute_result"
    }
   ],
   "source": [
    "business_software_md3_df.shape"
   ]
  },
  {
   "cell_type": "code",
   "execution_count": 7,
   "metadata": {},
   "outputs": [
    {
     "data": {
      "text/html": [
       "<div>\n",
       "<table border=\"1\" class=\"dataframe\">\n",
       "  <thead>\n",
       "    <tr style=\"text-align: right;\">\n",
       "      <th></th>\n",
       "      <th>ns</th>\n",
       "      <th>pageid</th>\n",
       "      <th>title</th>\n",
       "      <th>Category</th>\n",
       "      <th>Text</th>\n",
       "    </tr>\n",
       "  </thead>\n",
       "  <tbody>\n",
       "    <tr>\n",
       "      <th>4116</th>\n",
       "      <td>0</td>\n",
       "      <td>1577008</td>\n",
       "      <td>Ted (word processor)</td>\n",
       "      <td>Business Software</td>\n",
       "      <td>Ted is a word processor for the X Window Syste...</td>\n",
       "    </tr>\n",
       "    <tr>\n",
       "      <th>4117</th>\n",
       "      <td>0</td>\n",
       "      <td>37628014</td>\n",
       "      <td>Thorn EMI Liberator</td>\n",
       "      <td>Business Software</td>\n",
       "      <td>The Thorn EMI Liberator was a laptop word proc...</td>\n",
       "    </tr>\n",
       "    <tr>\n",
       "      <th>4118</th>\n",
       "      <td>0</td>\n",
       "      <td>34306381</td>\n",
       "      <td>Trelby</td>\n",
       "      <td>Business Software</td>\n",
       "      <td>Trelby is a free and open source screenwriting...</td>\n",
       "    </tr>\n",
       "    <tr>\n",
       "      <th>4119</th>\n",
       "      <td>0</td>\n",
       "      <td>29902828</td>\n",
       "      <td>Word Juggler</td>\n",
       "      <td>Business Software</td>\n",
       "      <td>Word Juggler was a word processor application ...</td>\n",
       "    </tr>\n",
       "    <tr>\n",
       "      <th>4120</th>\n",
       "      <td>0</td>\n",
       "      <td>826279</td>\n",
       "      <td>WordMARC</td>\n",
       "      <td>Business Software</td>\n",
       "      <td>WordMARC was a scientifically oriented word pr...</td>\n",
       "    </tr>\n",
       "  </tbody>\n",
       "</table>\n",
       "</div>"
      ],
      "text/plain": [
       "      ns    pageid                 title           Category  \\\n",
       "4116   0   1577008  Ted (word processor)  Business Software   \n",
       "4117   0  37628014   Thorn EMI Liberator  Business Software   \n",
       "4118   0  34306381                Trelby  Business Software   \n",
       "4119   0  29902828          Word Juggler  Business Software   \n",
       "4120   0    826279              WordMARC  Business Software   \n",
       "\n",
       "                                                   Text  \n",
       "4116  Ted is a word processor for the X Window Syste...  \n",
       "4117  The Thorn EMI Liberator was a laptop word proc...  \n",
       "4118  Trelby is a free and open source screenwriting...  \n",
       "4119  Word Juggler was a word processor application ...  \n",
       "4120  WordMARC was a scientifically oriented word pr...  "
      ]
     },
     "execution_count": 7,
     "metadata": {},
     "output_type": "execute_result"
    }
   ],
   "source": [
    "business_software_md3_df.tail()"
   ]
  },
  {
   "cell_type": "code",
   "execution_count": 9,
   "metadata": {},
   "outputs": [],
   "source": [
    "business_software_md3_df.to_pickle('../pickle_jar/business_software_md3_df.p')\n",
    "\n",
    "###this DF contains ~4120 articles."
   ]
  },
  {
   "cell_type": "code",
   "execution_count": 6,
   "metadata": {},
   "outputs": [],
   "source": [
    "business_software_md3_df = pd.read_pickle('../pickle_jar/business_software_md3_df.p')"
   ]
  },
  {
   "cell_type": "code",
   "execution_count": 314,
   "metadata": {},
   "outputs": [],
   "source": [
    "bs_dict = business_software_md3_df.to_dict('list')"
   ]
  },
  {
   "cell_type": "markdown",
   "metadata": {},
   "source": [
    "### Combining both dataframes into 1\n"
   ]
  },
  {
   "cell_type": "code",
   "execution_count": 8,
   "metadata": {},
   "outputs": [
    {
     "data": {
      "text/html": [
       "<div>\n",
       "<table border=\"1\" class=\"dataframe\">\n",
       "  <thead>\n",
       "    <tr style=\"text-align: right;\">\n",
       "      <th></th>\n",
       "      <th>ns</th>\n",
       "      <th>pageid</th>\n",
       "      <th>title</th>\n",
       "      <th>Category</th>\n",
       "      <th>Text</th>\n",
       "    </tr>\n",
       "  </thead>\n",
       "  <tbody>\n",
       "    <tr>\n",
       "      <th>6116</th>\n",
       "      <td>0</td>\n",
       "      <td>1577008</td>\n",
       "      <td>Ted (word processor)</td>\n",
       "      <td>Business Software</td>\n",
       "      <td>Ted is a word processor for the X Window Syste...</td>\n",
       "    </tr>\n",
       "    <tr>\n",
       "      <th>6117</th>\n",
       "      <td>0</td>\n",
       "      <td>37628014</td>\n",
       "      <td>Thorn EMI Liberator</td>\n",
       "      <td>Business Software</td>\n",
       "      <td>The Thorn EMI Liberator was a laptop word proc...</td>\n",
       "    </tr>\n",
       "    <tr>\n",
       "      <th>6118</th>\n",
       "      <td>0</td>\n",
       "      <td>34306381</td>\n",
       "      <td>Trelby</td>\n",
       "      <td>Business Software</td>\n",
       "      <td>Trelby is a free and open source screenwriting...</td>\n",
       "    </tr>\n",
       "    <tr>\n",
       "      <th>6119</th>\n",
       "      <td>0</td>\n",
       "      <td>29902828</td>\n",
       "      <td>Word Juggler</td>\n",
       "      <td>Business Software</td>\n",
       "      <td>Word Juggler was a word processor application ...</td>\n",
       "    </tr>\n",
       "    <tr>\n",
       "      <th>6120</th>\n",
       "      <td>0</td>\n",
       "      <td>826279</td>\n",
       "      <td>WordMARC</td>\n",
       "      <td>Business Software</td>\n",
       "      <td>WordMARC was a scientifically oriented word pr...</td>\n",
       "    </tr>\n",
       "  </tbody>\n",
       "</table>\n",
       "</div>"
      ],
      "text/plain": [
       "      ns    pageid                 title           Category  \\\n",
       "6116   0   1577008  Ted (word processor)  Business Software   \n",
       "6117   0  37628014   Thorn EMI Liberator  Business Software   \n",
       "6118   0  34306381                Trelby  Business Software   \n",
       "6119   0  29902828          Word Juggler  Business Software   \n",
       "6120   0    826279              WordMARC  Business Software   \n",
       "\n",
       "                                                   Text  \n",
       "6116  Ted is a word processor for the X Window Syste...  \n",
       "6117  The Thorn EMI Liberator was a laptop word proc...  \n",
       "6118  Trelby is a free and open source screenwriting...  \n",
       "6119  Word Juggler was a word processor application ...  \n",
       "6120  WordMARC was a scientifically oriented word pr...  "
      ]
     },
     "execution_count": 8,
     "metadata": {},
     "output_type": "execute_result"
    }
   ],
   "source": [
    "###creating new indexes in order to concatenate\n",
    "\n",
    "bs_index_new_list = []\n",
    "for i in range(2000, 6121):\n",
    "    bs_index_new_list.append(i)\n",
    "    \n",
    "business_software_md3_df.index = bs_index_new_list\n",
    "\n",
    "\n",
    "business_software_md3_df.tail()"
   ]
  },
  {
   "cell_type": "code",
   "execution_count": null,
   "metadata": {},
   "outputs": [],
   "source": []
  },
  {
   "cell_type": "code",
   "execution_count": 10,
   "metadata": {},
   "outputs": [
    {
     "data": {
      "text/html": [
       "<div>\n",
       "<table border=\"1\" class=\"dataframe\">\n",
       "  <thead>\n",
       "    <tr style=\"text-align: right;\">\n",
       "      <th></th>\n",
       "      <th>ns</th>\n",
       "      <th>pageid</th>\n",
       "      <th>title</th>\n",
       "      <th>Category</th>\n",
       "      <th>Text</th>\n",
       "    </tr>\n",
       "  </thead>\n",
       "  <tbody>\n",
       "    <tr>\n",
       "      <th>0</th>\n",
       "      <td>0</td>\n",
       "      <td>43385931</td>\n",
       "      <td>Data exploration</td>\n",
       "      <td>Machine Learning</td>\n",
       "      <td>Data exploration is an approach similar to ini...</td>\n",
       "    </tr>\n",
       "    <tr>\n",
       "      <th>1</th>\n",
       "      <td>0</td>\n",
       "      <td>49082762</td>\n",
       "      <td>List of datasets for machine learning research</td>\n",
       "      <td>Machine Learning</td>\n",
       "      <td>These datasets are used for machinelearning re...</td>\n",
       "    </tr>\n",
       "    <tr>\n",
       "      <th>2</th>\n",
       "      <td>0</td>\n",
       "      <td>233488</td>\n",
       "      <td>Machine learning</td>\n",
       "      <td>Machine Learning</td>\n",
       "      <td>Machine learning is a field of computer scienc...</td>\n",
       "    </tr>\n",
       "    <tr>\n",
       "      <th>3</th>\n",
       "      <td>0</td>\n",
       "      <td>53587467</td>\n",
       "      <td>Outline of machine learning</td>\n",
       "      <td>Machine Learning</td>\n",
       "      <td>The following outline is provided as an overvi...</td>\n",
       "    </tr>\n",
       "    <tr>\n",
       "      <th>4</th>\n",
       "      <td>0</td>\n",
       "      <td>3771060</td>\n",
       "      <td>Accuracy paradox</td>\n",
       "      <td>Machine Learning</td>\n",
       "      <td>The accuracy paradox for predictive analytics ...</td>\n",
       "    </tr>\n",
       "  </tbody>\n",
       "</table>\n",
       "</div>"
      ],
      "text/plain": [
       "   ns    pageid                                           title  \\\n",
       "0   0  43385931                                Data exploration   \n",
       "1   0  49082762  List of datasets for machine learning research   \n",
       "2   0    233488                                Machine learning   \n",
       "3   0  53587467                     Outline of machine learning   \n",
       "4   0   3771060                                Accuracy paradox   \n",
       "\n",
       "           Category                                               Text  \n",
       "0  Machine Learning  Data exploration is an approach similar to ini...  \n",
       "1  Machine Learning  These datasets are used for machinelearning re...  \n",
       "2  Machine Learning  Machine learning is a field of computer scienc...  \n",
       "3  Machine Learning  The following outline is provided as an overvi...  \n",
       "4  Machine Learning  The accuracy paradox for predictive analytics ...  "
      ]
     },
     "execution_count": 10,
     "metadata": {},
     "output_type": "execute_result"
    }
   ],
   "source": [
    "dataframes = [machine_learning_md3_df, business_software_md3_df]\n",
    "corpus = pd.concat(dataframes)\n",
    "corpus.head()"
   ]
  },
  {
   "cell_type": "code",
   "execution_count": 5,
   "metadata": {},
   "outputs": [
    {
     "data": {
      "text/plain": [
       "(5653, 6)"
      ]
     },
     "execution_count": 5,
     "metadata": {},
     "output_type": "execute_result"
    }
   ],
   "source": [
    "corpus.shape\n",
    "## (5653, 6) is good"
   ]
  },
  {
   "cell_type": "code",
   "execution_count": 16,
   "metadata": {},
   "outputs": [],
   "source": [
    "corpus.to_pickle('../pickle_jar/corpus.p')"
   ]
  },
  {
   "cell_type": "code",
   "execution_count": 4,
   "metadata": {},
   "outputs": [],
   "source": [
    "corpus = pd.read_pickle('../pickle_jar/corpus.p')"
   ]
  },
  {
   "cell_type": "code",
   "execution_count": 6,
   "metadata": {},
   "outputs": [
    {
     "data": {
      "text/html": [
       "<div>\n",
       "<table border=\"1\" class=\"dataframe\">\n",
       "  <thead>\n",
       "    <tr style=\"text-align: right;\">\n",
       "      <th></th>\n",
       "      <th>ns</th>\n",
       "      <th>pageid</th>\n",
       "      <th>title</th>\n",
       "      <th>Category</th>\n",
       "      <th>Text</th>\n",
       "      <th>Text_numerical</th>\n",
       "    </tr>\n",
       "  </thead>\n",
       "  <tbody>\n",
       "    <tr>\n",
       "      <th>0</th>\n",
       "      <td>0</td>\n",
       "      <td>43385931</td>\n",
       "      <td>Data exploration</td>\n",
       "      <td>Machine Learning</td>\n",
       "      <td>Data exploration is an approach similar to ini...</td>\n",
       "      <td>922</td>\n",
       "    </tr>\n",
       "    <tr>\n",
       "      <th>1</th>\n",
       "      <td>0</td>\n",
       "      <td>49082762</td>\n",
       "      <td>List of datasets for machine learning research</td>\n",
       "      <td>Machine Learning</td>\n",
       "      <td>These datasets are used for machinelearning re...</td>\n",
       "      <td>3624</td>\n",
       "    </tr>\n",
       "    <tr>\n",
       "      <th>2</th>\n",
       "      <td>0</td>\n",
       "      <td>233488</td>\n",
       "      <td>Machine learning</td>\n",
       "      <td>Machine Learning</td>\n",
       "      <td>Machine learning is a field of computer scienc...</td>\n",
       "      <td>2112</td>\n",
       "    </tr>\n",
       "    <tr>\n",
       "      <th>3</th>\n",
       "      <td>0</td>\n",
       "      <td>53587467</td>\n",
       "      <td>Outline of machine learning</td>\n",
       "      <td>Machine Learning</td>\n",
       "      <td>The following outline is provided as an overvi...</td>\n",
       "      <td>3549</td>\n",
       "    </tr>\n",
       "    <tr>\n",
       "      <th>4</th>\n",
       "      <td>0</td>\n",
       "      <td>3771060</td>\n",
       "      <td>Accuracy paradox</td>\n",
       "      <td>Machine Learning</td>\n",
       "      <td>The accuracy paradox for predictive analytics ...</td>\n",
       "      <td>3512</td>\n",
       "    </tr>\n",
       "  </tbody>\n",
       "</table>\n",
       "</div>"
      ],
      "text/plain": [
       "   ns    pageid                                           title  \\\n",
       "0   0  43385931                                Data exploration   \n",
       "1   0  49082762  List of datasets for machine learning research   \n",
       "2   0    233488                                Machine learning   \n",
       "3   0  53587467                     Outline of machine learning   \n",
       "4   0   3771060                                Accuracy paradox   \n",
       "\n",
       "           Category                                               Text  \\\n",
       "0  Machine Learning  Data exploration is an approach similar to ini...   \n",
       "1  Machine Learning  These datasets are used for machinelearning re...   \n",
       "2  Machine Learning  Machine learning is a field of computer scienc...   \n",
       "3  Machine Learning  The following outline is provided as an overvi...   \n",
       "4  Machine Learning  The accuracy paradox for predictive analytics ...   \n",
       "\n",
       "   Text_numerical  \n",
       "0             922  \n",
       "1            3624  \n",
       "2            2112  \n",
       "3            3549  \n",
       "4            3512  "
      ]
     },
     "execution_count": 6,
     "metadata": {},
     "output_type": "execute_result"
    }
   ],
   "source": []
  },
  {
   "cell_type": "markdown",
   "metadata": {},
   "source": [
    "#### Label Encode the Articles `'text'`, just to see the # of words in each article"
   ]
  },
  {
   "cell_type": "code",
   "execution_count": 13,
   "metadata": {},
   "outputs": [],
   "source": [
    "from sklearn.preprocessing import LabelEncoder"
   ]
  },
  {
   "cell_type": "code",
   "execution_count": 14,
   "metadata": {},
   "outputs": [],
   "source": [
    "le = LabelEncoder()\n",
    "corpus['Text_numerical'] = le.fit_transform(corpus['Text'])"
   ]
  },
  {
   "cell_type": "code",
   "execution_count": 15,
   "metadata": {},
   "outputs": [
    {
     "data": {
      "text/html": [
       "<div>\n",
       "<table border=\"1\" class=\"dataframe\">\n",
       "  <thead>\n",
       "    <tr style=\"text-align: right;\">\n",
       "      <th></th>\n",
       "      <th>ns</th>\n",
       "      <th>pageid</th>\n",
       "      <th>title</th>\n",
       "      <th>Category</th>\n",
       "      <th>Text</th>\n",
       "      <th>Text_numerical</th>\n",
       "    </tr>\n",
       "  </thead>\n",
       "  <tbody>\n",
       "    <tr>\n",
       "      <th>6116</th>\n",
       "      <td>0</td>\n",
       "      <td>1577008</td>\n",
       "      <td>Ted (word processor)</td>\n",
       "      <td>Business Software</td>\n",
       "      <td>Ted is a word processor for the X Window Syste...</td>\n",
       "      <td>3280</td>\n",
       "    </tr>\n",
       "    <tr>\n",
       "      <th>6117</th>\n",
       "      <td>0</td>\n",
       "      <td>37628014</td>\n",
       "      <td>Thorn EMI Liberator</td>\n",
       "      <td>Business Software</td>\n",
       "      <td>The Thorn EMI Liberator was a laptop word proc...</td>\n",
       "      <td>3491</td>\n",
       "    </tr>\n",
       "    <tr>\n",
       "      <th>6118</th>\n",
       "      <td>0</td>\n",
       "      <td>34306381</td>\n",
       "      <td>Trelby</td>\n",
       "      <td>Business Software</td>\n",
       "      <td>Trelby is a free and open source screenwriting...</td>\n",
       "      <td>3724</td>\n",
       "    </tr>\n",
       "    <tr>\n",
       "      <th>6119</th>\n",
       "      <td>0</td>\n",
       "      <td>29902828</td>\n",
       "      <td>Word Juggler</td>\n",
       "      <td>Business Software</td>\n",
       "      <td>Word Juggler was a word processor application ...</td>\n",
       "      <td>3902</td>\n",
       "    </tr>\n",
       "    <tr>\n",
       "      <th>6120</th>\n",
       "      <td>0</td>\n",
       "      <td>826279</td>\n",
       "      <td>WordMARC</td>\n",
       "      <td>Business Software</td>\n",
       "      <td>WordMARC was a scientifically oriented word pr...</td>\n",
       "      <td>3905</td>\n",
       "    </tr>\n",
       "  </tbody>\n",
       "</table>\n",
       "</div>"
      ],
      "text/plain": [
       "      ns    pageid                 title           Category  \\\n",
       "6116   0   1577008  Ted (word processor)  Business Software   \n",
       "6117   0  37628014   Thorn EMI Liberator  Business Software   \n",
       "6118   0  34306381                Trelby  Business Software   \n",
       "6119   0  29902828          Word Juggler  Business Software   \n",
       "6120   0    826279              WordMARC  Business Software   \n",
       "\n",
       "                                                   Text  Text_numerical  \n",
       "6116  Ted is a word processor for the X Window Syste...            3280  \n",
       "6117  The Thorn EMI Liberator was a laptop word proc...            3491  \n",
       "6118  Trelby is a free and open source screenwriting...            3724  \n",
       "6119  Word Juggler was a word processor application ...            3902  \n",
       "6120  WordMARC was a scientifically oriented word pr...            3905  "
      ]
     },
     "execution_count": 15,
     "metadata": {},
     "output_type": "execute_result"
    }
   ],
   "source": [
    "corpus.tail()"
   ]
  },
  {
   "cell_type": "code",
   "execution_count": null,
   "metadata": {},
   "outputs": [],
   "source": []
  },
  {
   "cell_type": "markdown",
   "metadata": {},
   "source": [
    "### Text Vectorize the `corpus`"
   ]
  },
  {
   "cell_type": "code",
   "execution_count": 7,
   "metadata": {},
   "outputs": [],
   "source": [
    "from sklearn.feature_extraction.text import TfidfVectorizer"
   ]
  },
  {
   "cell_type": "code",
   "execution_count": 8,
   "metadata": {},
   "outputs": [],
   "source": [
    "tfidf_vectorizer = TfidfVectorizer(min_df = 1, stop_words = 'english')"
   ]
  },
  {
   "cell_type": "code",
   "execution_count": 9,
   "metadata": {},
   "outputs": [],
   "source": [
    "document_term_matrix_sps = tfidf_vectorizer.fit_transform(corpus.Text)"
   ]
  },
  {
   "cell_type": "code",
   "execution_count": 10,
   "metadata": {},
   "outputs": [
    {
     "data": {
      "text/plain": [
       "<5653x97117 sparse matrix of type '<class 'numpy.float64'>'\n",
       "\twith 1342211 stored elements in Compressed Sparse Row format>"
      ]
     },
     "execution_count": 10,
     "metadata": {},
     "output_type": "execute_result"
    }
   ],
   "source": [
    "document_term_matrix_sps"
   ]
  },
  {
   "cell_type": "code",
   "execution_count": 12,
   "metadata": {},
   "outputs": [
    {
     "data": {
      "text/html": [
       "<div>\n",
       "<table border=\"1\" class=\"dataframe\">\n",
       "  <thead>\n",
       "    <tr style=\"text-align: right;\">\n",
       "      <th></th>\n",
       "      <th>00</th>\n",
       "      <th>000</th>\n",
       "      <th>000001</th>\n",
       "      <th>00001</th>\n",
       "      <th>0001</th>\n",
       "      <th>00010782</th>\n",
       "      <th>000198</th>\n",
       "      <th>000198ttt01584tft000198ttt0288ttf01584tft00tfffrac</th>\n",
       "      <th>0001l</th>\n",
       "      <th>0002</th>\n",
       "      <th>...</th>\n",
       "      <th>高橋書店ゲーム攻略本シリーズ</th>\n",
       "      <th>사이버메드</th>\n",
       "      <th>자이오넥스</th>\n",
       "      <th>훈민정음</th>\n",
       "      <th>ﬁnitelength</th>\n",
       "      <th>ﬂexibility</th>\n",
       "      <th>ﬂock</th>\n",
       "      <th>ﬂocking</th>\n",
       "      <th>ﬂow</th>\n",
       "      <th>ａ列車で行こうｍｄ</th>\n",
       "    </tr>\n",
       "  </thead>\n",
       "  <tbody>\n",
       "    <tr>\n",
       "      <th>0</th>\n",
       "      <td>0.0</td>\n",
       "      <td>0.0</td>\n",
       "      <td>0.0</td>\n",
       "      <td>0.0</td>\n",
       "      <td>0.0</td>\n",
       "      <td>0.0</td>\n",
       "      <td>0.0</td>\n",
       "      <td>0.0</td>\n",
       "      <td>0.0</td>\n",
       "      <td>0.0</td>\n",
       "      <td>...</td>\n",
       "      <td>0.0</td>\n",
       "      <td>0.0</td>\n",
       "      <td>0.0</td>\n",
       "      <td>0.0</td>\n",
       "      <td>0.0</td>\n",
       "      <td>0.0</td>\n",
       "      <td>0.0</td>\n",
       "      <td>0.0</td>\n",
       "      <td>0.0</td>\n",
       "      <td>0.0</td>\n",
       "    </tr>\n",
       "    <tr>\n",
       "      <th>1</th>\n",
       "      <td>0.0</td>\n",
       "      <td>0.0</td>\n",
       "      <td>0.0</td>\n",
       "      <td>0.0</td>\n",
       "      <td>0.0</td>\n",
       "      <td>0.0</td>\n",
       "      <td>0.0</td>\n",
       "      <td>0.0</td>\n",
       "      <td>0.0</td>\n",
       "      <td>0.0</td>\n",
       "      <td>...</td>\n",
       "      <td>0.0</td>\n",
       "      <td>0.0</td>\n",
       "      <td>0.0</td>\n",
       "      <td>0.0</td>\n",
       "      <td>0.0</td>\n",
       "      <td>0.0</td>\n",
       "      <td>0.0</td>\n",
       "      <td>0.0</td>\n",
       "      <td>0.0</td>\n",
       "      <td>0.0</td>\n",
       "    </tr>\n",
       "    <tr>\n",
       "      <th>2</th>\n",
       "      <td>0.0</td>\n",
       "      <td>0.0</td>\n",
       "      <td>0.0</td>\n",
       "      <td>0.0</td>\n",
       "      <td>0.0</td>\n",
       "      <td>0.0</td>\n",
       "      <td>0.0</td>\n",
       "      <td>0.0</td>\n",
       "      <td>0.0</td>\n",
       "      <td>0.0</td>\n",
       "      <td>...</td>\n",
       "      <td>0.0</td>\n",
       "      <td>0.0</td>\n",
       "      <td>0.0</td>\n",
       "      <td>0.0</td>\n",
       "      <td>0.0</td>\n",
       "      <td>0.0</td>\n",
       "      <td>0.0</td>\n",
       "      <td>0.0</td>\n",
       "      <td>0.0</td>\n",
       "      <td>0.0</td>\n",
       "    </tr>\n",
       "    <tr>\n",
       "      <th>3</th>\n",
       "      <td>0.0</td>\n",
       "      <td>0.0</td>\n",
       "      <td>0.0</td>\n",
       "      <td>0.0</td>\n",
       "      <td>0.0</td>\n",
       "      <td>0.0</td>\n",
       "      <td>0.0</td>\n",
       "      <td>0.0</td>\n",
       "      <td>0.0</td>\n",
       "      <td>0.0</td>\n",
       "      <td>...</td>\n",
       "      <td>0.0</td>\n",
       "      <td>0.0</td>\n",
       "      <td>0.0</td>\n",
       "      <td>0.0</td>\n",
       "      <td>0.0</td>\n",
       "      <td>0.0</td>\n",
       "      <td>0.0</td>\n",
       "      <td>0.0</td>\n",
       "      <td>0.0</td>\n",
       "      <td>0.0</td>\n",
       "    </tr>\n",
       "    <tr>\n",
       "      <th>4</th>\n",
       "      <td>0.0</td>\n",
       "      <td>0.0</td>\n",
       "      <td>0.0</td>\n",
       "      <td>0.0</td>\n",
       "      <td>0.0</td>\n",
       "      <td>0.0</td>\n",
       "      <td>0.0</td>\n",
       "      <td>0.0</td>\n",
       "      <td>0.0</td>\n",
       "      <td>0.0</td>\n",
       "      <td>...</td>\n",
       "      <td>0.0</td>\n",
       "      <td>0.0</td>\n",
       "      <td>0.0</td>\n",
       "      <td>0.0</td>\n",
       "      <td>0.0</td>\n",
       "      <td>0.0</td>\n",
       "      <td>0.0</td>\n",
       "      <td>0.0</td>\n",
       "      <td>0.0</td>\n",
       "      <td>0.0</td>\n",
       "    </tr>\n",
       "  </tbody>\n",
       "</table>\n",
       "<p>5 rows × 97117 columns</p>\n",
       "</div>"
      ],
      "text/plain": [
       "    00  000  000001  00001  0001  00010782  000198  \\\n",
       "0  0.0  0.0     0.0    0.0   0.0       0.0     0.0   \n",
       "1  0.0  0.0     0.0    0.0   0.0       0.0     0.0   \n",
       "2  0.0  0.0     0.0    0.0   0.0       0.0     0.0   \n",
       "3  0.0  0.0     0.0    0.0   0.0       0.0     0.0   \n",
       "4  0.0  0.0     0.0    0.0   0.0       0.0     0.0   \n",
       "\n",
       "   000198ttt01584tft000198ttt0288ttf01584tft00tfffrac  0001l  0002    ...      \\\n",
       "0                                                0.0     0.0   0.0    ...       \n",
       "1                                                0.0     0.0   0.0    ...       \n",
       "2                                                0.0     0.0   0.0    ...       \n",
       "3                                                0.0     0.0   0.0    ...       \n",
       "4                                                0.0     0.0   0.0    ...       \n",
       "\n",
       "   高橋書店ゲーム攻略本シリーズ  사이버메드  자이오넥스  훈민정음  ﬁnitelength  ﬂexibility  ﬂock  ﬂocking  \\\n",
       "0             0.0    0.0    0.0   0.0          0.0         0.0   0.0      0.0   \n",
       "1             0.0    0.0    0.0   0.0          0.0         0.0   0.0      0.0   \n",
       "2             0.0    0.0    0.0   0.0          0.0         0.0   0.0      0.0   \n",
       "3             0.0    0.0    0.0   0.0          0.0         0.0   0.0      0.0   \n",
       "4             0.0    0.0    0.0   0.0          0.0         0.0   0.0      0.0   \n",
       "\n",
       "   ﬂow  ａ列車で行こうｍｄ  \n",
       "0  0.0        0.0  \n",
       "1  0.0        0.0  \n",
       "2  0.0        0.0  \n",
       "3  0.0        0.0  \n",
       "4  0.0        0.0  \n",
       "\n",
       "[5 rows x 97117 columns]"
      ]
     },
     "execution_count": 12,
     "metadata": {},
     "output_type": "execute_result"
    }
   ],
   "source": [
    "document_term_matrix_df = pd.DataFrame(document_term_matrix_sps.toarray(),\n",
    "                                       index=corpus.index,\n",
    "                                       columns=tfidf_vectorizer.get_feature_names())\n",
    "\n",
    "document_term_matrix_df.head()"
   ]
  },
  {
   "cell_type": "code",
   "execution_count": 13,
   "metadata": {},
   "outputs": [
    {
     "data": {
      "text/html": [
       "<div>\n",
       "<table border=\"1\" class=\"dataframe\">\n",
       "  <thead>\n",
       "    <tr style=\"text-align: right;\">\n",
       "      <th></th>\n",
       "      <th>Text</th>\n",
       "      <th>00</th>\n",
       "      <th>000</th>\n",
       "      <th>000001</th>\n",
       "      <th>00001</th>\n",
       "      <th>0001</th>\n",
       "      <th>00010782</th>\n",
       "      <th>000198</th>\n",
       "      <th>000198ttt01584tft000198ttt0288ttf01584tft00tfffrac</th>\n",
       "      <th>0001l</th>\n",
       "      <th>...</th>\n",
       "      <th>高橋書店ゲーム攻略本シリーズ</th>\n",
       "      <th>사이버메드</th>\n",
       "      <th>자이오넥스</th>\n",
       "      <th>훈민정음</th>\n",
       "      <th>ﬁnitelength</th>\n",
       "      <th>ﬂexibility</th>\n",
       "      <th>ﬂock</th>\n",
       "      <th>ﬂocking</th>\n",
       "      <th>ﬂow</th>\n",
       "      <th>ａ列車で行こうｍｄ</th>\n",
       "    </tr>\n",
       "  </thead>\n",
       "  <tbody>\n",
       "    <tr>\n",
       "      <th>4859</th>\n",
       "      <td>Swiftype is a software company based in San Fr...</td>\n",
       "      <td>0.0</td>\n",
       "      <td>0.0</td>\n",
       "      <td>0.0</td>\n",
       "      <td>0.0</td>\n",
       "      <td>0.0</td>\n",
       "      <td>0.0</td>\n",
       "      <td>0.0</td>\n",
       "      <td>0.0</td>\n",
       "      <td>0.0</td>\n",
       "      <td>...</td>\n",
       "      <td>0.0</td>\n",
       "      <td>0.0</td>\n",
       "      <td>0.0</td>\n",
       "      <td>0.0</td>\n",
       "      <td>0.0</td>\n",
       "      <td>0.0</td>\n",
       "      <td>0.0</td>\n",
       "      <td>0.0</td>\n",
       "      <td>0.0</td>\n",
       "      <td>0.0</td>\n",
       "    </tr>\n",
       "    <tr>\n",
       "      <th>5616</th>\n",
       "      <td>Splice is a cloudbased music creation and coll...</td>\n",
       "      <td>0.0</td>\n",
       "      <td>0.0</td>\n",
       "      <td>0.0</td>\n",
       "      <td>0.0</td>\n",
       "      <td>0.0</td>\n",
       "      <td>0.0</td>\n",
       "      <td>0.0</td>\n",
       "      <td>0.0</td>\n",
       "      <td>0.0</td>\n",
       "      <td>...</td>\n",
       "      <td>0.0</td>\n",
       "      <td>0.0</td>\n",
       "      <td>0.0</td>\n",
       "      <td>0.0</td>\n",
       "      <td>0.0</td>\n",
       "      <td>0.0</td>\n",
       "      <td>0.0</td>\n",
       "      <td>0.0</td>\n",
       "      <td>0.0</td>\n",
       "      <td>0.0</td>\n",
       "    </tr>\n",
       "    <tr>\n",
       "      <th>2317</th>\n",
       "      <td>An educational management information system E...</td>\n",
       "      <td>0.0</td>\n",
       "      <td>0.0</td>\n",
       "      <td>0.0</td>\n",
       "      <td>0.0</td>\n",
       "      <td>0.0</td>\n",
       "      <td>0.0</td>\n",
       "      <td>0.0</td>\n",
       "      <td>0.0</td>\n",
       "      <td>0.0</td>\n",
       "      <td>...</td>\n",
       "      <td>0.0</td>\n",
       "      <td>0.0</td>\n",
       "      <td>0.0</td>\n",
       "      <td>0.0</td>\n",
       "      <td>0.0</td>\n",
       "      <td>0.0</td>\n",
       "      <td>0.0</td>\n",
       "      <td>0.0</td>\n",
       "      <td>0.0</td>\n",
       "      <td>0.0</td>\n",
       "    </tr>\n",
       "    <tr>\n",
       "      <th>2719</th>\n",
       "      <td>Experticity is a Salt Lake City Utahbased comp...</td>\n",
       "      <td>0.0</td>\n",
       "      <td>0.0</td>\n",
       "      <td>0.0</td>\n",
       "      <td>0.0</td>\n",
       "      <td>0.0</td>\n",
       "      <td>0.0</td>\n",
       "      <td>0.0</td>\n",
       "      <td>0.0</td>\n",
       "      <td>0.0</td>\n",
       "      <td>...</td>\n",
       "      <td>0.0</td>\n",
       "      <td>0.0</td>\n",
       "      <td>0.0</td>\n",
       "      <td>0.0</td>\n",
       "      <td>0.0</td>\n",
       "      <td>0.0</td>\n",
       "      <td>0.0</td>\n",
       "      <td>0.0</td>\n",
       "      <td>0.0</td>\n",
       "      <td>0.0</td>\n",
       "    </tr>\n",
       "    <tr>\n",
       "      <th>1141</th>\n",
       "      <td>Raymond Bernard Cattell PhD DSc 20 March 1905 ...</td>\n",
       "      <td>0.0</td>\n",
       "      <td>0.0</td>\n",
       "      <td>0.0</td>\n",
       "      <td>0.0</td>\n",
       "      <td>0.0</td>\n",
       "      <td>0.0</td>\n",
       "      <td>0.0</td>\n",
       "      <td>0.0</td>\n",
       "      <td>0.0</td>\n",
       "      <td>...</td>\n",
       "      <td>0.0</td>\n",
       "      <td>0.0</td>\n",
       "      <td>0.0</td>\n",
       "      <td>0.0</td>\n",
       "      <td>0.0</td>\n",
       "      <td>0.0</td>\n",
       "      <td>0.0</td>\n",
       "      <td>0.0</td>\n",
       "      <td>0.0</td>\n",
       "      <td>0.0</td>\n",
       "    </tr>\n",
       "  </tbody>\n",
       "</table>\n",
       "<p>5 rows × 97118 columns</p>\n",
       "</div>"
      ],
      "text/plain": [
       "                                                   Text   00  000  000001  \\\n",
       "4859  Swiftype is a software company based in San Fr...  0.0  0.0     0.0   \n",
       "5616  Splice is a cloudbased music creation and coll...  0.0  0.0     0.0   \n",
       "2317  An educational management information system E...  0.0  0.0     0.0   \n",
       "2719  Experticity is a Salt Lake City Utahbased comp...  0.0  0.0     0.0   \n",
       "1141  Raymond Bernard Cattell PhD DSc 20 March 1905 ...  0.0  0.0     0.0   \n",
       "\n",
       "      00001  0001  00010782  000198  \\\n",
       "4859    0.0   0.0       0.0     0.0   \n",
       "5616    0.0   0.0       0.0     0.0   \n",
       "2317    0.0   0.0       0.0     0.0   \n",
       "2719    0.0   0.0       0.0     0.0   \n",
       "1141    0.0   0.0       0.0     0.0   \n",
       "\n",
       "      000198ttt01584tft000198ttt0288ttf01584tft00tfffrac  0001l    ...      \\\n",
       "4859                                                0.0     0.0    ...       \n",
       "5616                                                0.0     0.0    ...       \n",
       "2317                                                0.0     0.0    ...       \n",
       "2719                                                0.0     0.0    ...       \n",
       "1141                                                0.0     0.0    ...       \n",
       "\n",
       "      高橋書店ゲーム攻略本シリーズ  사이버메드  자이오넥스  훈민정음  ﬁnitelength  ﬂexibility  ﬂock  \\\n",
       "4859             0.0    0.0    0.0   0.0          0.0         0.0   0.0   \n",
       "5616             0.0    0.0    0.0   0.0          0.0         0.0   0.0   \n",
       "2317             0.0    0.0    0.0   0.0          0.0         0.0   0.0   \n",
       "2719             0.0    0.0    0.0   0.0          0.0         0.0   0.0   \n",
       "1141             0.0    0.0    0.0   0.0          0.0         0.0   0.0   \n",
       "\n",
       "      ﬂocking  ﬂow  ａ列車で行こうｍｄ  \n",
       "4859      0.0  0.0        0.0  \n",
       "5616      0.0  0.0        0.0  \n",
       "2317      0.0  0.0        0.0  \n",
       "2719      0.0  0.0        0.0  \n",
       "1141      0.0  0.0        0.0  \n",
       "\n",
       "[5 rows x 97118 columns]"
      ]
     },
     "execution_count": 13,
     "metadata": {},
     "output_type": "execute_result"
    }
   ],
   "source": [
    "pd.concat([corpus.Text, document_term_matrix_df], axis=1).sample(5)"
   ]
  },
  {
   "cell_type": "code",
   "execution_count": null,
   "metadata": {
    "scrolled": true
   },
   "outputs": [],
   "source": [
    "document_term_matrix_df.to_pickle('../pickle_jar/document_term_matrix_df.p')"
   ]
  },
  {
   "cell_type": "code",
   "execution_count": null,
   "metadata": {
    "scrolled": false
   },
   "outputs": [],
   "source": [
    "document_term_matrix_df = pd.read_pickle('../pickle_jar/document_term_matrix_df.p')"
   ]
  },
  {
   "cell_type": "markdown",
   "metadata": {},
   "source": [
    "### Compute SVD of Document Term Matrix"
   ]
  },
  {
   "cell_type": "code",
   "execution_count": 15,
   "metadata": {},
   "outputs": [],
   "source": [
    "from sklearn.decomposition import TruncatedSVD"
   ]
  },
  {
   "cell_type": "code",
   "execution_count": 25,
   "metadata": {},
   "outputs": [
    {
     "data": {
      "text/plain": [
       "(5653, 97117)"
      ]
     },
     "execution_count": 25,
     "metadata": {},
     "output_type": "execute_result"
    }
   ],
   "source": [
    "document_term_matrix_df.shape"
   ]
  },
  {
   "cell_type": "code",
   "execution_count": 16,
   "metadata": {},
   "outputs": [],
   "source": [
    "## 1st iteration = 50 components\n",
    "## 2nd iteration = 250 components\n",
    "## 3rd iteration = 1000 components (takes a long time! memory error!)\n",
    "\n",
    "n_components = 50\n",
    "SVD = TruncatedSVD(n_components)\n",
    "component_names = [\"component_\"+str(i+1) for i in range(n_components)]"
   ]
  },
  {
   "cell_type": "code",
   "execution_count": 17,
   "metadata": {},
   "outputs": [],
   "source": [
    "svd_matrix = SVD.fit_transform(document_term_matrix_df)"
   ]
  },
  {
   "cell_type": "code",
   "execution_count": 18,
   "metadata": {},
   "outputs": [
    {
     "data": {
      "text/plain": [
       "(5653, 50)"
      ]
     },
     "execution_count": 18,
     "metadata": {},
     "output_type": "execute_result"
    }
   ],
   "source": [
    "svd_matrix.shape"
   ]
  },
  {
   "cell_type": "code",
   "execution_count": 44,
   "metadata": {},
   "outputs": [],
   "source": [
    "svd_df = pd.DataFrame(svd_matrix, \n",
    "                      index=document_term_matrix_df.index, \n",
    "                      columns=component_names)"
   ]
  },
  {
   "cell_type": "code",
   "execution_count": 38,
   "metadata": {},
   "outputs": [
    {
     "data": {
      "text/plain": [
       "0.29991271576854678"
      ]
     },
     "execution_count": 38,
     "metadata": {},
     "output_type": "execute_result"
    }
   ],
   "source": [
    "sum(SVD.explained_variance_ratio_)\n",
    "\n"
   ]
  },
  {
   "cell_type": "markdown",
   "metadata": {},
   "source": [
    "##### 0.135 explained variance for 50 components seems pretty bad .  Must be all the jibberish we extracted.  Perhaps we need to `Beautiful_Soup` ---> `Prettify()`\n",
    "\n",
    "##### 0.30 explained variance for 250 components is better.  Still not great.\n",
    "\n",
    "##### Unknown explained variance for 1000 components. `MemoryError:`"
   ]
  },
  {
   "cell_type": "markdown",
   "metadata": {},
   "source": [
    "### Scree plots"
   ]
  },
  {
   "cell_type": "code",
   "execution_count": 22,
   "metadata": {},
   "outputs": [],
   "source": [
    "%matplotlib inline"
   ]
  },
  {
   "cell_type": "code",
   "execution_count": 23,
   "metadata": {},
   "outputs": [
    {
     "data": {
      "text/plain": [
       "[<matplotlib.lines.Line2D at 0x7fc2e504fa20>]"
      ]
     },
     "execution_count": 23,
     "metadata": {},
     "output_type": "execute_result"
    },
    {
     "data": {
      "image/png": "[encoded data removed]",
      "text/plain": [
       "<matplotlib.figure.Figure at 0x7fc40013d588>"
      ]
     },
     "metadata": {},
     "output_type": "display_data"
    }
   ],
   "source": [
    "plt.plot(SVD.explained_variance_ratio_)\n"
   ]
  },
  {
   "cell_type": "code",
   "execution_count": 24,
   "metadata": {},
   "outputs": [
    {
     "data": {
      "text/plain": [
       "<Container object of 50 artists>"
      ]
     },
     "execution_count": 24,
     "metadata": {},
     "output_type": "execute_result"
    },
    {
     "data": {
      "image/png": "[encoded data removed]",
      "text/plain": [
       "<matplotlib.figure.Figure at 0x7fc2e4701ac8>"
      ]
     },
     "metadata": {},
     "output_type": "display_data"
    }
   ],
   "source": [
    "plt.bar(range(50), SVD.explained_variance_ratio_)"
   ]
  },
  {
   "cell_type": "markdown",
   "metadata": {},
   "source": [
    "#### cumulative explained variance"
   ]
  },
  {
   "cell_type": "code",
   "execution_count": 25,
   "metadata": {},
   "outputs": [
    {
     "data": {
      "text/plain": [
       "<matplotlib.legend.Legend at 0x7fc2e4d29908>"
      ]
     },
     "execution_count": 25,
     "metadata": {},
     "output_type": "execute_result"
    },
    {
     "data": {
      "image/png": "[encoded data removed]",
      "text/plain": [
       "<matplotlib.figure.Figure at 0x7fc2e4d299b0>"
      ]
     },
     "metadata": {},
     "output_type": "display_data"
    }
   ],
   "source": [
    "plt.plot(range(50), np.cumsum(SVD.explained_variance_ratio_), label='cumulative explained variance')\n",
    "plt.legend()"
   ]
  },
  {
   "cell_type": "markdown",
   "metadata": {},
   "source": [
    "### LoadSVD Matrix with Documents and Labels"
   ]
  },
  {
   "cell_type": "code",
   "execution_count": 29,
   "metadata": {},
   "outputs": [
    {
     "data": {
      "text/html": [
       "<div>\n",
       "<table border=\"1\" class=\"dataframe\">\n",
       "  <thead>\n",
       "    <tr style=\"text-align: right;\">\n",
       "      <th></th>\n",
       "      <th>component_1</th>\n",
       "      <th>component_2</th>\n",
       "      <th>component_3</th>\n",
       "      <th>component_4</th>\n",
       "      <th>component_5</th>\n",
       "      <th>component_6</th>\n",
       "      <th>component_7</th>\n",
       "      <th>component_8</th>\n",
       "      <th>component_9</th>\n",
       "      <th>component_10</th>\n",
       "      <th>...</th>\n",
       "      <th>component_42</th>\n",
       "      <th>component_43</th>\n",
       "      <th>component_44</th>\n",
       "      <th>component_45</th>\n",
       "      <th>component_46</th>\n",
       "      <th>component_47</th>\n",
       "      <th>component_48</th>\n",
       "      <th>component_49</th>\n",
       "      <th>component_50</th>\n",
       "      <th>category</th>\n",
       "    </tr>\n",
       "  </thead>\n",
       "  <tbody>\n",
       "    <tr>\n",
       "      <th>6116</th>\n",
       "      <td>0.076394</td>\n",
       "      <td>-0.076488</td>\n",
       "      <td>-0.005793</td>\n",
       "      <td>-0.006350</td>\n",
       "      <td>0.048970</td>\n",
       "      <td>0.082888</td>\n",
       "      <td>0.123152</td>\n",
       "      <td>0.005935</td>\n",
       "      <td>0.088548</td>\n",
       "      <td>0.015045</td>\n",
       "      <td>...</td>\n",
       "      <td>0.032772</td>\n",
       "      <td>0.001398</td>\n",
       "      <td>-0.012399</td>\n",
       "      <td>-0.009536</td>\n",
       "      <td>0.011110</td>\n",
       "      <td>-0.018541</td>\n",
       "      <td>-0.032912</td>\n",
       "      <td>0.014532</td>\n",
       "      <td>0.053540</td>\n",
       "      <td>Business Software</td>\n",
       "    </tr>\n",
       "    <tr>\n",
       "      <th>6117</th>\n",
       "      <td>0.046260</td>\n",
       "      <td>-0.046353</td>\n",
       "      <td>-0.000080</td>\n",
       "      <td>0.013365</td>\n",
       "      <td>-0.015386</td>\n",
       "      <td>0.012673</td>\n",
       "      <td>0.015346</td>\n",
       "      <td>-0.004355</td>\n",
       "      <td>0.010441</td>\n",
       "      <td>0.008053</td>\n",
       "      <td>...</td>\n",
       "      <td>0.002713</td>\n",
       "      <td>0.012706</td>\n",
       "      <td>-0.015981</td>\n",
       "      <td>0.001031</td>\n",
       "      <td>0.002301</td>\n",
       "      <td>-0.006556</td>\n",
       "      <td>-0.000946</td>\n",
       "      <td>-0.001139</td>\n",
       "      <td>0.012956</td>\n",
       "      <td>Business Software</td>\n",
       "    </tr>\n",
       "    <tr>\n",
       "      <th>6118</th>\n",
       "      <td>0.056335</td>\n",
       "      <td>-0.066986</td>\n",
       "      <td>-0.014913</td>\n",
       "      <td>-0.000148</td>\n",
       "      <td>0.058074</td>\n",
       "      <td>0.018677</td>\n",
       "      <td>0.009319</td>\n",
       "      <td>-0.017141</td>\n",
       "      <td>0.038934</td>\n",
       "      <td>0.023149</td>\n",
       "      <td>...</td>\n",
       "      <td>-0.003844</td>\n",
       "      <td>0.045238</td>\n",
       "      <td>-0.003277</td>\n",
       "      <td>-0.005409</td>\n",
       "      <td>0.007486</td>\n",
       "      <td>-0.017446</td>\n",
       "      <td>0.029534</td>\n",
       "      <td>0.000720</td>\n",
       "      <td>-0.003525</td>\n",
       "      <td>Business Software</td>\n",
       "    </tr>\n",
       "    <tr>\n",
       "      <th>6119</th>\n",
       "      <td>0.063006</td>\n",
       "      <td>-0.065104</td>\n",
       "      <td>-0.007100</td>\n",
       "      <td>0.009139</td>\n",
       "      <td>0.004165</td>\n",
       "      <td>0.043055</td>\n",
       "      <td>0.106209</td>\n",
       "      <td>0.003216</td>\n",
       "      <td>0.058906</td>\n",
       "      <td>0.024839</td>\n",
       "      <td>...</td>\n",
       "      <td>0.010524</td>\n",
       "      <td>0.036034</td>\n",
       "      <td>-0.022534</td>\n",
       "      <td>-0.008819</td>\n",
       "      <td>-0.028924</td>\n",
       "      <td>-0.018923</td>\n",
       "      <td>-0.006421</td>\n",
       "      <td>0.006584</td>\n",
       "      <td>0.031946</td>\n",
       "      <td>Business Software</td>\n",
       "    </tr>\n",
       "    <tr>\n",
       "      <th>6120</th>\n",
       "      <td>0.102328</td>\n",
       "      <td>-0.081250</td>\n",
       "      <td>0.010216</td>\n",
       "      <td>-0.000056</td>\n",
       "      <td>0.001586</td>\n",
       "      <td>0.077446</td>\n",
       "      <td>0.100564</td>\n",
       "      <td>0.027297</td>\n",
       "      <td>0.043858</td>\n",
       "      <td>0.016158</td>\n",
       "      <td>...</td>\n",
       "      <td>-0.004351</td>\n",
       "      <td>0.005456</td>\n",
       "      <td>0.017544</td>\n",
       "      <td>-0.008048</td>\n",
       "      <td>0.017096</td>\n",
       "      <td>0.013877</td>\n",
       "      <td>0.020788</td>\n",
       "      <td>0.015012</td>\n",
       "      <td>0.031691</td>\n",
       "      <td>Business Software</td>\n",
       "    </tr>\n",
       "  </tbody>\n",
       "</table>\n",
       "<p>5 rows × 51 columns</p>\n",
       "</div>"
      ],
      "text/plain": [
       "      component_1  component_2  component_3  component_4  component_5  \\\n",
       "6116     0.076394    -0.076488    -0.005793    -0.006350     0.048970   \n",
       "6117     0.046260    -0.046353    -0.000080     0.013365    -0.015386   \n",
       "6118     0.056335    -0.066986    -0.014913    -0.000148     0.058074   \n",
       "6119     0.063006    -0.065104    -0.007100     0.009139     0.004165   \n",
       "6120     0.102328    -0.081250     0.010216    -0.000056     0.001586   \n",
       "\n",
       "      component_6  component_7  component_8  component_9  component_10  \\\n",
       "6116     0.082888     0.123152     0.005935     0.088548      0.015045   \n",
       "6117     0.012673     0.015346    -0.004355     0.010441      0.008053   \n",
       "6118     0.018677     0.009319    -0.017141     0.038934      0.023149   \n",
       "6119     0.043055     0.106209     0.003216     0.058906      0.024839   \n",
       "6120     0.077446     0.100564     0.027297     0.043858      0.016158   \n",
       "\n",
       "            ...          component_42  component_43  component_44  \\\n",
       "6116        ...              0.032772      0.001398     -0.012399   \n",
       "6117        ...              0.002713      0.012706     -0.015981   \n",
       "6118        ...             -0.003844      0.045238     -0.003277   \n",
       "6119        ...              0.010524      0.036034     -0.022534   \n",
       "6120        ...             -0.004351      0.005456      0.017544   \n",
       "\n",
       "      component_45  component_46  component_47  component_48  component_49  \\\n",
       "6116     -0.009536      0.011110     -0.018541     -0.032912      0.014532   \n",
       "6117      0.001031      0.002301     -0.006556     -0.000946     -0.001139   \n",
       "6118     -0.005409      0.007486     -0.017446      0.029534      0.000720   \n",
       "6119     -0.008819     -0.028924     -0.018923     -0.006421      0.006584   \n",
       "6120     -0.008048      0.017096      0.013877      0.020788      0.015012   \n",
       "\n",
       "      component_50           category  \n",
       "6116      0.053540  Business Software  \n",
       "6117      0.012956  Business Software  \n",
       "6118     -0.003525  Business Software  \n",
       "6119      0.031946  Business Software  \n",
       "6120      0.031691  Business Software  \n",
       "\n",
       "[5 rows x 51 columns]"
      ]
     },
     "execution_count": 29,
     "metadata": {},
     "output_type": "execute_result"
    }
   ],
   "source": [
    "latent_semantic_analysis = pd.DataFrame(svd_matrix,\n",
    "                                        index=document_term_matrix_df.index,\n",
    "                                        columns=component_names)\n",
    "# latent_semantic_analysis['sentence'] = corpus_df.sentence\n",
    "latent_semantic_analysis['category'] = corpus['Category']\n",
    "latent_semantic_analysis.tail()"
   ]
  },
  {
   "cell_type": "code",
   "execution_count": 30,
   "metadata": {},
   "outputs": [],
   "source": [
    "vocabulary_expression = pd.DataFrame(SVD.components_,\n",
    "                                     index=component_names,\n",
    "                                     columns=tfidf_vectorizer.get_feature_names()).T"
   ]
  },
  {
   "cell_type": "code",
   "execution_count": 32,
   "metadata": {},
   "outputs": [
    {
     "data": {
      "text/plain": [
       "(97117, 50)"
      ]
     },
     "execution_count": 32,
     "metadata": {},
     "output_type": "execute_result"
    }
   ],
   "source": [
    "vocabulary_expression.shape"
   ]
  },
  {
   "cell_type": "code",
   "execution_count": 33,
   "metadata": {},
   "outputs": [
    {
     "data": {
      "text/html": [
       "<div>\n",
       "<table border=\"1\" class=\"dataframe\">\n",
       "  <thead>\n",
       "    <tr style=\"text-align: right;\">\n",
       "      <th></th>\n",
       "      <th>component_1</th>\n",
       "      <th>component_2</th>\n",
       "      <th>component_3</th>\n",
       "      <th>component_4</th>\n",
       "      <th>component_5</th>\n",
       "      <th>component_6</th>\n",
       "      <th>component_7</th>\n",
       "      <th>component_8</th>\n",
       "      <th>component_9</th>\n",
       "      <th>component_10</th>\n",
       "      <th>...</th>\n",
       "      <th>abs_component_1</th>\n",
       "      <th>abs_component_2</th>\n",
       "      <th>abs_component_3</th>\n",
       "      <th>abs_component_4</th>\n",
       "      <th>abs_component_5</th>\n",
       "      <th>abs_component_6</th>\n",
       "      <th>abs_component_7</th>\n",
       "      <th>abs_component_8</th>\n",
       "      <th>abs_component_9</th>\n",
       "      <th>abs_component_10</th>\n",
       "    </tr>\n",
       "  </thead>\n",
       "  <tbody>\n",
       "    <tr>\n",
       "      <th>00</th>\n",
       "      <td>0.003303</td>\n",
       "      <td>3.048525e-03</td>\n",
       "      <td>-0.000217</td>\n",
       "      <td>0.000160</td>\n",
       "      <td>-0.000098</td>\n",
       "      <td>0.000635</td>\n",
       "      <td>-0.000162</td>\n",
       "      <td>0.002210</td>\n",
       "      <td>0.000790</td>\n",
       "      <td>-5.695786e-04</td>\n",
       "      <td>...</td>\n",
       "      <td>0.003303</td>\n",
       "      <td>3.048525e-03</td>\n",
       "      <td>0.000217</td>\n",
       "      <td>0.000160</td>\n",
       "      <td>0.000098</td>\n",
       "      <td>0.000635</td>\n",
       "      <td>0.000162</td>\n",
       "      <td>0.002210</td>\n",
       "      <td>0.000790</td>\n",
       "      <td>5.695786e-04</td>\n",
       "    </tr>\n",
       "    <tr>\n",
       "      <th>000</th>\n",
       "      <td>0.001767</td>\n",
       "      <td>-7.613063e-04</td>\n",
       "      <td>-0.001559</td>\n",
       "      <td>0.000232</td>\n",
       "      <td>-0.001911</td>\n",
       "      <td>0.003591</td>\n",
       "      <td>-0.000760</td>\n",
       "      <td>-0.002515</td>\n",
       "      <td>0.001162</td>\n",
       "      <td>-5.902408e-04</td>\n",
       "      <td>...</td>\n",
       "      <td>0.001767</td>\n",
       "      <td>7.613063e-04</td>\n",
       "      <td>0.001559</td>\n",
       "      <td>0.000232</td>\n",
       "      <td>0.001911</td>\n",
       "      <td>0.003591</td>\n",
       "      <td>0.000760</td>\n",
       "      <td>0.002515</td>\n",
       "      <td>0.001162</td>\n",
       "      <td>5.902408e-04</td>\n",
       "    </tr>\n",
       "    <tr>\n",
       "      <th>000001</th>\n",
       "      <td>0.000033</td>\n",
       "      <td>9.778232e-07</td>\n",
       "      <td>0.000061</td>\n",
       "      <td>-0.000020</td>\n",
       "      <td>-0.000001</td>\n",
       "      <td>0.000084</td>\n",
       "      <td>0.000007</td>\n",
       "      <td>0.000124</td>\n",
       "      <td>0.000045</td>\n",
       "      <td>-2.173286e-05</td>\n",
       "      <td>...</td>\n",
       "      <td>0.000033</td>\n",
       "      <td>9.778232e-07</td>\n",
       "      <td>0.000061</td>\n",
       "      <td>0.000020</td>\n",
       "      <td>0.000001</td>\n",
       "      <td>0.000084</td>\n",
       "      <td>0.000007</td>\n",
       "      <td>0.000124</td>\n",
       "      <td>0.000045</td>\n",
       "      <td>2.173286e-05</td>\n",
       "    </tr>\n",
       "    <tr>\n",
       "      <th>00001</th>\n",
       "      <td>0.000061</td>\n",
       "      <td>6.549721e-05</td>\n",
       "      <td>-0.000060</td>\n",
       "      <td>0.000035</td>\n",
       "      <td>-0.000008</td>\n",
       "      <td>0.000002</td>\n",
       "      <td>-0.000002</td>\n",
       "      <td>0.000006</td>\n",
       "      <td>0.000001</td>\n",
       "      <td>-4.441183e-07</td>\n",
       "      <td>...</td>\n",
       "      <td>0.000061</td>\n",
       "      <td>6.549721e-05</td>\n",
       "      <td>0.000060</td>\n",
       "      <td>0.000035</td>\n",
       "      <td>0.000008</td>\n",
       "      <td>0.000002</td>\n",
       "      <td>0.000002</td>\n",
       "      <td>0.000006</td>\n",
       "      <td>0.000001</td>\n",
       "      <td>4.441183e-07</td>\n",
       "    </tr>\n",
       "    <tr>\n",
       "      <th>0001</th>\n",
       "      <td>0.000239</td>\n",
       "      <td>2.064113e-04</td>\n",
       "      <td>-0.000061</td>\n",
       "      <td>0.000052</td>\n",
       "      <td>-0.000053</td>\n",
       "      <td>0.000107</td>\n",
       "      <td>-0.000070</td>\n",
       "      <td>0.000269</td>\n",
       "      <td>0.000052</td>\n",
       "      <td>1.033830e-04</td>\n",
       "      <td>...</td>\n",
       "      <td>0.000239</td>\n",
       "      <td>2.064113e-04</td>\n",
       "      <td>0.000061</td>\n",
       "      <td>0.000052</td>\n",
       "      <td>0.000053</td>\n",
       "      <td>0.000107</td>\n",
       "      <td>0.000070</td>\n",
       "      <td>0.000269</td>\n",
       "      <td>0.000052</td>\n",
       "      <td>1.033830e-04</td>\n",
       "    </tr>\n",
       "  </tbody>\n",
       "</table>\n",
       "<p>5 rows × 60 columns</p>\n",
       "</div>"
      ],
      "text/plain": [
       "        component_1   component_2  component_3  component_4  component_5  \\\n",
       "00         0.003303  3.048525e-03    -0.000217     0.000160    -0.000098   \n",
       "000        0.001767 -7.613063e-04    -0.001559     0.000232    -0.001911   \n",
       "000001     0.000033  9.778232e-07     0.000061    -0.000020    -0.000001   \n",
       "00001      0.000061  6.549721e-05    -0.000060     0.000035    -0.000008   \n",
       "0001       0.000239  2.064113e-04    -0.000061     0.000052    -0.000053   \n",
       "\n",
       "        component_6  component_7  component_8  component_9  component_10  \\\n",
       "00         0.000635    -0.000162     0.002210     0.000790 -5.695786e-04   \n",
       "000        0.003591    -0.000760    -0.002515     0.001162 -5.902408e-04   \n",
       "000001     0.000084     0.000007     0.000124     0.000045 -2.173286e-05   \n",
       "00001      0.000002    -0.000002     0.000006     0.000001 -4.441183e-07   \n",
       "0001       0.000107    -0.000070     0.000269     0.000052  1.033830e-04   \n",
       "\n",
       "              ...         abs_component_1  abs_component_2  abs_component_3  \\\n",
       "00            ...                0.003303     3.048525e-03         0.000217   \n",
       "000           ...                0.001767     7.613063e-04         0.001559   \n",
       "000001        ...                0.000033     9.778232e-07         0.000061   \n",
       "00001         ...                0.000061     6.549721e-05         0.000060   \n",
       "0001          ...                0.000239     2.064113e-04         0.000061   \n",
       "\n",
       "        abs_component_4  abs_component_5  abs_component_6  abs_component_7  \\\n",
       "00             0.000160         0.000098         0.000635         0.000162   \n",
       "000            0.000232         0.001911         0.003591         0.000760   \n",
       "000001         0.000020         0.000001         0.000084         0.000007   \n",
       "00001          0.000035         0.000008         0.000002         0.000002   \n",
       "0001           0.000052         0.000053         0.000107         0.000070   \n",
       "\n",
       "        abs_component_8  abs_component_9  abs_component_10  \n",
       "00             0.002210         0.000790      5.695786e-04  \n",
       "000            0.002515         0.001162      5.902408e-04  \n",
       "000001         0.000124         0.000045      2.173286e-05  \n",
       "00001          0.000006         0.000001      4.441183e-07  \n",
       "0001           0.000269         0.000052      1.033830e-04  \n",
       "\n",
       "[5 rows x 60 columns]"
      ]
     },
     "execution_count": 33,
     "metadata": {},
     "output_type": "execute_result"
    }
   ],
   "source": [
    "### for loop adds absolute component for each \n",
    "for i in range(1,11):\n",
    "    vocabulary_expression['abs_component_{}'.format(i)] = np.abs(vocabulary_expression['component_{}'.format(i)])\n",
    "\n",
    "    \n",
    "vocabulary_expression.head()"
   ]
  },
  {
   "cell_type": "markdown",
   "metadata": {},
   "source": [
    "### Top Terms for each Component"
   ]
  },
  {
   "cell_type": "markdown",
   "metadata": {},
   "source": [
    "##### Component 1 - must describe Machine Learning"
   ]
  },
  {
   "cell_type": "code",
   "execution_count": 34,
   "metadata": {},
   "outputs": [
    {
     "data": {
      "text/plain": [
       "displaystyle    0.558040\n",
       "learning        0.147150\n",
       "data            0.141271\n",
       "software        0.139517\n",
       "management      0.116376\n",
       "algorithm       0.099365\n",
       "model           0.093563\n",
       "Name: abs_component_1, dtype: float64"
      ]
     },
     "execution_count": 34,
     "metadata": {},
     "output_type": "execute_result"
    }
   ],
   "source": [
    "vocabulary_expression['abs_component_1'].sort_values(ascending=False).head(7)\n"
   ]
  },
  {
   "cell_type": "markdown",
   "metadata": {},
   "source": [
    "##### Component 2 - must describe Machine Learning"
   ]
  },
  {
   "cell_type": "code",
   "execution_count": 35,
   "metadata": {},
   "outputs": [
    {
     "data": {
      "text/plain": [
       "displaystyle    0.617747\n",
       "software        0.199651\n",
       "management      0.176856\n",
       "project         0.126636\n",
       "business        0.105961\n",
       "company         0.099683\n",
       "mathbf          0.097498\n",
       "Name: abs_component_2, dtype: float64"
      ]
     },
     "execution_count": 35,
     "metadata": {},
     "output_type": "execute_result"
    }
   ],
   "source": [
    "vocabulary_expression['abs_component_2'].sort_values(ascending=False).head(7)\n"
   ]
  },
  {
   "cell_type": "markdown",
   "metadata": {},
   "source": [
    "##### Component 3 - probably describe Machine Learning"
   ]
  },
  {
   "cell_type": "code",
   "execution_count": 36,
   "metadata": {},
   "outputs": [
    {
     "data": {
      "text/plain": [
       "displaystyle    0.383222\n",
       "neural          0.337359\n",
       "learning        0.292294\n",
       "network         0.205640\n",
       "networks        0.203189\n",
       "game            0.146263\n",
       "management      0.129075\n",
       "Name: abs_component_3, dtype: float64"
      ]
     },
     "execution_count": 36,
     "metadata": {},
     "output_type": "execute_result"
    }
   ],
   "source": [
    "vocabulary_expression['abs_component_3'].sort_values(ascending=False).head(7)\n"
   ]
  },
  {
   "cell_type": "markdown",
   "metadata": {},
   "source": [
    "##### Component 4 - probably describes Business Software"
   ]
  },
  {
   "cell_type": "code",
   "execution_count": 37,
   "metadata": {},
   "outputs": [
    {
     "data": {
      "text/plain": [
       "game             0.673554\n",
       "tycoon           0.289396\n",
       "player           0.252984\n",
       "players          0.178943\n",
       "games            0.172267\n",
       "park             0.128943\n",
       "rollercoaster    0.125206\n",
       "Name: abs_component_4, dtype: float64"
      ]
     },
     "execution_count": 37,
     "metadata": {},
     "output_type": "execute_result"
    }
   ],
   "source": [
    "vocabulary_expression['abs_component_4'].sort_values(ascending=False).head(7)\n"
   ]
  },
  {
   "cell_type": "markdown",
   "metadata": {},
   "source": [
    "##### Component 5 - probably describes Business Software"
   ]
  },
  {
   "cell_type": "code",
   "execution_count": 38,
   "metadata": {},
   "outputs": [
    {
     "data": {
      "text/plain": [
       "adempiere     0.229620\n",
       "company       0.200032\n",
       "metasfresh    0.198316\n",
       "source        0.191504\n",
       "health        0.180021\n",
       "open          0.176766\n",
       "project       0.174974\n",
       "Name: abs_component_5, dtype: float64"
      ]
     },
     "execution_count": 38,
     "metadata": {},
     "output_type": "execute_result"
    }
   ],
   "source": [
    "vocabulary_expression['abs_component_5'].sort_values(ascending=False).head(7)\n"
   ]
  },
  {
   "cell_type": "markdown",
   "metadata": {},
   "source": [
    "##### Component 6 - probably describes Business Software"
   ]
  },
  {
   "cell_type": "code",
   "execution_count": 39,
   "metadata": {},
   "outputs": [
    {
     "data": {
      "text/plain": [
       "erp          0.269644\n",
       "health       0.261648\n",
       "neural       0.219576\n",
       "business     0.165293\n",
       "crm          0.157306\n",
       "adempiere    0.151997\n",
       "dynamics     0.150622\n",
       "Name: abs_component_6, dtype: float64"
      ]
     },
     "execution_count": 39,
     "metadata": {},
     "output_type": "execute_result"
    }
   ],
   "source": [
    "vocabulary_expression['abs_component_6'].sort_values(ascending=False).head(7)\n"
   ]
  },
  {
   "cell_type": "markdown",
   "metadata": {},
   "source": [
    "##### Component 7 - probably describes Business Software"
   ]
  },
  {
   "cell_type": "code",
   "execution_count": 40,
   "metadata": {},
   "outputs": [
    {
     "data": {
      "text/plain": [
       "microsoft     0.335088\n",
       "office        0.273614\n",
       "health        0.262821\n",
       "adempiere     0.198110\n",
       "word          0.168914\n",
       "metasfresh    0.163341\n",
       "erp           0.147111\n",
       "Name: abs_component_7, dtype: float64"
      ]
     },
     "execution_count": 40,
     "metadata": {},
     "output_type": "execute_result"
    }
   ],
   "source": [
    "vocabulary_expression['abs_component_7'].sort_values(ascending=False).head(7)\n"
   ]
  },
  {
   "cell_type": "markdown",
   "metadata": {},
   "source": [
    "##### Component 8 - probably describes Business Software"
   ]
  },
  {
   "cell_type": "code",
   "execution_count": 41,
   "metadata": {},
   "outputs": [
    {
     "data": {
      "text/plain": [
       "neural       0.304292\n",
       "health       0.293373\n",
       "network      0.202503\n",
       "genetic      0.188663\n",
       "networks     0.180825\n",
       "medical      0.165913\n",
       "algorithm    0.130789\n",
       "Name: abs_component_8, dtype: float64"
      ]
     },
     "execution_count": 41,
     "metadata": {},
     "output_type": "execute_result"
    }
   ],
   "source": [
    "vocabulary_expression['abs_component_8'].sort_values(ascending=False).head(7)\n"
   ]
  },
  {
   "cell_type": "markdown",
   "metadata": {},
   "source": [
    "##### Component 9 - probably describes Business Software"
   ]
  },
  {
   "cell_type": "code",
   "execution_count": 42,
   "metadata": {},
   "outputs": [
    {
     "data": {
      "text/plain": [
       "microsoft     0.310659\n",
       "content       0.285350\n",
       "dynamics      0.224848\n",
       "adempiere     0.213226\n",
       "office        0.207750\n",
       "metasfresh    0.188507\n",
       "management    0.184971\n",
       "Name: abs_component_9, dtype: float64"
      ]
     },
     "execution_count": 42,
     "metadata": {},
     "output_type": "execute_result"
    }
   ],
   "source": [
    "vocabulary_expression['abs_component_9'].sort_values(ascending=False).head(7)\n"
   ]
  },
  {
   "cell_type": "markdown",
   "metadata": {},
   "source": [
    "##### Component 10 - probably describes Business Software"
   ]
  },
  {
   "cell_type": "code",
   "execution_count": 43,
   "metadata": {},
   "outputs": [
    {
     "data": {
      "text/plain": [
       "project       0.356277\n",
       "software      0.270946\n",
       "oracle        0.208099\n",
       "dynamics      0.183191\n",
       "java          0.182521\n",
       "health        0.178355\n",
       "management    0.170109\n",
       "Name: abs_component_10, dtype: float64"
      ]
     },
     "execution_count": 43,
     "metadata": {},
     "output_type": "execute_result"
    }
   ],
   "source": [
    "vocabulary_expression['abs_component_10'].sort_values(ascending=False).head(7)\n"
   ]
  },
  {
   "cell_type": "code",
   "execution_count": null,
   "metadata": {},
   "outputs": [],
   "source": []
  },
  {
   "cell_type": "markdown",
   "metadata": {},
   "source": [
    "### Searching for most related articles to the Search Terms - Machine Learning"
   ]
  },
  {
   "cell_type": "code",
   "execution_count": 62,
   "metadata": {},
   "outputs": [],
   "source": [
    "search_term1 = \"Machine Learning\"\n"
   ]
  },
  {
   "cell_type": "code",
   "execution_count": 63,
   "metadata": {},
   "outputs": [],
   "source": [
    "search_term_vec1 = tfidf_vectorizer.transform([search_term1])"
   ]
  },
  {
   "cell_type": "code",
   "execution_count": 64,
   "metadata": {},
   "outputs": [],
   "source": [
    "search_term_lsa1 = SVD.transform(search_term_vec1)"
   ]
  },
  {
   "cell_type": "code",
   "execution_count": 70,
   "metadata": {},
   "outputs": [],
   "source": [
    "cosine_similarities1 = latent_semantic_analysis.values.dot(search_term_lsa1.T).ravel()\n",
    "### Had to use .values to turn latent_semantic_analysis to an array\n",
    "### .ravel() does not work on dataframes, only arrays"
   ]
  },
  {
   "cell_type": "code",
   "execution_count": 72,
   "metadata": {},
   "outputs": [
    {
     "data": {
      "text/plain": [
       "array([  2,   3, 120, 137, 746])"
      ]
     },
     "execution_count": 72,
     "metadata": {},
     "output_type": "execute_result"
    }
   ],
   "source": [
    "cosine_similarities1.argsort()[:-6:-1]\n",
    "#SORTING BY VALUES IN COSINE SIMILARITIES... RETURNING LAST 5 INDICES\n",
    "### these are the indices which correlate most closely to \"Machine Learning\""
   ]
  },
  {
   "cell_type": "code",
   "execution_count": 95,
   "metadata": {},
   "outputs": [
    {
     "data": {
      "text/html": [
       "<div>\n",
       "<table border=\"1\" class=\"dataframe\">\n",
       "  <thead>\n",
       "    <tr style=\"text-align: right;\">\n",
       "      <th></th>\n",
       "      <th>ns</th>\n",
       "      <th>pageid</th>\n",
       "      <th>title</th>\n",
       "      <th>Category</th>\n",
       "      <th>Text</th>\n",
       "      <th>Text_numerical</th>\n",
       "    </tr>\n",
       "  </thead>\n",
       "  <tbody>\n",
       "    <tr>\n",
       "      <th>2</th>\n",
       "      <td>0</td>\n",
       "      <td>233488</td>\n",
       "      <td>Machine learning</td>\n",
       "      <td>Machine Learning</td>\n",
       "      <td>Machine learning is a field of computer scienc...</td>\n",
       "      <td>2112</td>\n",
       "    </tr>\n",
       "    <tr>\n",
       "      <th>3</th>\n",
       "      <td>0</td>\n",
       "      <td>53587467</td>\n",
       "      <td>Outline of machine learning</td>\n",
       "      <td>Machine Learning</td>\n",
       "      <td>The following outline is provided as an overvi...</td>\n",
       "      <td>3549</td>\n",
       "    </tr>\n",
       "    <tr>\n",
       "      <th>120</th>\n",
       "      <td>0</td>\n",
       "      <td>4615464</td>\n",
       "      <td>Meta learning (computer science)</td>\n",
       "      <td>Machine Learning</td>\n",
       "      <td>Meta learning is a subfield of machine learnin...</td>\n",
       "      <td>2183</td>\n",
       "    </tr>\n",
       "    <tr>\n",
       "      <th>137</th>\n",
       "      <td>0</td>\n",
       "      <td>10748030</td>\n",
       "      <td>Offline learning</td>\n",
       "      <td>Machine Learning</td>\n",
       "      <td>In machine learning systems which employ offli...</td>\n",
       "      <td>1677</td>\n",
       "    </tr>\n",
       "    <tr>\n",
       "      <th>746</th>\n",
       "      <td>0</td>\n",
       "      <td>387537</td>\n",
       "      <td>Computational learning theory</td>\n",
       "      <td>Machine Learning</td>\n",
       "      <td>In computer science computational learning the...</td>\n",
       "      <td>1595</td>\n",
       "    </tr>\n",
       "  </tbody>\n",
       "</table>\n",
       "</div>"
      ],
      "text/plain": [
       "     ns    pageid                             title          Category  \\\n",
       "2     0    233488                  Machine learning  Machine Learning   \n",
       "3     0  53587467       Outline of machine learning  Machine Learning   \n",
       "120   0   4615464  Meta learning (computer science)  Machine Learning   \n",
       "137   0  10748030                  Offline learning  Machine Learning   \n",
       "746   0    387537     Computational learning theory  Machine Learning   \n",
       "\n",
       "                                                  Text  Text_numerical  \n",
       "2    Machine learning is a field of computer scienc...            2112  \n",
       "3    The following outline is provided as an overvi...            3549  \n",
       "120  Meta learning is a subfield of machine learnin...            2183  \n",
       "137  In machine learning systems which employ offli...            1677  \n",
       "746  In computer science computational learning the...            1595  "
      ]
     },
     "execution_count": 95,
     "metadata": {},
     "output_type": "execute_result"
    }
   ],
   "source": [
    "corpus.iloc[[2,3,120,137,746], :]"
   ]
  },
  {
   "cell_type": "markdown",
   "metadata": {},
   "source": [
    " - the above articles are most similar to the search for `Machine Learning`"
   ]
  },
  {
   "cell_type": "markdown",
   "metadata": {},
   "source": [
    "### Searching for most related articles to the Search Terms - Business Software"
   ]
  },
  {
   "cell_type": "code",
   "execution_count": 84,
   "metadata": {},
   "outputs": [],
   "source": [
    "search_term2 = \"Business Software\""
   ]
  },
  {
   "cell_type": "code",
   "execution_count": 85,
   "metadata": {},
   "outputs": [],
   "source": [
    "search_term_vec2 = tfidf_vectorizer.transform([search_term2])\n",
    "search_term_lsa2 = SVD.transform(search_term_vec2)"
   ]
  },
  {
   "cell_type": "code",
   "execution_count": 86,
   "metadata": {},
   "outputs": [],
   "source": [
    "cosine_similarities2 = latent_semantic_analysis.values.dot(search_term_lsa2.T).ravel()\n"
   ]
  },
  {
   "cell_type": "code",
   "execution_count": 87,
   "metadata": {},
   "outputs": [
    {
     "data": {
      "text/plain": [
       "array([1760, 1532, 3227, 1621, 3228])"
      ]
     },
     "execution_count": 87,
     "metadata": {},
     "output_type": "execute_result"
    }
   ],
   "source": [
    "cosine_similarities2.argsort()[:-6:-1]\n"
   ]
  },
  {
   "cell_type": "code",
   "execution_count": 96,
   "metadata": {},
   "outputs": [
    {
     "data": {
      "text/html": [
       "<div>\n",
       "<table border=\"1\" class=\"dataframe\">\n",
       "  <thead>\n",
       "    <tr style=\"text-align: right;\">\n",
       "      <th></th>\n",
       "      <th>ns</th>\n",
       "      <th>pageid</th>\n",
       "      <th>title</th>\n",
       "      <th>Category</th>\n",
       "      <th>Text</th>\n",
       "      <th>Text_numerical</th>\n",
       "    </tr>\n",
       "  </thead>\n",
       "  <tbody>\n",
       "    <tr>\n",
       "      <th>2228</th>\n",
       "      <td>0</td>\n",
       "      <td>2269864</td>\n",
       "      <td>Small business software</td>\n",
       "      <td>Business Software</td>\n",
       "      <td>Small business software refers to software spe...</td>\n",
       "      <td>3075</td>\n",
       "    </tr>\n",
       "    <tr>\n",
       "      <th>2000</th>\n",
       "      <td>0</td>\n",
       "      <td>1037763</td>\n",
       "      <td>Business software</td>\n",
       "      <td>Business Software</td>\n",
       "      <td>Business software or a business application is...</td>\n",
       "      <td>628</td>\n",
       "    </tr>\n",
       "    <tr>\n",
       "      <th>3695</th>\n",
       "      <td>0</td>\n",
       "      <td>13277642</td>\n",
       "      <td>Accounting software</td>\n",
       "      <td>Business Software</td>\n",
       "      <td>Accounting software describes a type of applic...</td>\n",
       "      <td>245</td>\n",
       "    </tr>\n",
       "    <tr>\n",
       "      <th>2089</th>\n",
       "      <td>0</td>\n",
       "      <td>2302514</td>\n",
       "      <td>Enterprise software</td>\n",
       "      <td>Business Software</td>\n",
       "      <td>Enterprise software also known as enterprise a...</td>\n",
       "      <td>1124</td>\n",
       "    </tr>\n",
       "    <tr>\n",
       "      <th>3696</th>\n",
       "      <td>0</td>\n",
       "      <td>2405553</td>\n",
       "      <td>Comparison of accounting software</td>\n",
       "      <td>Business Software</td>\n",
       "      <td>The following comparison of accounting softwar...</td>\n",
       "      <td>3540</td>\n",
       "    </tr>\n",
       "  </tbody>\n",
       "</table>\n",
       "</div>"
      ],
      "text/plain": [
       "      ns    pageid                              title           Category  \\\n",
       "2228   0   2269864            Small business software  Business Software   \n",
       "2000   0   1037763                  Business software  Business Software   \n",
       "3695   0  13277642                Accounting software  Business Software   \n",
       "2089   0   2302514                Enterprise software  Business Software   \n",
       "3696   0   2405553  Comparison of accounting software  Business Software   \n",
       "\n",
       "                                                   Text  Text_numerical  \n",
       "2228  Small business software refers to software spe...            3075  \n",
       "2000  Business software or a business application is...             628  \n",
       "3695  Accounting software describes a type of applic...             245  \n",
       "2089  Enterprise software also known as enterprise a...            1124  \n",
       "3696  The following comparison of accounting softwar...            3540  "
      ]
     },
     "execution_count": 96,
     "metadata": {},
     "output_type": "execute_result"
    }
   ],
   "source": [
    "corpus.iloc[[1760, 1532, 3227, 1621, 3228], :]"
   ]
  },
  {
   "cell_type": "markdown",
   "metadata": {},
   "source": [
    " - the above articles are most similar to the search for `Business Software`"
   ]
  },
  {
   "cell_type": "code",
   "execution_count": null,
   "metadata": {},
   "outputs": [],
   "source": []
  },
  {
   "cell_type": "code",
   "execution_count": null,
   "metadata": {},
   "outputs": [],
   "source": []
  },
  {
   "cell_type": "code",
   "execution_count": null,
   "metadata": {},
   "outputs": [],
   "source": []
  },
  {
   "cell_type": "code",
   "execution_count": null,
   "metadata": {},
   "outputs": [],
   "source": []
  },
  {
   "cell_type": "code",
   "execution_count": null,
   "metadata": {},
   "outputs": [],
   "source": []
  },
  {
   "cell_type": "code",
   "execution_count": null,
   "metadata": {},
   "outputs": [],
   "source": []
  },
  {
   "cell_type": "code",
   "execution_count": null,
   "metadata": {},
   "outputs": [],
   "source": []
  }
 ],
 "metadata": {
  "kernelspec": {
   "display_name": "Python 3",
   "language": "python",
   "name": "python3"
  },
  "language_info": {
   "codemirror_mode": {
    "name": "ipython",
    "version": 3
   },
   "file_extension": ".py",
   "mimetype": "text/x-python",
   "name": "python",
   "nbconvert_exporter": "python",
   "pygments_lexer": "ipython3",
   "version": "3.6.2"
  }
 },
 "nbformat": 4,
 "nbformat_minor": 2
}
