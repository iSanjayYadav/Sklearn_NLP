{
 "cells": [
  {
   "cell_type": "code",
   "execution_count": 1,
   "metadata": {},
   "outputs": [
    {
     "name": "stdout",
     "output_type": "stream",
     "text": [
      "\n",
      "\n",
      "# All requested packages already installed.\n",
      "# packages in environment at /opt/conda:\n",
      "#\n",
      "pymongo                   3.4.0                    py36_0    defaults\n"
     ]
    }
   ],
   "source": [
    "!conda install --yes --quiet pymongo\n"
   ]
  },
  {
   "cell_type": "code",
   "execution_count": 90,
   "metadata": {},
   "outputs": [],
   "source": [
    "import pymongo\n",
    "import sys\n",
    "import warnings\n",
    "warnings.filterwarnings(\"ignore\")"
   ]
  },
  {
   "cell_type": "markdown",
   "metadata": {},
   "source": [
    "### setting up Wikipedia API"
   ]
  },
  {
   "cell_type": "code",
   "execution_count": 54,
   "metadata": {},
   "outputs": [],
   "source": [
    "import re\n",
    "import requests\n",
    "import pandas as pd\n",
    "import numpy as np"
   ]
  },
  {
   "cell_type": "code",
   "execution_count": 6,
   "metadata": {},
   "outputs": [],
   "source": [
    "r = requests.get('http://en.wikipedia.org/w/api.php?action=query&format=json&list=categorymembers&cmtitle=Category%3A+machine+learning&cmlimit=max')"
   ]
  },
  {
   "cell_type": "code",
   "execution_count": 7,
   "metadata": {},
   "outputs": [
    {
     "data": {
      "text/plain": [
       "requests.models.Response"
      ]
     },
     "execution_count": 7,
     "metadata": {},
     "output_type": "execute_result"
    }
   ],
   "source": [
    "type(r)"
   ]
  },
  {
   "cell_type": "code",
   "execution_count": 8,
   "metadata": {},
   "outputs": [
    {
     "data": {
      "text/plain": [
       "200"
      ]
     },
     "execution_count": 8,
     "metadata": {},
     "output_type": "execute_result"
    }
   ],
   "source": [
    "r.status_code # 200 means it worked!"
   ]
  },
  {
   "cell_type": "code",
   "execution_count": 9,
   "metadata": {},
   "outputs": [
    {
     "data": {
      "text/plain": [
       "dict_keys(['batchcomplete', 'limits', 'query'])"
      ]
     },
     "execution_count": 9,
     "metadata": {},
     "output_type": "execute_result"
    }
   ],
   "source": [
    "r.json().keys()  #converets to json and asks for keys, same as python keys"
   ]
  },
  {
   "cell_type": "code",
   "execution_count": 10,
   "metadata": {},
   "outputs": [
    {
     "data": {
      "text/plain": [
       "dict_keys(['categorymembers'])"
      ]
     },
     "execution_count": 10,
     "metadata": {},
     "output_type": "execute_result"
    }
   ],
   "source": [
    "r.json()['query'].keys()  ##checking value within JSON file"
   ]
  },
  {
   "cell_type": "code",
   "execution_count": 146,
   "metadata": {},
   "outputs": [
    {
     "data": {
      "text/html": [
       "<div>\n",
       "<table border=\"1\" class=\"dataframe\">\n",
       "  <thead>\n",
       "    <tr style=\"text-align: right;\">\n",
       "      <th></th>\n",
       "      <th>ns</th>\n",
       "      <th>pageid</th>\n",
       "      <th>title</th>\n",
       "    </tr>\n",
       "  </thead>\n",
       "  <tbody>\n",
       "    <tr>\n",
       "      <th>225</th>\n",
       "      <td>14</td>\n",
       "      <td>11737376</td>\n",
       "      <td>Category:Statistical natural language processing</td>\n",
       "    </tr>\n",
       "    <tr>\n",
       "      <th>226</th>\n",
       "      <td>14</td>\n",
       "      <td>40149461</td>\n",
       "      <td>Category:Structured prediction</td>\n",
       "    </tr>\n",
       "    <tr>\n",
       "      <th>227</th>\n",
       "      <td>14</td>\n",
       "      <td>52763867</td>\n",
       "      <td>Category:Supervised learning</td>\n",
       "    </tr>\n",
       "    <tr>\n",
       "      <th>228</th>\n",
       "      <td>14</td>\n",
       "      <td>31176997</td>\n",
       "      <td>Category:Support vector machines</td>\n",
       "    </tr>\n",
       "    <tr>\n",
       "      <th>229</th>\n",
       "      <td>14</td>\n",
       "      <td>52763828</td>\n",
       "      <td>Category:Unsupervised learning</td>\n",
       "    </tr>\n",
       "  </tbody>\n",
       "</table>\n",
       "</div>"
      ],
      "text/plain": [
       "     ns    pageid                                             title\n",
       "225  14  11737376  Category:Statistical natural language processing\n",
       "226  14  40149461                    Category:Structured prediction\n",
       "227  14  52763867                      Category:Supervised learning\n",
       "228  14  31176997                  Category:Support vector machines\n",
       "229  14  52763828                    Category:Unsupervised learning"
      ]
     },
     "execution_count": 146,
     "metadata": {},
     "output_type": "execute_result"
    }
   ],
   "source": [
    "cat_df = pd.DataFrame(r.json()['query']['categorymembers'])\n",
    "cat_df.tail()"
   ]
  },
  {
   "cell_type": "code",
   "execution_count": 147,
   "metadata": {},
   "outputs": [],
   "source": [
    "cat_df.to_pickle('../pickle_jar/cat_df.p')"
   ]
  },
  {
   "cell_type": "code",
   "execution_count": 20,
   "metadata": {},
   "outputs": [],
   "source": [
    "cat_df = pd.read_pickle('../pickle_jar/cat_df.p')"
   ]
  },
  {
   "cell_type": "code",
   "execution_count": null,
   "metadata": {
    "scrolled": true
   },
   "outputs": [],
   "source": []
  },
  {
   "cell_type": "code",
   "execution_count": null,
   "metadata": {
    "scrolled": true
   },
   "outputs": [],
   "source": []
  },
  {
   "cell_type": "markdown",
   "metadata": {},
   "source": [
    "### creating function for searching topics"
   ]
  },
  {
   "cell_type": "code",
   "execution_count": 228,
   "metadata": {},
   "outputs": [],
   "source": [
    "def search(phrase):\n",
    "    phrase = re.sub('\\s', '+', phrase)\n",
    "    query = 'http://en.wikipedia.org/w/api.php?action=query&format=json&list=categorymembers&cmtitle=Category%3A+{}&cmlimit=max'.format(phrase)\n",
    "    QR = requests.get(query)\n",
    "    return(pd.DataFrame(QR.json()['query']['categorymembers']))\n",
    "\n",
    "\n",
    "\n"
   ]
  },
  {
   "cell_type": "markdown",
   "metadata": {},
   "source": [
    "#### Preliminary search for Category:Machine learning"
   ]
  },
  {
   "cell_type": "code",
   "execution_count": null,
   "metadata": {
    "scrolled": false
   },
   "outputs": [],
   "source": [
    "search('Machine learning')\n",
    "\n",
    "### Preliminary search of 'Machine Learning'"
   ]
  },
  {
   "cell_type": "code",
   "execution_count": 148,
   "metadata": {},
   "outputs": [
    {
     "data": {
      "text/html": [
       "<div>\n",
       "<table border=\"1\" class=\"dataframe\">\n",
       "  <thead>\n",
       "    <tr style=\"text-align: right;\">\n",
       "      <th></th>\n",
       "      <th>ns</th>\n",
       "      <th>pageid</th>\n",
       "      <th>title</th>\n",
       "    </tr>\n",
       "  </thead>\n",
       "  <tbody>\n",
       "    <tr>\n",
       "      <th>0</th>\n",
       "      <td>0</td>\n",
       "      <td>203996</td>\n",
       "      <td>Bayesian network</td>\n",
       "    </tr>\n",
       "    <tr>\n",
       "      <th>1</th>\n",
       "      <td>0</td>\n",
       "      <td>42734031</td>\n",
       "      <td>Bayesian hierarchical modeling</td>\n",
       "    </tr>\n",
       "    <tr>\n",
       "      <th>2</th>\n",
       "      <td>0</td>\n",
       "      <td>1169985</td>\n",
       "      <td>Causal Markov condition</td>\n",
       "    </tr>\n",
       "    <tr>\n",
       "      <th>3</th>\n",
       "      <td>0</td>\n",
       "      <td>1242713</td>\n",
       "      <td>Dynamic Bayesian network</td>\n",
       "    </tr>\n",
       "    <tr>\n",
       "      <th>4</th>\n",
       "      <td>0</td>\n",
       "      <td>1194259</td>\n",
       "      <td>Influence diagram</td>\n",
       "    </tr>\n",
       "    <tr>\n",
       "      <th>5</th>\n",
       "      <td>0</td>\n",
       "      <td>4855682</td>\n",
       "      <td>Junction tree algorithm</td>\n",
       "    </tr>\n",
       "    <tr>\n",
       "      <th>6</th>\n",
       "      <td>0</td>\n",
       "      <td>2649330</td>\n",
       "      <td>Latent variable</td>\n",
       "    </tr>\n",
       "    <tr>\n",
       "      <th>7</th>\n",
       "      <td>0</td>\n",
       "      <td>1169984</td>\n",
       "      <td>Markov blanket</td>\n",
       "    </tr>\n",
       "    <tr>\n",
       "      <th>8</th>\n",
       "      <td>0</td>\n",
       "      <td>4855451</td>\n",
       "      <td>Moral graph</td>\n",
       "    </tr>\n",
       "    <tr>\n",
       "      <th>9</th>\n",
       "      <td>0</td>\n",
       "      <td>15882673</td>\n",
       "      <td>Plate notation</td>\n",
       "    </tr>\n",
       "    <tr>\n",
       "      <th>10</th>\n",
       "      <td>0</td>\n",
       "      <td>11228012</td>\n",
       "      <td>Variable-order Bayesian network</td>\n",
       "    </tr>\n",
       "    <tr>\n",
       "      <th>11</th>\n",
       "      <td>0</td>\n",
       "      <td>2461612</td>\n",
       "      <td>Variational message passing</td>\n",
       "    </tr>\n",
       "  </tbody>\n",
       "</table>\n",
       "</div>"
      ],
      "text/plain": [
       "    ns    pageid                            title\n",
       "0    0    203996                 Bayesian network\n",
       "1    0  42734031   Bayesian hierarchical modeling\n",
       "2    0   1169985          Causal Markov condition\n",
       "3    0   1242713         Dynamic Bayesian network\n",
       "4    0   1194259                Influence diagram\n",
       "5    0   4855682          Junction tree algorithm\n",
       "6    0   2649330                  Latent variable\n",
       "7    0   1169984                   Markov blanket\n",
       "8    0   4855451                      Moral graph\n",
       "9    0  15882673                   Plate notation\n",
       "10   0  11228012  Variable-order Bayesian network\n",
       "11   0   2461612      Variational message passing"
      ]
     },
     "execution_count": 148,
     "metadata": {},
     "output_type": "execute_result"
    }
   ],
   "source": [
    "search('Bayesian networks')"
   ]
  },
  {
   "cell_type": "markdown",
   "metadata": {},
   "source": [
    "#### Preliminary search for Category:Business software"
   ]
  },
  {
   "cell_type": "code",
   "execution_count": null,
   "metadata": {},
   "outputs": [],
   "source": [
    "search('Business software')\n"
   ]
  },
  {
   "cell_type": "code",
   "execution_count": null,
   "metadata": {},
   "outputs": [],
   "source": []
  },
  {
   "cell_type": "code",
   "execution_count": null,
   "metadata": {},
   "outputs": [],
   "source": []
  },
  {
   "cell_type": "markdown",
   "metadata": {},
   "source": [
    "### Creating recursive function"
   ]
  },
  {
   "cell_type": "code",
   "execution_count": 230,
   "metadata": {},
   "outputs": [],
   "source": [
    "def search_recursive(phrase, max_depth=2):\n",
    "\n",
    "    \n",
    "        \n",
    "    if max_depth > 0:  ### max_depth defaults to 2, user input can take it higher\n",
    "        \n",
    "        cat2_df = search(phrase)  ###preliminary search to get initial pages and `Step 2` Subcategories\n",
    "#         print('depth: ', max_depth, ' category: ', phrase)\n",
    "        \n",
    "        cat_mask = cat2_df['title'].str.contains('Category:')  ### creating mask for all Subcategories\n",
    "        \n",
    "        pages_df = cat2_df[~cat_mask]  ### creating a DF where only pages exist; no Subcategories\n",
    "        \n",
    "        newlist = []  ### new local list vaariable\n",
    "        newlist.append(pages_df)  ### appending empty list with all pages, no Subcategories\n",
    "        \n",
    "        categories = cat2_df[cat_mask]['title'].str.replace('Category:', '').tolist() \n",
    "        ### any and all Subcategories get turned to a temporary list\n",
    "        \n",
    "        if len(categories) > 0:  ### if there are any sub-categories, this if statement starts\n",
    "            for i in categories:  ### iterates through the subcategories list\n",
    "                \n",
    "                max_depth -= 1   ### looks one level deeper into each subcategory\n",
    "                newlist.append(search_recursive(i, max_depth)) ### extracts all pages & subcategories from this deeper page\n",
    "                max_depth += 1  ### returns back to the current page\n",
    "        \n",
    "        pages_df = pd.concat(newlist)  #adding newlist to pages_df\n",
    "        pages_df.reset_index() ### attempting to create an additive index, doesnt appear to work though\n",
    "       \n",
    "        return pages_df\n",
    "\n",
    "    else:  ### if Category or Subcategory has no further subcategories, no further steps will be taken\n",
    "        return"
   ]
  },
  {
   "cell_type": "markdown",
   "metadata": {},
   "source": [
    "#### Using recursive search function to find all articles in \"Category:Machine learning\""
   ]
  },
  {
   "cell_type": "code",
   "execution_count": 231,
   "metadata": {
    "scrolled": false
   },
   "outputs": [
    {
     "data": {
      "text/plain": [
       "(1532, 3)"
      ]
     },
     "execution_count": 231,
     "metadata": {},
     "output_type": "execute_result"
    }
   ],
   "source": [
    "machine_learning_md3_df = search_recursive(\"Machine learning\", 3)\n",
    "machine_learning_md3_df.shape"
   ]
  },
  {
   "cell_type": "markdown",
   "metadata": {},
   "source": [
    "#### 1532 pages!!!  If `\"Category:Machine learning\"` is step 1, we go to step 3 to determine this quantity. "
   ]
  },
  {
   "cell_type": "code",
   "execution_count": 232,
   "metadata": {},
   "outputs": [
    {
     "data": {
      "text/html": [
       "<div>\n",
       "<table border=\"1\" class=\"dataframe\">\n",
       "  <thead>\n",
       "    <tr style=\"text-align: right;\">\n",
       "      <th></th>\n",
       "      <th>ns</th>\n",
       "      <th>pageid</th>\n",
       "      <th>title</th>\n",
       "    </tr>\n",
       "  </thead>\n",
       "  <tbody>\n",
       "    <tr>\n",
       "      <th>0</th>\n",
       "      <td>0</td>\n",
       "      <td>43385931</td>\n",
       "      <td>Data exploration</td>\n",
       "    </tr>\n",
       "    <tr>\n",
       "      <th>1</th>\n",
       "      <td>0</td>\n",
       "      <td>49082762</td>\n",
       "      <td>List of datasets for machine learning research</td>\n",
       "    </tr>\n",
       "    <tr>\n",
       "      <th>2</th>\n",
       "      <td>0</td>\n",
       "      <td>233488</td>\n",
       "      <td>Machine learning</td>\n",
       "    </tr>\n",
       "    <tr>\n",
       "      <th>3</th>\n",
       "      <td>0</td>\n",
       "      <td>53587467</td>\n",
       "      <td>Outline of machine learning</td>\n",
       "    </tr>\n",
       "    <tr>\n",
       "      <th>4</th>\n",
       "      <td>0</td>\n",
       "      <td>3771060</td>\n",
       "      <td>Accuracy paradox</td>\n",
       "    </tr>\n",
       "  </tbody>\n",
       "</table>\n",
       "</div>"
      ],
      "text/plain": [
       "   ns    pageid                                           title\n",
       "0   0  43385931                                Data exploration\n",
       "1   0  49082762  List of datasets for machine learning research\n",
       "2   0    233488                                Machine learning\n",
       "3   0  53587467                     Outline of machine learning\n",
       "4   0   3771060                                Accuracy paradox"
      ]
     },
     "execution_count": 232,
     "metadata": {},
     "output_type": "execute_result"
    }
   ],
   "source": [
    "machine_learning_md3_df.head()\n",
    "\n",
    "###indices seem to be not correct.  Does it really matter?  We are interested in pageids."
   ]
  },
  {
   "cell_type": "markdown",
   "metadata": {},
   "source": [
    "#### Using recursive search function to find all articles in \"Category:Business software\""
   ]
  },
  {
   "cell_type": "code",
   "execution_count": 246,
   "metadata": {},
   "outputs": [
    {
     "data": {
      "text/plain": [
       "(4121, 3)"
      ]
     },
     "execution_count": 246,
     "metadata": {},
     "output_type": "execute_result"
    }
   ],
   "source": [
    "business_software_md3_df = search_recursive(\"Business software\", 3)\n",
    "business_software_md3_df.shape"
   ]
  },
  {
   "cell_type": "markdown",
   "metadata": {},
   "source": [
    "#### 4121 pages!!!  If `\"Category:Business software\"` is step 1, we go to step 3 to determine this quantity. "
   ]
  },
  {
   "cell_type": "code",
   "execution_count": 248,
   "metadata": {},
   "outputs": [
    {
     "data": {
      "text/html": [
       "<div>\n",
       "<table border=\"1\" class=\"dataframe\">\n",
       "  <thead>\n",
       "    <tr style=\"text-align: right;\">\n",
       "      <th></th>\n",
       "      <th>ns</th>\n",
       "      <th>pageid</th>\n",
       "      <th>title</th>\n",
       "    </tr>\n",
       "  </thead>\n",
       "  <tbody>\n",
       "    <tr>\n",
       "      <th>0</th>\n",
       "      <td>0</td>\n",
       "      <td>1037763</td>\n",
       "      <td>Business software</td>\n",
       "    </tr>\n",
       "    <tr>\n",
       "      <th>1</th>\n",
       "      <td>0</td>\n",
       "      <td>41270069</td>\n",
       "      <td>AccuSystems</td>\n",
       "    </tr>\n",
       "    <tr>\n",
       "      <th>2</th>\n",
       "      <td>0</td>\n",
       "      <td>5211212</td>\n",
       "      <td>Active policy management</td>\n",
       "    </tr>\n",
       "    <tr>\n",
       "      <th>3</th>\n",
       "      <td>0</td>\n",
       "      <td>28502793</td>\n",
       "      <td>Alexandria (library software)</td>\n",
       "    </tr>\n",
       "    <tr>\n",
       "      <th>4</th>\n",
       "      <td>0</td>\n",
       "      <td>44133735</td>\n",
       "      <td>Alteryx</td>\n",
       "    </tr>\n",
       "  </tbody>\n",
       "</table>\n",
       "</div>"
      ],
      "text/plain": [
       "   ns    pageid                          title\n",
       "0   0   1037763              Business software\n",
       "1   0  41270069                    AccuSystems\n",
       "2   0   5211212       Active policy management\n",
       "3   0  28502793  Alexandria (library software)\n",
       "4   0  44133735                        Alteryx"
      ]
     },
     "execution_count": 248,
     "metadata": {},
     "output_type": "execute_result"
    }
   ],
   "source": [
    "\n",
    "business_software_md3_df.head()"
   ]
  },
  {
   "cell_type": "code",
   "execution_count": 247,
   "metadata": {},
   "outputs": [
    {
     "data": {
      "text/html": [
       "<div>\n",
       "<table border=\"1\" class=\"dataframe\">\n",
       "  <thead>\n",
       "    <tr style=\"text-align: right;\">\n",
       "      <th></th>\n",
       "      <th>ns</th>\n",
       "      <th>pageid</th>\n",
       "      <th>title</th>\n",
       "    </tr>\n",
       "  </thead>\n",
       "  <tbody>\n",
       "    <tr>\n",
       "      <th>39</th>\n",
       "      <td>0</td>\n",
       "      <td>1577008</td>\n",
       "      <td>Ted (word processor)</td>\n",
       "    </tr>\n",
       "    <tr>\n",
       "      <th>40</th>\n",
       "      <td>0</td>\n",
       "      <td>37628014</td>\n",
       "      <td>Thorn EMI Liberator</td>\n",
       "    </tr>\n",
       "    <tr>\n",
       "      <th>41</th>\n",
       "      <td>0</td>\n",
       "      <td>34306381</td>\n",
       "      <td>Trelby</td>\n",
       "    </tr>\n",
       "    <tr>\n",
       "      <th>42</th>\n",
       "      <td>0</td>\n",
       "      <td>29902828</td>\n",
       "      <td>Word Juggler</td>\n",
       "    </tr>\n",
       "    <tr>\n",
       "      <th>43</th>\n",
       "      <td>0</td>\n",
       "      <td>826279</td>\n",
       "      <td>WordMARC</td>\n",
       "    </tr>\n",
       "  </tbody>\n",
       "</table>\n",
       "</div>"
      ],
      "text/plain": [
       "    ns    pageid                 title\n",
       "39   0   1577008  Ted (word processor)\n",
       "40   0  37628014   Thorn EMI Liberator\n",
       "41   0  34306381                Trelby\n",
       "42   0  29902828          Word Juggler\n",
       "43   0    826279              WordMARC"
      ]
     },
     "execution_count": 247,
     "metadata": {},
     "output_type": "execute_result"
    }
   ],
   "source": [
    "business_software_md3_df.tail()"
   ]
  },
  {
   "cell_type": "code",
   "execution_count": null,
   "metadata": {},
   "outputs": [],
   "source": []
  },
  {
   "cell_type": "markdown",
   "metadata": {},
   "source": [
    "### Creating function to extract all literature from pages"
   ]
  },
  {
   "cell_type": "code",
   "execution_count": 63,
   "metadata": {},
   "outputs": [],
   "source": [
    "\n",
    "from string import punctuation\n",
    "\n",
    "def strip_punctuation(s):\n",
    "    return ''.join(c for c in s if c not in punctuation)\n",
    "\n",
    "def striphtml(data):\n",
    "    p = re.compile(r'<.*?>')\n",
    "    return p.sub('', data)\n",
    "\n",
    "def get_page_contents(pageid):\n",
    "    \n",
    "    query = 'http://en.wikipedia.org/w/api.php?action=query&prop=extracts&\\\n",
    "             rvprop=content&rvsection=0&format=json&pageids={}'.format(pageid)\n",
    "    \n",
    "    my_request = requests.get(query).json()\n",
    "    \n",
    "    no_html_string = striphtml(my_request['query']['pages'][str(pageid)]['extract']).replace('\\n', ' ')\n",
    "    \n",
    "    return strip_punctuation(no_html_string)"
   ]
  },
  {
   "cell_type": "code",
   "execution_count": null,
   "metadata": {},
   "outputs": [],
   "source": []
  },
  {
   "cell_type": "code",
   "execution_count": 165,
   "metadata": {
    "scrolled": true
   },
   "outputs": [
    {
     "data": {
      "text/plain": [
       "{'batchcomplete': '',\n",
       " 'query': {'pages': {'233497': {'extract': '<p><b>Unsupervised machine learning</b> is the machine learning task of inferring a function to describe hidden structure from \"unlabeled\" data (a classification or categorization is not included in the observations). Since the examples given to the learner are unlabeled, there is no evaluation of the accuracy of the structure that is output by the relevant algorithm—which is one way of distinguishing unsupervised learning from supervised learning and reinforcement learning.</p>\\n<p>A central case of unsupervised learning is the problem of density estimation in statistics, though unsupervised learning encompasses many other problems (and solutions) involving summarizing and explaining key features of the data.</p>\\n<p>Approaches to unsupervised learning include:</p>\\n<ul><li>clustering\\n<ul><li>k-means</li>\\n<li>mixture models</li>\\n<li>hierarchical clustering,</li>\\n</ul></li>\\n<li>anomaly detection</li>\\n<li>Neural Networks\\n<ul><li>Hebbian Learning</li>\\n<li>Generative Adversarial Networks</li>\\n</ul></li>\\n<li>Approaches for learning latent variable models such as\\n<ul><li>Expectation–maximization algorithm (EM)</li>\\n<li>Method of moments</li>\\n<li>Blind signal separation techniques, e.g.,\\n<ul><li>Principal component analysis,</li>\\n<li>Independent component analysis,</li>\\n<li>Non-negative matrix factorization,</li>\\n<li>Singular value decomposition.</li>\\n</ul></li>\\n</ul></li>\\n</ul><p></p>\\n\\n<p></p>\\n<h2><span id=\"In_neural_networks\">In neural networks</span></h2>\\n<p>The classical example of unsupervised learning in the study of both natural and artificial neural networks is subsumed by Donald Hebb\\'s principle, that is, neurons that fire together wire together. In Hebbian learning, the connection is reinforced irrespective of an error, but is exclusively a function of the coincidence between action potentials between the two neurons. A similar version that modifies synaptic weights takes into account the time between the action potentials (spike-timing-dependent plasticity or STDP). Hebbian Learning has been hypothesized to underlie a range of cognitive functions, such as pattern recognition and experiential learning.</p>\\n<p>Among neural network models, the self-organizing map (SOM) and adaptive resonance theory (ART) are commonly used unsupervised learning algorithms. The SOM is a topographic organization in which nearby locations in the map represent inputs with similar properties. The ART model allows the number of clusters to vary with problem size and lets the user control the degree of similarity between members of the same clusters by means of a user-defined constant called the vigilance parameter. ART networks are also used for many pattern recognition tasks, such as automatic target recognition and seismic signal processing. The first version of ART was \"ART1\", developed by Carpenter and Grossberg (1988).</p>\\n<h2><span id=\"Method_of_moments\">Method of moments</span></h2>\\n<p>One of the statistical approaches for unsupervised learning is the method of moments. In the method of moments, the unknown parameters (of interest) in the model are related to the moments of one or more random variables, and thus, these unknown parameters can be estimated given the moments. The moments are usually estimated from samples empirically. The basic moments are first and second order moments. For a random vector, the first order moment is the mean vector, and the second order moment is the covariance matrix (when the mean is zero). Higher order moments are usually represented using tensors which are the generalization of matrices to higher orders as multi-dimensional arrays.</p>\\n<p>In particular, the method of moments is shown to be effective in learning the parameters of latent variable models. Latent variable models are statistical models where in addition to the observed variables, a set of latent variables also exists which is not observed. A highly practical example of latent variable models in machine learning is the topic modeling which is a statistical model for generating the words (observed variables) in the document based on the topic (latent variable) of the document. In the topic modeling, the words in the document are generated according to different statistical parameters when the topic of the document is changed. It is shown that method of moments (tensor decomposition techniques) consistently recover the parameters of a large class of latent variable models under some assumptions.</p>\\n<p>The Expectation–maximization algorithm (EM) is also one of the most practical methods for learning latent variable models. However, it can get stuck in local optima, and it is not guaranteed that the algorithm will converge to the true unknown parameters of the model. In contrast, for the method of moments, the global convergence is guaranteed under some conditions.</p>\\n<h2><span id=\"Examples\">Examples</span></h2>\\n<p>Behavioral-based detection in network security has become a good application area for a combination of supervised- and unsupervised-machine learning. This is because the amount of data for a human security analyst to analyze is impossible (measured in terabytes per day) to review to find patterns and anomalies. According to Giora Engel, co-founder of LightCyber, in a <i>Dark Reading</i> article, \"The great promise machine learning holds for the security industry is its ability to detect advanced and unknown attacks -- particularly those leading to data breaches.\" The basic premise is that a motivated attacker will find their way into a network (generally by compromising a user\\'s computer or network account through phishing, social engineering or malware). The security challenge then becomes finding the attacker by their operational activities, which include reconnaissance, lateral movement, command &amp; control and exfiltration. These activities—especially reconnaissance and lateral movement—stand in contrast to an established baseline of \"normal\" or \"good\" activity for each user and device on the network. The role of machine learning is to create ongoing profiles for users and devices and then find meaningful anomalies.</p>\\n<h2><span id=\"See_also\">See also</span></h2>\\n<ul><li>Cluster analysis</li>\\n<li>Anomaly detection</li>\\n<li>Expectation–maximization algorithm</li>\\n<li>Generative topographic map</li>\\n<li>Multivariate analysis</li>\\n<li>Radial basis function network</li>\\n<li>Hebbian Theory</li>\\n</ul><h2><span id=\"Notes\">Notes</span></h2>\\n\\n<h2><span id=\"Further_reading\">Further reading</span></h2>\\n<ul><li><cite class=\"citation book\">Bousquet, O.; von Luxburg, U.; Raetsch, G., eds. (2004). <i>Advanced Lectures on Machine Learning</i>. Springer-Verlag. ISBN\\xa0978-3540231226.</cite><span title=\"ctx_ver=Z39.88-2004&amp;rft_val_fmt=info%3Aofi%2Ffmt%3Akev%3Amtx%3Abook&amp;rft.genre=book&amp;rft.btitle=Advanced+Lectures+on+Machine+Learning&amp;rft.pub=Springer-Verlag&amp;rft.date=2004&amp;rft.isbn=978-3540231226&amp;rfr_id=info%3Asid%2Fen.wikipedia.org%3AUnsupervised+learning\"><span>\\xa0</span></span></li>\\n<li><cite class=\"citation book\">Duda, Richard O.; Hart, Peter E.; Stork, David G. (2001). \"Unsupervised Learning and Clustering\". <i>Pattern classification</i> (2nd ed.). Wiley. ISBN\\xa00-471-05669-3.</cite><span title=\"ctx_ver=Z39.88-2004&amp;rft_val_fmt=info%3Aofi%2Ffmt%3Akev%3Amtx%3Abook&amp;rft.genre=bookitem&amp;rft.atitle=Unsupervised+Learning+and+Clustering&amp;rft.btitle=Pattern+classification&amp;rft.edition=2nd&amp;rft.pub=Wiley&amp;rft.date=2001&amp;rft.isbn=0-471-05669-3&amp;rft.au=Duda%2C+Richard+O.&amp;rft.au=Hart%2C+Peter+E.&amp;rft.au=Stork%2C+David+G.&amp;rfr_id=info%3Asid%2Fen.wikipedia.org%3AUnsupervised+learning\"><span>\\xa0</span></span></li>\\n<li><cite class=\"citation book\">Hastie, Trevor; Tibshirani, Robert (2009). <i>The Elements of Statistical Learning: Data mining, Inference, and Prediction</i>. New York: Springer. pp.\\xa0485–586. doi:10.1007/978-0-387-84858-7_14. ISBN\\xa0978-0-387-84857-0.</cite><span title=\"ctx_ver=Z39.88-2004&amp;rft_val_fmt=info%3Aofi%2Ffmt%3Akev%3Amtx%3Abook&amp;rft.genre=book&amp;rft.btitle=The+Elements+of+Statistical+Learning%3A+Data+mining%2C+Inference%2C+and+Prediction&amp;rft.place=New+York&amp;rft.pages=485-586&amp;rft.pub=Springer&amp;rft.date=2009&amp;rft_id=info%3Adoi%2F10.1007%2F978-0-387-84858-7_14&amp;rft.isbn=978-0-387-84857-0&amp;rft.aulast=Hastie&amp;rft.aufirst=Trevor&amp;rft.au=Tibshirani%2C+Robert&amp;rfr_id=info%3Asid%2Fen.wikipedia.org%3AUnsupervised+learning\"><span>\\xa0</span></span></li>\\n<li><cite class=\"citation book\">Hinton, Geoffrey; Sejnowski, Terrence J., eds. (1999). <i>Unsupervised Learning: Foundations of Neural Computation</i>. MIT Press. ISBN\\xa00-262-58168-X.</cite><span title=\"ctx_ver=Z39.88-2004&amp;rft_val_fmt=info%3Aofi%2Ffmt%3Akev%3Amtx%3Abook&amp;rft.genre=book&amp;rft.btitle=Unsupervised+Learning%3A+Foundations+of+Neural+Computation&amp;rft.pub=MIT+Press&amp;rft.date=1999&amp;rft.isbn=0-262-58168-X&amp;rfr_id=info%3Asid%2Fen.wikipedia.org%3AUnsupervised+learning\"><span>\\xa0</span></span> (This book focuses on unsupervised learning in neural networks)</li>\\n</ul>',\n",
       "    'ns': 0,\n",
       "    'pageid': 233497,\n",
       "    'title': 'Unsupervised learning'}}},\n",
       " 'warnings': {'extracts': {'*': '\"exlimit\" was too large for a whole article extracts request, lowered to 1.'},\n",
       "  'main': {'*': 'Unrecognized parameters: rvprop, rvsection.'}}}"
      ]
     },
     "execution_count": 165,
     "metadata": {},
     "output_type": "execute_result"
    }
   ],
   "source": [
    "requests.get('http://en.wikipedia.org/w/api.php?action=query&prop=extracts&rvprop=content&rvsection=0&format=json&pageids=233497').json()\n",
    "\n",
    "### returns a non-clean version"
   ]
  },
  {
   "cell_type": "code",
   "execution_count": 68,
   "metadata": {
    "scrolled": true
   },
   "outputs": [
    {
     "data": {
      "text/plain": [
       "'WordMARC was a scientifically oriented word processor developed by MARC Software an offshoot of MARC Analysis Research Corporation which specialized in high end Finite Element Analysis software for mechanical engineering It ran originally on minicomputers such as Prime and Digital Equipment Corporation VAX When the IBM PC emerged as the platform of choice for word processing WordMARC allowed users to easily move documents from a minicomputer where they could be easily shared to PCs WordMARC was the creation of Pedro Marcal who pioneered work in finite element analysis and needed a technical word processor that both supported complex notations and was capable of running on minicomputers and other highend machines such an Alliant and ATampT WordMARC was originally known as MUSE MARC Universal Screen Editor but the name was changed because of a trademark conflict with another company when the product was ported to the IBM PC In comparison with WordPerfect WordMARCs codes were always hidden This was considered friendlier to novice users and less likely to result in mangled documents Although it was billed as a WYSIWYG system it did not provide for display of proportional fonts It did however allow the use of proportional fonts by adjusting the margins based on the current text size using an estimated average character width in version 1 Primeword v2 had font character width tables and were given a utility that could generate them from HP font files Advanced features for its time included Document Assembly maintaining each chapter of a book in separate files and combining them for printing or to produce a table of contents or index automatic paragraph numbering footnotes endnotes support for mixed fonts multilevel equations and scientific characters An early version offer support for Japanese characters '"
      ]
     },
     "execution_count": 68,
     "metadata": {},
     "output_type": "execute_result"
    }
   ],
   "source": [
    "get_page_contents(826279)\n",
    "\n",
    "### returns the cleaned version as per our function"
   ]
  },
  {
   "cell_type": "code",
   "execution_count": null,
   "metadata": {
    "scrolled": true
   },
   "outputs": [],
   "source": [
    "\n",
    "\n"
   ]
  },
  {
   "cell_type": "code",
   "execution_count": 234,
   "metadata": {},
   "outputs": [],
   "source": [
    "# Cleaning up the index for the dataframe.  I think it was messsin up the \n",
    "\n",
    "index_list = []\n",
    "for i in range(1532):\n",
    "    index_list.append(i)\n",
    "\n",
    "# machine_learning_md3_df.reset_index(index_list)\n",
    "# machine_learning_md3_df.drop(index, axis=1, inplace=True)\n",
    "machine_learning_md3_df['Category'] = 'Machine Learning'\n",
    "machine_learning_md3_df.index = index_list\n"
   ]
  },
  {
   "cell_type": "code",
   "execution_count": 252,
   "metadata": {
    "scrolled": true
   },
   "outputs": [
    {
     "data": {
      "text/html": [
       "<div>\n",
       "<table border=\"1\" class=\"dataframe\">\n",
       "  <thead>\n",
       "    <tr style=\"text-align: right;\">\n",
       "      <th></th>\n",
       "      <th>ns</th>\n",
       "      <th>pageid</th>\n",
       "      <th>title</th>\n",
       "      <th>Category</th>\n",
       "    </tr>\n",
       "  </thead>\n",
       "  <tbody>\n",
       "    <tr>\n",
       "      <th>4116</th>\n",
       "      <td>0</td>\n",
       "      <td>1577008</td>\n",
       "      <td>Ted (word processor)</td>\n",
       "      <td>Business Software</td>\n",
       "    </tr>\n",
       "    <tr>\n",
       "      <th>4117</th>\n",
       "      <td>0</td>\n",
       "      <td>37628014</td>\n",
       "      <td>Thorn EMI Liberator</td>\n",
       "      <td>Business Software</td>\n",
       "    </tr>\n",
       "    <tr>\n",
       "      <th>4118</th>\n",
       "      <td>0</td>\n",
       "      <td>34306381</td>\n",
       "      <td>Trelby</td>\n",
       "      <td>Business Software</td>\n",
       "    </tr>\n",
       "    <tr>\n",
       "      <th>4119</th>\n",
       "      <td>0</td>\n",
       "      <td>29902828</td>\n",
       "      <td>Word Juggler</td>\n",
       "      <td>Business Software</td>\n",
       "    </tr>\n",
       "    <tr>\n",
       "      <th>4120</th>\n",
       "      <td>0</td>\n",
       "      <td>826279</td>\n",
       "      <td>WordMARC</td>\n",
       "      <td>Business Software</td>\n",
       "    </tr>\n",
       "  </tbody>\n",
       "</table>\n",
       "</div>"
      ],
      "text/plain": [
       "      ns    pageid                 title           Category\n",
       "4116   0   1577008  Ted (word processor)  Business Software\n",
       "4117   0  37628014   Thorn EMI Liberator  Business Software\n",
       "4118   0  34306381                Trelby  Business Software\n",
       "4119   0  29902828          Word Juggler  Business Software\n",
       "4120   0    826279              WordMARC  Business Software"
      ]
     },
     "execution_count": 252,
     "metadata": {},
     "output_type": "execute_result"
    }
   ],
   "source": [
    "#cleaning up the index for the Business Software Dataframe\n",
    "\n",
    "bs_index_list = []\n",
    "for i in range(4121):\n",
    "    bs_index_list.append(i)\n",
    "    \n",
    "business_software_md3_df.index = bs_index_list\n",
    "business_software_md3_df['Category'] = 'Business Software'\n",
    "business_software_md3_df.tail()"
   ]
  },
  {
   "cell_type": "code",
   "execution_count": null,
   "metadata": {},
   "outputs": [],
   "source": []
  },
  {
   "cell_type": "markdown",
   "metadata": {},
   "source": [
    "#### Filling our machine_learning dataframe with text for each article."
   ]
  },
  {
   "cell_type": "code",
   "execution_count": 236,
   "metadata": {},
   "outputs": [
    {
     "data": {
      "text/html": [
       "<div>\n",
       "<table border=\"1\" class=\"dataframe\">\n",
       "  <thead>\n",
       "    <tr style=\"text-align: right;\">\n",
       "      <th></th>\n",
       "      <th>ns</th>\n",
       "      <th>pageid</th>\n",
       "      <th>title</th>\n",
       "      <th>Category</th>\n",
       "    </tr>\n",
       "  </thead>\n",
       "  <tbody>\n",
       "    <tr>\n",
       "      <th>1527</th>\n",
       "      <td>0</td>\n",
       "      <td>11273721</td>\n",
       "      <td>Hierarchical temporal memory</td>\n",
       "      <td>Machine Learning</td>\n",
       "    </tr>\n",
       "    <tr>\n",
       "      <th>1528</th>\n",
       "      <td>0</td>\n",
       "      <td>33742232</td>\n",
       "      <td>Restricted Boltzmann machine</td>\n",
       "      <td>Machine Learning</td>\n",
       "    </tr>\n",
       "    <tr>\n",
       "      <th>1529</th>\n",
       "      <td>0</td>\n",
       "      <td>76996</td>\n",
       "      <td>Self-organizing map</td>\n",
       "      <td>Machine Learning</td>\n",
       "    </tr>\n",
       "    <tr>\n",
       "      <th>1530</th>\n",
       "      <td>0</td>\n",
       "      <td>48813654</td>\n",
       "      <td>Sparse dictionary learning</td>\n",
       "      <td>Machine Learning</td>\n",
       "    </tr>\n",
       "    <tr>\n",
       "      <th>1531</th>\n",
       "      <td>0</td>\n",
       "      <td>47805</td>\n",
       "      <td>Vector quantization</td>\n",
       "      <td>Machine Learning</td>\n",
       "    </tr>\n",
       "  </tbody>\n",
       "</table>\n",
       "</div>"
      ],
      "text/plain": [
       "      ns    pageid                         title          Category\n",
       "1527   0  11273721  Hierarchical temporal memory  Machine Learning\n",
       "1528   0  33742232  Restricted Boltzmann machine  Machine Learning\n",
       "1529   0     76996           Self-organizing map  Machine Learning\n",
       "1530   0  48813654    Sparse dictionary learning  Machine Learning\n",
       "1531   0     47805           Vector quantization  Machine Learning"
      ]
     },
     "execution_count": 236,
     "metadata": {},
     "output_type": "execute_result"
    }
   ],
   "source": [
    "machine_learning_md3_df.tail()"
   ]
  },
  {
   "cell_type": "markdown",
   "metadata": {},
   "source": [
    "#### For loop to populate our Dataframe with articles"
   ]
  },
  {
   "cell_type": "code",
   "execution_count": 239,
   "metadata": {
    "scrolled": true
   },
   "outputs": [],
   "source": [
    "### Testing how to input unique contents into each row.\n",
    "# machine_learning_md3_df['Text'][0] = get_page_contents(43385931)\n",
    "# machine_learning_md3_df['Text'][1] = get_page_contents(49082762)\n",
    "# machine_learning_md3_df['Text'][2] = get_page_contents(233488)\n",
    "\n",
    "\n",
    "### only uncomment the next line if you want to reset all text \n",
    "# machine_learning_md3_df['Text'] = None\n",
    "\n",
    "for i,j in enumerate(machine_learning_md3_df['pageid']):\n",
    "#     print(i,j)\n",
    "    machine_learning_md3_df['Text'][i] = get_page_contents(j)\n",
    "    \n",
    "    \n",
    "    ### use this for loop and get_page_contents to extract all page contents. "
   ]
  },
  {
   "cell_type": "code",
   "execution_count": 242,
   "metadata": {},
   "outputs": [
    {
     "data": {
      "text/html": [
       "<div>\n",
       "<table border=\"1\" class=\"dataframe\">\n",
       "  <thead>\n",
       "    <tr style=\"text-align: right;\">\n",
       "      <th></th>\n",
       "      <th>ns</th>\n",
       "      <th>pageid</th>\n",
       "      <th>title</th>\n",
       "      <th>Category</th>\n",
       "      <th>Text</th>\n",
       "    </tr>\n",
       "  </thead>\n",
       "  <tbody>\n",
       "    <tr>\n",
       "      <th>0</th>\n",
       "      <td>0</td>\n",
       "      <td>43385931</td>\n",
       "      <td>Data exploration</td>\n",
       "      <td>Machine Learning</td>\n",
       "      <td>Data exploration is an approach similar to ini...</td>\n",
       "    </tr>\n",
       "    <tr>\n",
       "      <th>1</th>\n",
       "      <td>0</td>\n",
       "      <td>49082762</td>\n",
       "      <td>List of datasets for machine learning research</td>\n",
       "      <td>Machine Learning</td>\n",
       "      <td>These datasets are used for machinelearning re...</td>\n",
       "    </tr>\n",
       "    <tr>\n",
       "      <th>2</th>\n",
       "      <td>0</td>\n",
       "      <td>233488</td>\n",
       "      <td>Machine learning</td>\n",
       "      <td>Machine Learning</td>\n",
       "      <td>Machine learning is a field of computer scienc...</td>\n",
       "    </tr>\n",
       "    <tr>\n",
       "      <th>3</th>\n",
       "      <td>0</td>\n",
       "      <td>53587467</td>\n",
       "      <td>Outline of machine learning</td>\n",
       "      <td>Machine Learning</td>\n",
       "      <td>The following outline is provided as an overvi...</td>\n",
       "    </tr>\n",
       "    <tr>\n",
       "      <th>4</th>\n",
       "      <td>0</td>\n",
       "      <td>3771060</td>\n",
       "      <td>Accuracy paradox</td>\n",
       "      <td>Machine Learning</td>\n",
       "      <td>The accuracy paradox for predictive analytics ...</td>\n",
       "    </tr>\n",
       "  </tbody>\n",
       "</table>\n",
       "</div>"
      ],
      "text/plain": [
       "   ns    pageid                                           title  \\\n",
       "0   0  43385931                                Data exploration   \n",
       "1   0  49082762  List of datasets for machine learning research   \n",
       "2   0    233488                                Machine learning   \n",
       "3   0  53587467                     Outline of machine learning   \n",
       "4   0   3771060                                Accuracy paradox   \n",
       "\n",
       "           Category                                               Text  \n",
       "0  Machine Learning  Data exploration is an approach similar to ini...  \n",
       "1  Machine Learning  These datasets are used for machinelearning re...  \n",
       "2  Machine Learning  Machine learning is a field of computer scienc...  \n",
       "3  Machine Learning  The following outline is provided as an overvi...  \n",
       "4  Machine Learning  The accuracy paradox for predictive analytics ...  "
      ]
     },
     "execution_count": 242,
     "metadata": {},
     "output_type": "execute_result"
    }
   ],
   "source": [
    "# machine_learning_md3_df['Text'][177] = get_page_contents(1579244)\n",
    "machine_learning_md3_df.head()"
   ]
  },
  {
   "cell_type": "code",
   "execution_count": 243,
   "metadata": {},
   "outputs": [
    {
     "data": {
      "text/html": [
       "<div>\n",
       "<table border=\"1\" class=\"dataframe\">\n",
       "  <thead>\n",
       "    <tr style=\"text-align: right;\">\n",
       "      <th></th>\n",
       "      <th>ns</th>\n",
       "      <th>pageid</th>\n",
       "      <th>title</th>\n",
       "      <th>Category</th>\n",
       "      <th>Text</th>\n",
       "    </tr>\n",
       "  </thead>\n",
       "  <tbody>\n",
       "    <tr>\n",
       "      <th>1527</th>\n",
       "      <td>0</td>\n",
       "      <td>11273721</td>\n",
       "      <td>Hierarchical temporal memory</td>\n",
       "      <td>Machine Learning</td>\n",
       "      <td>Hierarchical temporal memory HTM is a biologic...</td>\n",
       "    </tr>\n",
       "    <tr>\n",
       "      <th>1528</th>\n",
       "      <td>0</td>\n",
       "      <td>33742232</td>\n",
       "      <td>Restricted Boltzmann machine</td>\n",
       "      <td>Machine Learning</td>\n",
       "      <td>A restricted Boltzmann machine RBM is a genera...</td>\n",
       "    </tr>\n",
       "    <tr>\n",
       "      <th>1529</th>\n",
       "      <td>0</td>\n",
       "      <td>76996</td>\n",
       "      <td>Self-organizing map</td>\n",
       "      <td>Machine Learning</td>\n",
       "      <td>A selforganizing map SOM or selforganizing fea...</td>\n",
       "    </tr>\n",
       "    <tr>\n",
       "      <th>1530</th>\n",
       "      <td>0</td>\n",
       "      <td>48813654</td>\n",
       "      <td>Sparse dictionary learning</td>\n",
       "      <td>Machine Learning</td>\n",
       "      <td>Sparse dictionary learning is a representation...</td>\n",
       "    </tr>\n",
       "    <tr>\n",
       "      <th>1531</th>\n",
       "      <td>0</td>\n",
       "      <td>47805</td>\n",
       "      <td>Vector quantization</td>\n",
       "      <td>Machine Learning</td>\n",
       "      <td>Vector quantization VQ is a classical quantiza...</td>\n",
       "    </tr>\n",
       "  </tbody>\n",
       "</table>\n",
       "</div>"
      ],
      "text/plain": [
       "      ns    pageid                         title          Category  \\\n",
       "1527   0  11273721  Hierarchical temporal memory  Machine Learning   \n",
       "1528   0  33742232  Restricted Boltzmann machine  Machine Learning   \n",
       "1529   0     76996           Self-organizing map  Machine Learning   \n",
       "1530   0  48813654    Sparse dictionary learning  Machine Learning   \n",
       "1531   0     47805           Vector quantization  Machine Learning   \n",
       "\n",
       "                                                   Text  \n",
       "1527  Hierarchical temporal memory HTM is a biologic...  \n",
       "1528  A restricted Boltzmann machine RBM is a genera...  \n",
       "1529  A selforganizing map SOM or selforganizing fea...  \n",
       "1530  Sparse dictionary learning is a representation...  \n",
       "1531  Vector quantization VQ is a classical quantiza...  "
      ]
     },
     "execution_count": 243,
     "metadata": {},
     "output_type": "execute_result"
    }
   ],
   "source": [
    "machine_learning_md3_df.tail()"
   ]
  },
  {
   "cell_type": "code",
   "execution_count": 293,
   "metadata": {},
   "outputs": [],
   "source": []
  },
  {
   "cell_type": "markdown",
   "metadata": {},
   "source": [
    "#### Pickling the final machine learning Dataframe, with articles included"
   ]
  },
  {
   "cell_type": "code",
   "execution_count": 241,
   "metadata": {},
   "outputs": [],
   "source": [
    "machine_learning_md3_df.to_pickle('../pickle_jar/machine_learning_md3_df.p')"
   ]
  },
  {
   "cell_type": "code",
   "execution_count": 55,
   "metadata": {},
   "outputs": [],
   "source": [
    "machine_learning_md3_df = pd.read_pickle('../pickle_jar/machine_learning_md3_df.p')"
   ]
  },
  {
   "cell_type": "code",
   "execution_count": null,
   "metadata": {},
   "outputs": [],
   "source": []
  },
  {
   "cell_type": "code",
   "execution_count": 302,
   "metadata": {},
   "outputs": [
    {
     "data": {
      "text/plain": [
       "((1001, 5), (532, 5))"
      ]
     },
     "execution_count": 302,
     "metadata": {},
     "output_type": "execute_result"
    }
   ],
   "source": [
    "ml_df1 = machine_learning_md3_df.copy()\n",
    "ml_df2 = machine_learning_md3_df.copy()\n",
    "\n",
    "###Since dict is too large to send to MongoDB, we will break into 2 separate DF's\n",
    "\n",
    "# ml_df1.drop([i for i in range(1000,1531)], axis=0, inplace=True)\n",
    "# ml_df2.drop([i for i in range(0,1000)], axis=0, inplace=True)\n",
    "\n",
    "ml_df1.shape, ml_df2.shape\n"
   ]
  },
  {
   "cell_type": "code",
   "execution_count": 303,
   "metadata": {},
   "outputs": [],
   "source": [
    "ml_dict1 = ml_df1.to_dict('list')\n",
    "ml_dict2 = ml_df2.to_dict('list')"
   ]
  },
  {
   "cell_type": "code",
   "execution_count": null,
   "metadata": {},
   "outputs": [],
   "source": []
  },
  {
   "cell_type": "markdown",
   "metadata": {},
   "source": [
    "#### filling our Business Software dataframe with articles"
   ]
  },
  {
   "cell_type": "code",
   "execution_count": 256,
   "metadata": {
    "scrolled": true
   },
   "outputs": [],
   "source": [
    "### only uncomment the next line if you want to reset all text \n",
    "# business_software_md3_df['Text'] = None\n",
    "\n",
    "for i,j in enumerate(business_software_md3_df['pageid']):\n",
    "#     print(i,j)\n",
    "    business_software_md3_df['Text'][i] = get_page_contents(j)\n",
    "    \n",
    "    \n",
    "    ### Returned 3684 observations\n",
    "    ### use this for loop and get_page_contents to extract all page contents. "
   ]
  },
  {
   "cell_type": "code",
   "execution_count": 308,
   "metadata": {},
   "outputs": [
    {
     "data": {
      "text/plain": [
       "(4121, 5)"
      ]
     },
     "execution_count": 308,
     "metadata": {},
     "output_type": "execute_result"
    }
   ],
   "source": [
    "business_software_md3_df.head()"
   ]
  },
  {
   "cell_type": "code",
   "execution_count": 318,
   "metadata": {},
   "outputs": [
    {
     "data": {
      "text/html": [
       "<div>\n",
       "<table border=\"1\" class=\"dataframe\">\n",
       "  <thead>\n",
       "    <tr style=\"text-align: right;\">\n",
       "      <th></th>\n",
       "      <th>ns</th>\n",
       "      <th>pageid</th>\n",
       "      <th>title</th>\n",
       "      <th>Category</th>\n",
       "      <th>Text</th>\n",
       "    </tr>\n",
       "  </thead>\n",
       "  <tbody>\n",
       "    <tr>\n",
       "      <th>4116</th>\n",
       "      <td>0</td>\n",
       "      <td>1577008</td>\n",
       "      <td>Ted (word processor)</td>\n",
       "      <td>Business Software</td>\n",
       "      <td>Ted is a word processor for the X Window Syste...</td>\n",
       "    </tr>\n",
       "    <tr>\n",
       "      <th>4117</th>\n",
       "      <td>0</td>\n",
       "      <td>37628014</td>\n",
       "      <td>Thorn EMI Liberator</td>\n",
       "      <td>Business Software</td>\n",
       "      <td>The Thorn EMI Liberator was a laptop word proc...</td>\n",
       "    </tr>\n",
       "    <tr>\n",
       "      <th>4118</th>\n",
       "      <td>0</td>\n",
       "      <td>34306381</td>\n",
       "      <td>Trelby</td>\n",
       "      <td>Business Software</td>\n",
       "      <td>Trelby is a free and open source screenwriting...</td>\n",
       "    </tr>\n",
       "    <tr>\n",
       "      <th>4119</th>\n",
       "      <td>0</td>\n",
       "      <td>29902828</td>\n",
       "      <td>Word Juggler</td>\n",
       "      <td>Business Software</td>\n",
       "      <td>Word Juggler was a word processor application ...</td>\n",
       "    </tr>\n",
       "    <tr>\n",
       "      <th>4120</th>\n",
       "      <td>0</td>\n",
       "      <td>826279</td>\n",
       "      <td>WordMARC</td>\n",
       "      <td>Business Software</td>\n",
       "      <td>WordMARC was a scientifically oriented word pr...</td>\n",
       "    </tr>\n",
       "  </tbody>\n",
       "</table>\n",
       "</div>"
      ],
      "text/plain": [
       "      ns    pageid                 title           Category  \\\n",
       "4116   0   1577008  Ted (word processor)  Business Software   \n",
       "4117   0  37628014   Thorn EMI Liberator  Business Software   \n",
       "4118   0  34306381                Trelby  Business Software   \n",
       "4119   0  29902828          Word Juggler  Business Software   \n",
       "4120   0    826279              WordMARC  Business Software   \n",
       "\n",
       "                                                   Text  \n",
       "4116  Ted is a word processor for the X Window Syste...  \n",
       "4117  The Thorn EMI Liberator was a laptop word proc...  \n",
       "4118  Trelby is a free and open source screenwriting...  \n",
       "4119  Word Juggler was a word processor application ...  \n",
       "4120  WordMARC was a scientifically oriented word pr...  "
      ]
     },
     "execution_count": 318,
     "metadata": {},
     "output_type": "execute_result"
    }
   ],
   "source": [
    "business_software_md3_df.tail()"
   ]
  },
  {
   "cell_type": "code",
   "execution_count": 259,
   "metadata": {},
   "outputs": [],
   "source": [
    "business_software_md3_df.to_pickle('../pickle_jar/business_software_md3_df.p')\n",
    "\n",
    "###this DF contains ~4120 articles."
   ]
  },
  {
   "cell_type": "code",
   "execution_count": 56,
   "metadata": {},
   "outputs": [],
   "source": [
    "business_software_md3_df = pd.read_pickle('../pickle_jar/business_software_md3_df.p')"
   ]
  },
  {
   "cell_type": "code",
   "execution_count": 314,
   "metadata": {},
   "outputs": [],
   "source": [
    "bs_dict = business_software_md3_df.to_dict('list')"
   ]
  },
  {
   "cell_type": "code",
   "execution_count": null,
   "metadata": {},
   "outputs": [],
   "source": [
    "\n"
   ]
  },
  {
   "cell_type": "code",
   "execution_count": null,
   "metadata": {},
   "outputs": [],
   "source": []
  },
  {
   "cell_type": "code",
   "execution_count": null,
   "metadata": {},
   "outputs": [],
   "source": []
  },
  {
   "cell_type": "code",
   "execution_count": null,
   "metadata": {},
   "outputs": [],
   "source": []
  },
  {
   "cell_type": "markdown",
   "metadata": {},
   "source": [
    "### Setting up our Mongo database"
   ]
  },
  {
   "cell_type": "code",
   "execution_count": 35,
   "metadata": {},
   "outputs": [],
   "source": [
    "client = pymongo.MongoClient('34.214.191.95', 27016)"
   ]
  },
  {
   "cell_type": "code",
   "execution_count": 46,
   "metadata": {},
   "outputs": [
    {
     "data": {
      "text/plain": [
       "(['admin', 'local', 'my_database', 'test', 'twitter'], ['my_collection'])"
      ]
     },
     "execution_count": 46,
     "metadata": {},
     "output_type": "execute_result"
    }
   ],
   "source": [
    "client.database_names(), db_ref.collection_names()"
   ]
  },
  {
   "cell_type": "markdown",
   "metadata": {},
   "source": [
    "#### Creating and confirming that `Machine` exists"
   ]
  },
  {
   "cell_type": "code",
   "execution_count": 36,
   "metadata": {
    "scrolled": false
   },
   "outputs": [
    {
     "data": {
      "text/plain": [
       "Database(MongoClient(host=['34.214.191.95:27016'], document_class=dict, tz_aware=False, connect=True), 'Machine')"
      ]
     },
     "execution_count": 36,
     "metadata": {},
     "output_type": "execute_result"
    }
   ],
   "source": [
    "client['Machine']\n",
    "\n",
    "###we see this is now a database"
   ]
  },
  {
   "cell_type": "markdown",
   "metadata": {},
   "source": [
    "#### Setting up reference to `Machine`"
   ]
  },
  {
   "cell_type": "code",
   "execution_count": 47,
   "metadata": {},
   "outputs": [],
   "source": [
    "db_ref = client.Machine"
   ]
  },
  {
   "cell_type": "code",
   "execution_count": 48,
   "metadata": {},
   "outputs": [
    {
     "data": {
      "text/plain": [
       "Database(MongoClient(host=['34.214.191.95:27016'], document_class=dict, tz_aware=False, connect=True), 'Machine')"
      ]
     },
     "execution_count": 48,
     "metadata": {},
     "output_type": "execute_result"
    }
   ],
   "source": [
    "db_ref\n",
    "\n",
    "### confirming that machine is the "
   ]
  },
  {
   "cell_type": "markdown",
   "metadata": {},
   "source": [
    "#### setting up `coll_ref` to `my_collection`"
   ]
  },
  {
   "cell_type": "code",
   "execution_count": 49,
   "metadata": {},
   "outputs": [],
   "source": [
    "coll_ref = db_ref.my_collection"
   ]
  },
  {
   "cell_type": "code",
   "execution_count": null,
   "metadata": {},
   "outputs": [],
   "source": []
  },
  {
   "cell_type": "markdown",
   "metadata": {},
   "source": [
    "#### creating and inserting a sample_doc"
   ]
  },
  {
   "cell_type": "code",
   "execution_count": 41,
   "metadata": {},
   "outputs": [],
   "source": [
    "sample_doc = {\"name\":\"Kevin\", \"message\":\"Test\", 'my_array' :[1,2,3,4,5,6,7,9]}"
   ]
  },
  {
   "cell_type": "code",
   "execution_count": 315,
   "metadata": {},
   "outputs": [
    {
     "data": {
      "text/plain": [
       "<pymongo.results.InsertOneResult at 0x7f4502721ee8>"
      ]
     },
     "execution_count": 315,
     "metadata": {},
     "output_type": "execute_result"
    }
   ],
   "source": [
    "### Inserting 2 separate dictionaries for ML & 1 dict for BS\n",
    "\n",
    "# coll_ref.insert_one(ml_dict1)\n",
    "# coll_ref.insert_one(ml_dict2)\n",
    "# coll_ref.insert_one(bs_dict)"
   ]
  },
  {
   "cell_type": "markdown",
   "metadata": {},
   "source": [
    "#### confirming that our new database, `machine`, exists"
   ]
  },
  {
   "cell_type": "code",
   "execution_count": 306,
   "metadata": {},
   "outputs": [
    {
     "data": {
      "text/plain": [
       "(['Machine', 'admin', 'local', 'my_database', 'test', 'twitter'],\n",
       " ['my_collection'])"
      ]
     },
     "execution_count": 306,
     "metadata": {},
     "output_type": "execute_result"
    }
   ],
   "source": [
    "client.database_names(), db_ref.collection_names()\n",
    "\n",
    "### we see it here!!!"
   ]
  },
  {
   "cell_type": "code",
   "execution_count": 42,
   "metadata": {},
   "outputs": [],
   "source": []
  },
  {
   "cell_type": "code",
   "execution_count": null,
   "metadata": {},
   "outputs": [],
   "source": []
  },
  {
   "cell_type": "markdown",
   "metadata": {},
   "source": [
    "### create a cursor"
   ]
  },
  {
   "cell_type": "code",
   "execution_count": 20,
   "metadata": {},
   "outputs": [],
   "source": [
    "cursor = coll_ref.find()"
   ]
  },
  {
   "cell_type": "code",
   "execution_count": 21,
   "metadata": {
    "scrolled": true
   },
   "outputs": [
    {
     "data": {
      "text/plain": [
       "<pymongo.cursor.Cursor at 0x7f4534948908>"
      ]
     },
     "execution_count": 21,
     "metadata": {},
     "output_type": "execute_result"
    }
   ],
   "source": [
    "cursor"
   ]
  },
  {
   "cell_type": "code",
   "execution_count": null,
   "metadata": {},
   "outputs": [],
   "source": [
    "cursor = coll_ref.find()\n",
    "\n",
    "cursor\n",
    "\n",
    "sample_docs = list(cursor)"
   ]
  },
  {
   "cell_type": "code",
   "execution_count": 317,
   "metadata": {},
   "outputs": [
    {
     "data": {
      "text/plain": [
       "4"
      ]
     },
     "execution_count": 317,
     "metadata": {},
     "output_type": "execute_result"
    }
   ],
   "source": [
    "coll_ref.count()\n",
    "\n",
    "### 3 includes 1 sample doc and 2 ML dictionaries, and 1 BS dictionary"
   ]
  },
  {
   "cell_type": "code",
   "execution_count": null,
   "metadata": {},
   "outputs": [],
   "source": []
  },
  {
   "cell_type": "code",
   "execution_count": null,
   "metadata": {},
   "outputs": [],
   "source": []
  },
  {
   "cell_type": "code",
   "execution_count": null,
   "metadata": {},
   "outputs": [],
   "source": []
  },
  {
   "cell_type": "code",
   "execution_count": null,
   "metadata": {},
   "outputs": [],
   "source": [
    "1) # Create new database\n",
    "\n",
    "2)# Create variable that references wikipedia db\n",
    "# business_db = db_ref.business\n",
    "# machine_db = db_ref.machine\n",
    "\n",
    "# OR \n",
    "\n",
    "# wiki_db = db_ref.wiki\n",
    "\n",
    "\n"
   ]
  }
 ],
 "metadata": {
  "kernelspec": {
   "display_name": "Python 3",
   "language": "python",
   "name": "python3"
  },
  "language_info": {
   "codemirror_mode": {
    "name": "ipython",
    "version": 3
   },
   "file_extension": ".py",
   "mimetype": "text/x-python",
   "name": "python",
   "nbconvert_exporter": "python",
   "pygments_lexer": "ipython3",
   "version": "3.6.2"
  }
 },
 "nbformat": 4,
 "nbformat_minor": 2
}
