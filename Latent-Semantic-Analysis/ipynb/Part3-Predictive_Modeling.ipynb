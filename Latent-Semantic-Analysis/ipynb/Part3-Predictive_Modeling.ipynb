{
 "cells": [
  {
   "cell_type": "code",
   "execution_count": 1,
   "metadata": {},
   "outputs": [
    {
     "name": "stdout",
     "output_type": "stream",
     "text": [
      "\n",
      "\n",
      "# All requested packages already installed.\n",
      "# packages in environment at /opt/conda:\n",
      "#\n",
      "pymongo                   3.4.0                    py36_0    defaults\n"
     ]
    }
   ],
   "source": [
    "!conda install --yes --quiet pymongo\n"
   ]
  },
  {
   "cell_type": "code",
   "execution_count": 74,
   "metadata": {},
   "outputs": [],
   "source": [
    "import pymongo\n",
    "import sys\n",
    "import warnings\n",
    "warnings.filterwarnings(\"ignore\")"
   ]
  },
  {
   "cell_type": "code",
   "execution_count": 2,
   "metadata": {},
   "outputs": [],
   "source": [
    "import matplotlib.pyplot as plt\n",
    "import re\n",
    "import requests\n",
    "import pandas as pd\n",
    "import numpy as np"
   ]
  },
  {
   "cell_type": "code",
   "execution_count": 21,
   "metadata": {},
   "outputs": [],
   "source": [
    "from sklearn.model_selection import GridSearchCV\n",
    "from sklearn.neighbors import KNeighborsClassifier\n",
    "from sklearn.preprocessing import StandardScaler\n",
    "from sklearn.preprocessing import LabelEncoder"
   ]
  },
  {
   "cell_type": "markdown",
   "metadata": {
    "scrolled": true
   },
   "source": [
    "#### Importing Machine Learning DataFrame"
   ]
  },
  {
   "cell_type": "code",
   "execution_count": 241,
   "metadata": {},
   "outputs": [],
   "source": [
    "machine_learning_md3_df.to_pickle('../pickle_jar/machine_learning_md3_df.p')"
   ]
  },
  {
   "cell_type": "code",
   "execution_count": 3,
   "metadata": {},
   "outputs": [],
   "source": [
    "machine_learning_md3_df = pd.read_pickle('../pickle_jar/machine_learning_md3_df.p')"
   ]
  },
  {
   "cell_type": "code",
   "execution_count": 4,
   "metadata": {},
   "outputs": [
    {
     "data": {
      "text/html": [
       "<div>\n",
       "<table border=\"1\" class=\"dataframe\">\n",
       "  <thead>\n",
       "    <tr style=\"text-align: right;\">\n",
       "      <th></th>\n",
       "      <th>ns</th>\n",
       "      <th>pageid</th>\n",
       "      <th>title</th>\n",
       "      <th>Category</th>\n",
       "      <th>Text</th>\n",
       "    </tr>\n",
       "  </thead>\n",
       "  <tbody>\n",
       "    <tr>\n",
       "      <th>1527</th>\n",
       "      <td>0</td>\n",
       "      <td>11273721</td>\n",
       "      <td>Hierarchical temporal memory</td>\n",
       "      <td>Machine Learning</td>\n",
       "      <td>Hierarchical temporal memory HTM is a biologic...</td>\n",
       "    </tr>\n",
       "    <tr>\n",
       "      <th>1528</th>\n",
       "      <td>0</td>\n",
       "      <td>33742232</td>\n",
       "      <td>Restricted Boltzmann machine</td>\n",
       "      <td>Machine Learning</td>\n",
       "      <td>A restricted Boltzmann machine RBM is a genera...</td>\n",
       "    </tr>\n",
       "    <tr>\n",
       "      <th>1529</th>\n",
       "      <td>0</td>\n",
       "      <td>76996</td>\n",
       "      <td>Self-organizing map</td>\n",
       "      <td>Machine Learning</td>\n",
       "      <td>A selforganizing map SOM or selforganizing fea...</td>\n",
       "    </tr>\n",
       "    <tr>\n",
       "      <th>1530</th>\n",
       "      <td>0</td>\n",
       "      <td>48813654</td>\n",
       "      <td>Sparse dictionary learning</td>\n",
       "      <td>Machine Learning</td>\n",
       "      <td>Sparse dictionary learning is a representation...</td>\n",
       "    </tr>\n",
       "    <tr>\n",
       "      <th>1531</th>\n",
       "      <td>0</td>\n",
       "      <td>47805</td>\n",
       "      <td>Vector quantization</td>\n",
       "      <td>Machine Learning</td>\n",
       "      <td>Vector quantization VQ is a classical quantiza...</td>\n",
       "    </tr>\n",
       "  </tbody>\n",
       "</table>\n",
       "</div>"
      ],
      "text/plain": [
       "      ns    pageid                         title          Category  \\\n",
       "1527   0  11273721  Hierarchical temporal memory  Machine Learning   \n",
       "1528   0  33742232  Restricted Boltzmann machine  Machine Learning   \n",
       "1529   0     76996           Self-organizing map  Machine Learning   \n",
       "1530   0  48813654    Sparse dictionary learning  Machine Learning   \n",
       "1531   0     47805           Vector quantization  Machine Learning   \n",
       "\n",
       "                                                   Text  \n",
       "1527  Hierarchical temporal memory HTM is a biologic...  \n",
       "1528  A restricted Boltzmann machine RBM is a genera...  \n",
       "1529  A selforganizing map SOM or selforganizing fea...  \n",
       "1530  Sparse dictionary learning is a representation...  \n",
       "1531  Vector quantization VQ is a classical quantiza...  "
      ]
     },
     "execution_count": 4,
     "metadata": {},
     "output_type": "execute_result"
    }
   ],
   "source": [
    "machine_learning_md3_df.tail()"
   ]
  },
  {
   "cell_type": "code",
   "execution_count": 5,
   "metadata": {},
   "outputs": [
    {
     "data": {
      "text/html": [
       "<div>\n",
       "<table border=\"1\" class=\"dataframe\">\n",
       "  <thead>\n",
       "    <tr style=\"text-align: right;\">\n",
       "      <th></th>\n",
       "      <th>ns</th>\n",
       "      <th>pageid</th>\n",
       "      <th>title</th>\n",
       "      <th>Category</th>\n",
       "      <th>Text</th>\n",
       "    </tr>\n",
       "  </thead>\n",
       "  <tbody>\n",
       "    <tr>\n",
       "      <th>0</th>\n",
       "      <td>0</td>\n",
       "      <td>43385931</td>\n",
       "      <td>Data exploration</td>\n",
       "      <td>Machine Learning</td>\n",
       "      <td>Data exploration is an approach similar to ini...</td>\n",
       "    </tr>\n",
       "    <tr>\n",
       "      <th>1</th>\n",
       "      <td>0</td>\n",
       "      <td>49082762</td>\n",
       "      <td>List of datasets for machine learning research</td>\n",
       "      <td>Machine Learning</td>\n",
       "      <td>These datasets are used for machinelearning re...</td>\n",
       "    </tr>\n",
       "    <tr>\n",
       "      <th>2</th>\n",
       "      <td>0</td>\n",
       "      <td>233488</td>\n",
       "      <td>Machine learning</td>\n",
       "      <td>Machine Learning</td>\n",
       "      <td>Machine learning is a field of computer scienc...</td>\n",
       "    </tr>\n",
       "    <tr>\n",
       "      <th>3</th>\n",
       "      <td>0</td>\n",
       "      <td>53587467</td>\n",
       "      <td>Outline of machine learning</td>\n",
       "      <td>Machine Learning</td>\n",
       "      <td>The following outline is provided as an overvi...</td>\n",
       "    </tr>\n",
       "    <tr>\n",
       "      <th>4</th>\n",
       "      <td>0</td>\n",
       "      <td>3771060</td>\n",
       "      <td>Accuracy paradox</td>\n",
       "      <td>Machine Learning</td>\n",
       "      <td>The accuracy paradox for predictive analytics ...</td>\n",
       "    </tr>\n",
       "  </tbody>\n",
       "</table>\n",
       "</div>"
      ],
      "text/plain": [
       "   ns    pageid                                           title  \\\n",
       "0   0  43385931                                Data exploration   \n",
       "1   0  49082762  List of datasets for machine learning research   \n",
       "2   0    233488                                Machine learning   \n",
       "3   0  53587467                     Outline of machine learning   \n",
       "4   0   3771060                                Accuracy paradox   \n",
       "\n",
       "           Category                                               Text  \n",
       "0  Machine Learning  Data exploration is an approach similar to ini...  \n",
       "1  Machine Learning  These datasets are used for machinelearning re...  \n",
       "2  Machine Learning  Machine learning is a field of computer scienc...  \n",
       "3  Machine Learning  The following outline is provided as an overvi...  \n",
       "4  Machine Learning  The accuracy paradox for predictive analytics ...  "
      ]
     },
     "execution_count": 5,
     "metadata": {},
     "output_type": "execute_result"
    }
   ],
   "source": [
    "# machine_learning_md3_df['Text'][177] = get_page_contents(1579244)\n",
    "machine_learning_md3_df.head()"
   ]
  },
  {
   "cell_type": "markdown",
   "metadata": {},
   "source": [
    "#### Importing Business Software Dataframe"
   ]
  },
  {
   "cell_type": "code",
   "execution_count": 11,
   "metadata": {},
   "outputs": [
    {
     "data": {
      "text/plain": [
       "(4121, 5)"
      ]
     },
     "execution_count": 11,
     "metadata": {},
     "output_type": "execute_result"
    }
   ],
   "source": [
    "business_software_md3_df.shape"
   ]
  },
  {
   "cell_type": "code",
   "execution_count": 7,
   "metadata": {},
   "outputs": [
    {
     "data": {
      "text/html": [
       "<div>\n",
       "<table border=\"1\" class=\"dataframe\">\n",
       "  <thead>\n",
       "    <tr style=\"text-align: right;\">\n",
       "      <th></th>\n",
       "      <th>ns</th>\n",
       "      <th>pageid</th>\n",
       "      <th>title</th>\n",
       "      <th>Category</th>\n",
       "      <th>Text</th>\n",
       "    </tr>\n",
       "  </thead>\n",
       "  <tbody>\n",
       "    <tr>\n",
       "      <th>4116</th>\n",
       "      <td>0</td>\n",
       "      <td>1577008</td>\n",
       "      <td>Ted (word processor)</td>\n",
       "      <td>Business Software</td>\n",
       "      <td>Ted is a word processor for the X Window Syste...</td>\n",
       "    </tr>\n",
       "    <tr>\n",
       "      <th>4117</th>\n",
       "      <td>0</td>\n",
       "      <td>37628014</td>\n",
       "      <td>Thorn EMI Liberator</td>\n",
       "      <td>Business Software</td>\n",
       "      <td>The Thorn EMI Liberator was a laptop word proc...</td>\n",
       "    </tr>\n",
       "    <tr>\n",
       "      <th>4118</th>\n",
       "      <td>0</td>\n",
       "      <td>34306381</td>\n",
       "      <td>Trelby</td>\n",
       "      <td>Business Software</td>\n",
       "      <td>Trelby is a free and open source screenwriting...</td>\n",
       "    </tr>\n",
       "    <tr>\n",
       "      <th>4119</th>\n",
       "      <td>0</td>\n",
       "      <td>29902828</td>\n",
       "      <td>Word Juggler</td>\n",
       "      <td>Business Software</td>\n",
       "      <td>Word Juggler was a word processor application ...</td>\n",
       "    </tr>\n",
       "    <tr>\n",
       "      <th>4120</th>\n",
       "      <td>0</td>\n",
       "      <td>826279</td>\n",
       "      <td>WordMARC</td>\n",
       "      <td>Business Software</td>\n",
       "      <td>WordMARC was a scientifically oriented word pr...</td>\n",
       "    </tr>\n",
       "  </tbody>\n",
       "</table>\n",
       "</div>"
      ],
      "text/plain": [
       "      ns    pageid                 title           Category  \\\n",
       "4116   0   1577008  Ted (word processor)  Business Software   \n",
       "4117   0  37628014   Thorn EMI Liberator  Business Software   \n",
       "4118   0  34306381                Trelby  Business Software   \n",
       "4119   0  29902828          Word Juggler  Business Software   \n",
       "4120   0    826279              WordMARC  Business Software   \n",
       "\n",
       "                                                   Text  \n",
       "4116  Ted is a word processor for the X Window Syste...  \n",
       "4117  The Thorn EMI Liberator was a laptop word proc...  \n",
       "4118  Trelby is a free and open source screenwriting...  \n",
       "4119  Word Juggler was a word processor application ...  \n",
       "4120  WordMARC was a scientifically oriented word pr...  "
      ]
     },
     "execution_count": 7,
     "metadata": {},
     "output_type": "execute_result"
    }
   ],
   "source": [
    "business_software_md3_df.tail()"
   ]
  },
  {
   "cell_type": "code",
   "execution_count": 9,
   "metadata": {},
   "outputs": [],
   "source": [
    "business_software_md3_df.to_pickle('../pickle_jar/business_software_md3_df.p')\n",
    "\n",
    "###this DF contains ~4120 articles."
   ]
  },
  {
   "cell_type": "code",
   "execution_count": 6,
   "metadata": {},
   "outputs": [],
   "source": [
    "business_software_md3_df = pd.read_pickle('../pickle_jar/business_software_md3_df.p')"
   ]
  },
  {
   "cell_type": "code",
   "execution_count": 314,
   "metadata": {},
   "outputs": [],
   "source": [
    "bs_dict = business_software_md3_df.to_dict('list')"
   ]
  },
  {
   "cell_type": "markdown",
   "metadata": {},
   "source": [
    "### Combining both dataframes into 1\n"
   ]
  },
  {
   "cell_type": "code",
   "execution_count": 8,
   "metadata": {},
   "outputs": [
    {
     "data": {
      "text/html": [
       "<div>\n",
       "<table border=\"1\" class=\"dataframe\">\n",
       "  <thead>\n",
       "    <tr style=\"text-align: right;\">\n",
       "      <th></th>\n",
       "      <th>ns</th>\n",
       "      <th>pageid</th>\n",
       "      <th>title</th>\n",
       "      <th>Category</th>\n",
       "      <th>Text</th>\n",
       "    </tr>\n",
       "  </thead>\n",
       "  <tbody>\n",
       "    <tr>\n",
       "      <th>6116</th>\n",
       "      <td>0</td>\n",
       "      <td>1577008</td>\n",
       "      <td>Ted (word processor)</td>\n",
       "      <td>Business Software</td>\n",
       "      <td>Ted is a word processor for the X Window Syste...</td>\n",
       "    </tr>\n",
       "    <tr>\n",
       "      <th>6117</th>\n",
       "      <td>0</td>\n",
       "      <td>37628014</td>\n",
       "      <td>Thorn EMI Liberator</td>\n",
       "      <td>Business Software</td>\n",
       "      <td>The Thorn EMI Liberator was a laptop word proc...</td>\n",
       "    </tr>\n",
       "    <tr>\n",
       "      <th>6118</th>\n",
       "      <td>0</td>\n",
       "      <td>34306381</td>\n",
       "      <td>Trelby</td>\n",
       "      <td>Business Software</td>\n",
       "      <td>Trelby is a free and open source screenwriting...</td>\n",
       "    </tr>\n",
       "    <tr>\n",
       "      <th>6119</th>\n",
       "      <td>0</td>\n",
       "      <td>29902828</td>\n",
       "      <td>Word Juggler</td>\n",
       "      <td>Business Software</td>\n",
       "      <td>Word Juggler was a word processor application ...</td>\n",
       "    </tr>\n",
       "    <tr>\n",
       "      <th>6120</th>\n",
       "      <td>0</td>\n",
       "      <td>826279</td>\n",
       "      <td>WordMARC</td>\n",
       "      <td>Business Software</td>\n",
       "      <td>WordMARC was a scientifically oriented word pr...</td>\n",
       "    </tr>\n",
       "  </tbody>\n",
       "</table>\n",
       "</div>"
      ],
      "text/plain": [
       "      ns    pageid                 title           Category  \\\n",
       "6116   0   1577008  Ted (word processor)  Business Software   \n",
       "6117   0  37628014   Thorn EMI Liberator  Business Software   \n",
       "6118   0  34306381                Trelby  Business Software   \n",
       "6119   0  29902828          Word Juggler  Business Software   \n",
       "6120   0    826279              WordMARC  Business Software   \n",
       "\n",
       "                                                   Text  \n",
       "6116  Ted is a word processor for the X Window Syste...  \n",
       "6117  The Thorn EMI Liberator was a laptop word proc...  \n",
       "6118  Trelby is a free and open source screenwriting...  \n",
       "6119  Word Juggler was a word processor application ...  \n",
       "6120  WordMARC was a scientifically oriented word pr...  "
      ]
     },
     "execution_count": 8,
     "metadata": {},
     "output_type": "execute_result"
    }
   ],
   "source": [
    "###creating new indexes in order to concatenate\n",
    "\n",
    "bs_index_new_list = []\n",
    "for i in range(2000, 6121):\n",
    "    bs_index_new_list.append(i)\n",
    "    \n",
    "business_software_md3_df.index = bs_index_new_list\n",
    "\n",
    "\n",
    "business_software_md3_df.tail()"
   ]
  },
  {
   "cell_type": "code",
   "execution_count": null,
   "metadata": {},
   "outputs": [],
   "source": []
  },
  {
   "cell_type": "code",
   "execution_count": 10,
   "metadata": {},
   "outputs": [
    {
     "data": {
      "text/html": [
       "<div>\n",
       "<table border=\"1\" class=\"dataframe\">\n",
       "  <thead>\n",
       "    <tr style=\"text-align: right;\">\n",
       "      <th></th>\n",
       "      <th>ns</th>\n",
       "      <th>pageid</th>\n",
       "      <th>title</th>\n",
       "      <th>Category</th>\n",
       "      <th>Text</th>\n",
       "    </tr>\n",
       "  </thead>\n",
       "  <tbody>\n",
       "    <tr>\n",
       "      <th>0</th>\n",
       "      <td>0</td>\n",
       "      <td>43385931</td>\n",
       "      <td>Data exploration</td>\n",
       "      <td>Machine Learning</td>\n",
       "      <td>Data exploration is an approach similar to ini...</td>\n",
       "    </tr>\n",
       "    <tr>\n",
       "      <th>1</th>\n",
       "      <td>0</td>\n",
       "      <td>49082762</td>\n",
       "      <td>List of datasets for machine learning research</td>\n",
       "      <td>Machine Learning</td>\n",
       "      <td>These datasets are used for machinelearning re...</td>\n",
       "    </tr>\n",
       "    <tr>\n",
       "      <th>2</th>\n",
       "      <td>0</td>\n",
       "      <td>233488</td>\n",
       "      <td>Machine learning</td>\n",
       "      <td>Machine Learning</td>\n",
       "      <td>Machine learning is a field of computer scienc...</td>\n",
       "    </tr>\n",
       "    <tr>\n",
       "      <th>3</th>\n",
       "      <td>0</td>\n",
       "      <td>53587467</td>\n",
       "      <td>Outline of machine learning</td>\n",
       "      <td>Machine Learning</td>\n",
       "      <td>The following outline is provided as an overvi...</td>\n",
       "    </tr>\n",
       "    <tr>\n",
       "      <th>4</th>\n",
       "      <td>0</td>\n",
       "      <td>3771060</td>\n",
       "      <td>Accuracy paradox</td>\n",
       "      <td>Machine Learning</td>\n",
       "      <td>The accuracy paradox for predictive analytics ...</td>\n",
       "    </tr>\n",
       "  </tbody>\n",
       "</table>\n",
       "</div>"
      ],
      "text/plain": [
       "   ns    pageid                                           title  \\\n",
       "0   0  43385931                                Data exploration   \n",
       "1   0  49082762  List of datasets for machine learning research   \n",
       "2   0    233488                                Machine learning   \n",
       "3   0  53587467                     Outline of machine learning   \n",
       "4   0   3771060                                Accuracy paradox   \n",
       "\n",
       "           Category                                               Text  \n",
       "0  Machine Learning  Data exploration is an approach similar to ini...  \n",
       "1  Machine Learning  These datasets are used for machinelearning re...  \n",
       "2  Machine Learning  Machine learning is a field of computer scienc...  \n",
       "3  Machine Learning  The following outline is provided as an overvi...  \n",
       "4  Machine Learning  The accuracy paradox for predictive analytics ...  "
      ]
     },
     "execution_count": 10,
     "metadata": {},
     "output_type": "execute_result"
    }
   ],
   "source": [
    "dataframes = [machine_learning_md3_df, business_software_md3_df]\n",
    "corpus = pd.concat(dataframes)\n",
    "corpus.head()"
   ]
  },
  {
   "cell_type": "code",
   "execution_count": null,
   "metadata": {},
   "outputs": [],
   "source": []
  },
  {
   "cell_type": "code",
   "execution_count": 5,
   "metadata": {},
   "outputs": [
    {
     "data": {
      "text/plain": [
       "(5653, 6)"
      ]
     },
     "execution_count": 5,
     "metadata": {},
     "output_type": "execute_result"
    }
   ],
   "source": [
    "corpus.shape\n",
    "## (5653, 6) is good"
   ]
  },
  {
   "cell_type": "code",
   "execution_count": 16,
   "metadata": {},
   "outputs": [],
   "source": [
    "corpus.to_pickle('../pickle_jar/corpus.p')"
   ]
  },
  {
   "cell_type": "code",
   "execution_count": 5,
   "metadata": {},
   "outputs": [],
   "source": [
    "corpus = pd.read_pickle('../pickle_jar/corpus.p')"
   ]
  },
  {
   "cell_type": "code",
   "execution_count": 6,
   "metadata": {},
   "outputs": [
    {
     "data": {
      "text/html": [
       "<div>\n",
       "<table border=\"1\" class=\"dataframe\">\n",
       "  <thead>\n",
       "    <tr style=\"text-align: right;\">\n",
       "      <th></th>\n",
       "      <th>ns</th>\n",
       "      <th>pageid</th>\n",
       "      <th>title</th>\n",
       "      <th>Category</th>\n",
       "      <th>Text</th>\n",
       "      <th>Text_numerical</th>\n",
       "    </tr>\n",
       "  </thead>\n",
       "  <tbody>\n",
       "    <tr>\n",
       "      <th>0</th>\n",
       "      <td>0</td>\n",
       "      <td>43385931</td>\n",
       "      <td>Data exploration</td>\n",
       "      <td>Machine Learning</td>\n",
       "      <td>Data exploration is an approach similar to ini...</td>\n",
       "      <td>922</td>\n",
       "    </tr>\n",
       "    <tr>\n",
       "      <th>1</th>\n",
       "      <td>0</td>\n",
       "      <td>49082762</td>\n",
       "      <td>List of datasets for machine learning research</td>\n",
       "      <td>Machine Learning</td>\n",
       "      <td>These datasets are used for machinelearning re...</td>\n",
       "      <td>3624</td>\n",
       "    </tr>\n",
       "    <tr>\n",
       "      <th>2</th>\n",
       "      <td>0</td>\n",
       "      <td>233488</td>\n",
       "      <td>Machine learning</td>\n",
       "      <td>Machine Learning</td>\n",
       "      <td>Machine learning is a field of computer scienc...</td>\n",
       "      <td>2112</td>\n",
       "    </tr>\n",
       "    <tr>\n",
       "      <th>3</th>\n",
       "      <td>0</td>\n",
       "      <td>53587467</td>\n",
       "      <td>Outline of machine learning</td>\n",
       "      <td>Machine Learning</td>\n",
       "      <td>The following outline is provided as an overvi...</td>\n",
       "      <td>3549</td>\n",
       "    </tr>\n",
       "    <tr>\n",
       "      <th>4</th>\n",
       "      <td>0</td>\n",
       "      <td>3771060</td>\n",
       "      <td>Accuracy paradox</td>\n",
       "      <td>Machine Learning</td>\n",
       "      <td>The accuracy paradox for predictive analytics ...</td>\n",
       "      <td>3512</td>\n",
       "    </tr>\n",
       "  </tbody>\n",
       "</table>\n",
       "</div>"
      ],
      "text/plain": [
       "   ns    pageid                                           title  \\\n",
       "0   0  43385931                                Data exploration   \n",
       "1   0  49082762  List of datasets for machine learning research   \n",
       "2   0    233488                                Machine learning   \n",
       "3   0  53587467                     Outline of machine learning   \n",
       "4   0   3771060                                Accuracy paradox   \n",
       "\n",
       "           Category                                               Text  \\\n",
       "0  Machine Learning  Data exploration is an approach similar to ini...   \n",
       "1  Machine Learning  These datasets are used for machinelearning re...   \n",
       "2  Machine Learning  Machine learning is a field of computer scienc...   \n",
       "3  Machine Learning  The following outline is provided as an overvi...   \n",
       "4  Machine Learning  The accuracy paradox for predictive analytics ...   \n",
       "\n",
       "   Text_numerical  \n",
       "0             922  \n",
       "1            3624  \n",
       "2            2112  \n",
       "3            3549  \n",
       "4            3512  "
      ]
     },
     "execution_count": 6,
     "metadata": {},
     "output_type": "execute_result"
    }
   ],
   "source": []
  },
  {
   "cell_type": "markdown",
   "metadata": {},
   "source": [
    "#### Label Encode the Articles `'text'`, just to see the # of words in each article"
   ]
  },
  {
   "cell_type": "code",
   "execution_count": 13,
   "metadata": {},
   "outputs": [],
   "source": [
    "from sklearn.preprocessing import LabelEncoder"
   ]
  },
  {
   "cell_type": "code",
   "execution_count": 14,
   "metadata": {},
   "outputs": [],
   "source": [
    "le = LabelEncoder()\n",
    "corpus['Text_numerical'] = le.fit_transform(corpus['Text'])"
   ]
  },
  {
   "cell_type": "code",
   "execution_count": 15,
   "metadata": {},
   "outputs": [
    {
     "data": {
      "text/html": [
       "<div>\n",
       "<table border=\"1\" class=\"dataframe\">\n",
       "  <thead>\n",
       "    <tr style=\"text-align: right;\">\n",
       "      <th></th>\n",
       "      <th>ns</th>\n",
       "      <th>pageid</th>\n",
       "      <th>title</th>\n",
       "      <th>Category</th>\n",
       "      <th>Text</th>\n",
       "      <th>Text_numerical</th>\n",
       "    </tr>\n",
       "  </thead>\n",
       "  <tbody>\n",
       "    <tr>\n",
       "      <th>6116</th>\n",
       "      <td>0</td>\n",
       "      <td>1577008</td>\n",
       "      <td>Ted (word processor)</td>\n",
       "      <td>Business Software</td>\n",
       "      <td>Ted is a word processor for the X Window Syste...</td>\n",
       "      <td>3280</td>\n",
       "    </tr>\n",
       "    <tr>\n",
       "      <th>6117</th>\n",
       "      <td>0</td>\n",
       "      <td>37628014</td>\n",
       "      <td>Thorn EMI Liberator</td>\n",
       "      <td>Business Software</td>\n",
       "      <td>The Thorn EMI Liberator was a laptop word proc...</td>\n",
       "      <td>3491</td>\n",
       "    </tr>\n",
       "    <tr>\n",
       "      <th>6118</th>\n",
       "      <td>0</td>\n",
       "      <td>34306381</td>\n",
       "      <td>Trelby</td>\n",
       "      <td>Business Software</td>\n",
       "      <td>Trelby is a free and open source screenwriting...</td>\n",
       "      <td>3724</td>\n",
       "    </tr>\n",
       "    <tr>\n",
       "      <th>6119</th>\n",
       "      <td>0</td>\n",
       "      <td>29902828</td>\n",
       "      <td>Word Juggler</td>\n",
       "      <td>Business Software</td>\n",
       "      <td>Word Juggler was a word processor application ...</td>\n",
       "      <td>3902</td>\n",
       "    </tr>\n",
       "    <tr>\n",
       "      <th>6120</th>\n",
       "      <td>0</td>\n",
       "      <td>826279</td>\n",
       "      <td>WordMARC</td>\n",
       "      <td>Business Software</td>\n",
       "      <td>WordMARC was a scientifically oriented word pr...</td>\n",
       "      <td>3905</td>\n",
       "    </tr>\n",
       "  </tbody>\n",
       "</table>\n",
       "</div>"
      ],
      "text/plain": [
       "      ns    pageid                 title           Category  \\\n",
       "6116   0   1577008  Ted (word processor)  Business Software   \n",
       "6117   0  37628014   Thorn EMI Liberator  Business Software   \n",
       "6118   0  34306381                Trelby  Business Software   \n",
       "6119   0  29902828          Word Juggler  Business Software   \n",
       "6120   0    826279              WordMARC  Business Software   \n",
       "\n",
       "                                                   Text  Text_numerical  \n",
       "6116  Ted is a word processor for the X Window Syste...            3280  \n",
       "6117  The Thorn EMI Liberator was a laptop word proc...            3491  \n",
       "6118  Trelby is a free and open source screenwriting...            3724  \n",
       "6119  Word Juggler was a word processor application ...            3902  \n",
       "6120  WordMARC was a scientifically oriented word pr...            3905  "
      ]
     },
     "execution_count": 15,
     "metadata": {},
     "output_type": "execute_result"
    }
   ],
   "source": [
    "corpus.tail()"
   ]
  },
  {
   "cell_type": "code",
   "execution_count": null,
   "metadata": {},
   "outputs": [],
   "source": []
  },
  {
   "cell_type": "markdown",
   "metadata": {},
   "source": [
    "### Text Vectorize the `corpus`"
   ]
  },
  {
   "cell_type": "code",
   "execution_count": 6,
   "metadata": {},
   "outputs": [],
   "source": [
    "from sklearn.feature_extraction.text import TfidfVectorizer"
   ]
  },
  {
   "cell_type": "code",
   "execution_count": 7,
   "metadata": {},
   "outputs": [],
   "source": [
    "tfidf_vectorizer = TfidfVectorizer(min_df = 1, stop_words = 'english')"
   ]
  },
  {
   "cell_type": "code",
   "execution_count": 8,
   "metadata": {},
   "outputs": [],
   "source": [
    "document_term_matrix_sps = tfidf_vectorizer.fit_transform(corpus.Text)"
   ]
  },
  {
   "cell_type": "code",
   "execution_count": 9,
   "metadata": {},
   "outputs": [
    {
     "data": {
      "text/plain": [
       "<5653x97117 sparse matrix of type '<class 'numpy.float64'>'\n",
       "\twith 1342211 stored elements in Compressed Sparse Row format>"
      ]
     },
     "execution_count": 9,
     "metadata": {},
     "output_type": "execute_result"
    }
   ],
   "source": [
    "document_term_matrix_sps"
   ]
  },
  {
   "cell_type": "code",
   "execution_count": 10,
   "metadata": {},
   "outputs": [
    {
     "data": {
      "text/html": [
       "<div>\n",
       "<table border=\"1\" class=\"dataframe\">\n",
       "  <thead>\n",
       "    <tr style=\"text-align: right;\">\n",
       "      <th></th>\n",
       "      <th>00</th>\n",
       "      <th>000</th>\n",
       "      <th>000001</th>\n",
       "      <th>00001</th>\n",
       "      <th>0001</th>\n",
       "      <th>00010782</th>\n",
       "      <th>000198</th>\n",
       "      <th>000198ttt01584tft000198ttt0288ttf01584tft00tfffrac</th>\n",
       "      <th>0001l</th>\n",
       "      <th>0002</th>\n",
       "      <th>...</th>\n",
       "      <th>高橋書店ゲーム攻略本シリーズ</th>\n",
       "      <th>사이버메드</th>\n",
       "      <th>자이오넥스</th>\n",
       "      <th>훈민정음</th>\n",
       "      <th>ﬁnitelength</th>\n",
       "      <th>ﬂexibility</th>\n",
       "      <th>ﬂock</th>\n",
       "      <th>ﬂocking</th>\n",
       "      <th>ﬂow</th>\n",
       "      <th>ａ列車で行こうｍｄ</th>\n",
       "    </tr>\n",
       "  </thead>\n",
       "  <tbody>\n",
       "    <tr>\n",
       "      <th>0</th>\n",
       "      <td>0.0</td>\n",
       "      <td>0.0</td>\n",
       "      <td>0.0</td>\n",
       "      <td>0.0</td>\n",
       "      <td>0.0</td>\n",
       "      <td>0.0</td>\n",
       "      <td>0.0</td>\n",
       "      <td>0.0</td>\n",
       "      <td>0.0</td>\n",
       "      <td>0.0</td>\n",
       "      <td>...</td>\n",
       "      <td>0.0</td>\n",
       "      <td>0.0</td>\n",
       "      <td>0.0</td>\n",
       "      <td>0.0</td>\n",
       "      <td>0.0</td>\n",
       "      <td>0.0</td>\n",
       "      <td>0.0</td>\n",
       "      <td>0.0</td>\n",
       "      <td>0.0</td>\n",
       "      <td>0.0</td>\n",
       "    </tr>\n",
       "    <tr>\n",
       "      <th>1</th>\n",
       "      <td>0.0</td>\n",
       "      <td>0.0</td>\n",
       "      <td>0.0</td>\n",
       "      <td>0.0</td>\n",
       "      <td>0.0</td>\n",
       "      <td>0.0</td>\n",
       "      <td>0.0</td>\n",
       "      <td>0.0</td>\n",
       "      <td>0.0</td>\n",
       "      <td>0.0</td>\n",
       "      <td>...</td>\n",
       "      <td>0.0</td>\n",
       "      <td>0.0</td>\n",
       "      <td>0.0</td>\n",
       "      <td>0.0</td>\n",
       "      <td>0.0</td>\n",
       "      <td>0.0</td>\n",
       "      <td>0.0</td>\n",
       "      <td>0.0</td>\n",
       "      <td>0.0</td>\n",
       "      <td>0.0</td>\n",
       "    </tr>\n",
       "    <tr>\n",
       "      <th>2</th>\n",
       "      <td>0.0</td>\n",
       "      <td>0.0</td>\n",
       "      <td>0.0</td>\n",
       "      <td>0.0</td>\n",
       "      <td>0.0</td>\n",
       "      <td>0.0</td>\n",
       "      <td>0.0</td>\n",
       "      <td>0.0</td>\n",
       "      <td>0.0</td>\n",
       "      <td>0.0</td>\n",
       "      <td>...</td>\n",
       "      <td>0.0</td>\n",
       "      <td>0.0</td>\n",
       "      <td>0.0</td>\n",
       "      <td>0.0</td>\n",
       "      <td>0.0</td>\n",
       "      <td>0.0</td>\n",
       "      <td>0.0</td>\n",
       "      <td>0.0</td>\n",
       "      <td>0.0</td>\n",
       "      <td>0.0</td>\n",
       "    </tr>\n",
       "    <tr>\n",
       "      <th>3</th>\n",
       "      <td>0.0</td>\n",
       "      <td>0.0</td>\n",
       "      <td>0.0</td>\n",
       "      <td>0.0</td>\n",
       "      <td>0.0</td>\n",
       "      <td>0.0</td>\n",
       "      <td>0.0</td>\n",
       "      <td>0.0</td>\n",
       "      <td>0.0</td>\n",
       "      <td>0.0</td>\n",
       "      <td>...</td>\n",
       "      <td>0.0</td>\n",
       "      <td>0.0</td>\n",
       "      <td>0.0</td>\n",
       "      <td>0.0</td>\n",
       "      <td>0.0</td>\n",
       "      <td>0.0</td>\n",
       "      <td>0.0</td>\n",
       "      <td>0.0</td>\n",
       "      <td>0.0</td>\n",
       "      <td>0.0</td>\n",
       "    </tr>\n",
       "    <tr>\n",
       "      <th>4</th>\n",
       "      <td>0.0</td>\n",
       "      <td>0.0</td>\n",
       "      <td>0.0</td>\n",
       "      <td>0.0</td>\n",
       "      <td>0.0</td>\n",
       "      <td>0.0</td>\n",
       "      <td>0.0</td>\n",
       "      <td>0.0</td>\n",
       "      <td>0.0</td>\n",
       "      <td>0.0</td>\n",
       "      <td>...</td>\n",
       "      <td>0.0</td>\n",
       "      <td>0.0</td>\n",
       "      <td>0.0</td>\n",
       "      <td>0.0</td>\n",
       "      <td>0.0</td>\n",
       "      <td>0.0</td>\n",
       "      <td>0.0</td>\n",
       "      <td>0.0</td>\n",
       "      <td>0.0</td>\n",
       "      <td>0.0</td>\n",
       "    </tr>\n",
       "  </tbody>\n",
       "</table>\n",
       "<p>5 rows × 97117 columns</p>\n",
       "</div>"
      ],
      "text/plain": [
       "    00  000  000001  00001  0001  00010782  000198  \\\n",
       "0  0.0  0.0     0.0    0.0   0.0       0.0     0.0   \n",
       "1  0.0  0.0     0.0    0.0   0.0       0.0     0.0   \n",
       "2  0.0  0.0     0.0    0.0   0.0       0.0     0.0   \n",
       "3  0.0  0.0     0.0    0.0   0.0       0.0     0.0   \n",
       "4  0.0  0.0     0.0    0.0   0.0       0.0     0.0   \n",
       "\n",
       "   000198ttt01584tft000198ttt0288ttf01584tft00tfffrac  0001l  0002    ...      \\\n",
       "0                                                0.0     0.0   0.0    ...       \n",
       "1                                                0.0     0.0   0.0    ...       \n",
       "2                                                0.0     0.0   0.0    ...       \n",
       "3                                                0.0     0.0   0.0    ...       \n",
       "4                                                0.0     0.0   0.0    ...       \n",
       "\n",
       "   高橋書店ゲーム攻略本シリーズ  사이버메드  자이오넥스  훈민정음  ﬁnitelength  ﬂexibility  ﬂock  ﬂocking  \\\n",
       "0             0.0    0.0    0.0   0.0          0.0         0.0   0.0      0.0   \n",
       "1             0.0    0.0    0.0   0.0          0.0         0.0   0.0      0.0   \n",
       "2             0.0    0.0    0.0   0.0          0.0         0.0   0.0      0.0   \n",
       "3             0.0    0.0    0.0   0.0          0.0         0.0   0.0      0.0   \n",
       "4             0.0    0.0    0.0   0.0          0.0         0.0   0.0      0.0   \n",
       "\n",
       "   ﬂow  ａ列車で行こうｍｄ  \n",
       "0  0.0        0.0  \n",
       "1  0.0        0.0  \n",
       "2  0.0        0.0  \n",
       "3  0.0        0.0  \n",
       "4  0.0        0.0  \n",
       "\n",
       "[5 rows x 97117 columns]"
      ]
     },
     "execution_count": 10,
     "metadata": {},
     "output_type": "execute_result"
    }
   ],
   "source": [
    "document_term_matrix_df = pd.DataFrame(document_term_matrix_sps.toarray(),\n",
    "                                       index=corpus.index,\n",
    "                                       columns=tfidf_vectorizer.get_feature_names())\n",
    "\n",
    "document_term_matrix_df.head()"
   ]
  },
  {
   "cell_type": "code",
   "execution_count": null,
   "metadata": {
    "scrolled": true
   },
   "outputs": [],
   "source": [
    "document_term_matrix_df.to_pickle('../pickle_jar/document_term_matrix_df.p')"
   ]
  },
  {
   "cell_type": "code",
   "execution_count": null,
   "metadata": {
    "scrolled": false
   },
   "outputs": [],
   "source": [
    "document_term_matrix_df = pd.read_pickle('../pickle_jar/document_term_matrix_df.p')"
   ]
  },
  {
   "cell_type": "markdown",
   "metadata": {},
   "source": [
    "### Compute SVD of Document Term Matrix"
   ]
  },
  {
   "cell_type": "code",
   "execution_count": 11,
   "metadata": {},
   "outputs": [],
   "source": [
    "from sklearn.decomposition import TruncatedSVD"
   ]
  },
  {
   "cell_type": "code",
   "execution_count": 12,
   "metadata": {},
   "outputs": [
    {
     "data": {
      "text/plain": [
       "(5653, 97117)"
      ]
     },
     "execution_count": 12,
     "metadata": {},
     "output_type": "execute_result"
    }
   ],
   "source": [
    "document_term_matrix_df.shape"
   ]
  },
  {
   "cell_type": "code",
   "execution_count": 13,
   "metadata": {},
   "outputs": [],
   "source": [
    "## 1st iteration = 50 components\n",
    "## 2nd iteration = 250 components\n",
    "## 3rd iteration = 1000 components (takes a long time! memory error!)\n",
    "\n",
    "n_components = 50\n",
    "SVD = TruncatedSVD(n_components)\n",
    "component_names = [\"component_\"+str(i+1) for i in range(n_components)]"
   ]
  },
  {
   "cell_type": "code",
   "execution_count": 14,
   "metadata": {},
   "outputs": [],
   "source": [
    "svd_matrix = SVD.fit_transform(document_term_matrix_df)"
   ]
  },
  {
   "cell_type": "code",
   "execution_count": 15,
   "metadata": {},
   "outputs": [
    {
     "data": {
      "text/plain": [
       "(5653, 50)"
      ]
     },
     "execution_count": 15,
     "metadata": {},
     "output_type": "execute_result"
    }
   ],
   "source": [
    "svd_matrix.shape"
   ]
  },
  {
   "cell_type": "code",
   "execution_count": 16,
   "metadata": {},
   "outputs": [],
   "source": [
    "svd_df = pd.DataFrame(svd_matrix, \n",
    "                      index=document_term_matrix_df.index, \n",
    "                      columns=component_names)"
   ]
  },
  {
   "cell_type": "code",
   "execution_count": 20,
   "metadata": {},
   "outputs": [],
   "source": [
    "svd_df.to_pickle('../pickle_jar/svd_df.p')"
   ]
  },
  {
   "cell_type": "markdown",
   "metadata": {},
   "source": [
    "### LoadSVD Matrix with Documents and Labels"
   ]
  },
  {
   "cell_type": "code",
   "execution_count": 69,
   "metadata": {},
   "outputs": [
    {
     "data": {
      "text/html": [
       "<div>\n",
       "<table border=\"1\" class=\"dataframe\">\n",
       "  <thead>\n",
       "    <tr style=\"text-align: right;\">\n",
       "      <th></th>\n",
       "      <th>component_1</th>\n",
       "      <th>component_2</th>\n",
       "      <th>component_3</th>\n",
       "      <th>component_4</th>\n",
       "      <th>component_5</th>\n",
       "      <th>component_6</th>\n",
       "      <th>component_7</th>\n",
       "      <th>component_8</th>\n",
       "      <th>component_9</th>\n",
       "      <th>component_10</th>\n",
       "      <th>...</th>\n",
       "      <th>component_42</th>\n",
       "      <th>component_43</th>\n",
       "      <th>component_44</th>\n",
       "      <th>component_45</th>\n",
       "      <th>component_46</th>\n",
       "      <th>component_47</th>\n",
       "      <th>component_48</th>\n",
       "      <th>component_49</th>\n",
       "      <th>component_50</th>\n",
       "      <th>category</th>\n",
       "    </tr>\n",
       "  </thead>\n",
       "  <tbody>\n",
       "    <tr>\n",
       "      <th>6116</th>\n",
       "      <td>0.076394</td>\n",
       "      <td>-0.076488</td>\n",
       "      <td>-0.005795</td>\n",
       "      <td>-0.006340</td>\n",
       "      <td>0.048967</td>\n",
       "      <td>0.082995</td>\n",
       "      <td>0.123088</td>\n",
       "      <td>0.006026</td>\n",
       "      <td>0.088920</td>\n",
       "      <td>0.015342</td>\n",
       "      <td>...</td>\n",
       "      <td>0.005185</td>\n",
       "      <td>-0.004383</td>\n",
       "      <td>0.007622</td>\n",
       "      <td>0.006809</td>\n",
       "      <td>-0.030153</td>\n",
       "      <td>0.090428</td>\n",
       "      <td>-0.061336</td>\n",
       "      <td>-0.002320</td>\n",
       "      <td>-0.020957</td>\n",
       "      <td>2</td>\n",
       "    </tr>\n",
       "    <tr>\n",
       "      <th>6117</th>\n",
       "      <td>0.046260</td>\n",
       "      <td>-0.046353</td>\n",
       "      <td>-0.000080</td>\n",
       "      <td>0.013365</td>\n",
       "      <td>-0.015399</td>\n",
       "      <td>0.012675</td>\n",
       "      <td>0.015341</td>\n",
       "      <td>-0.004380</td>\n",
       "      <td>0.010401</td>\n",
       "      <td>0.008004</td>\n",
       "      <td>...</td>\n",
       "      <td>-0.010736</td>\n",
       "      <td>-0.012113</td>\n",
       "      <td>-0.003759</td>\n",
       "      <td>0.007840</td>\n",
       "      <td>-0.002981</td>\n",
       "      <td>0.007593</td>\n",
       "      <td>-0.002132</td>\n",
       "      <td>0.001821</td>\n",
       "      <td>-0.002080</td>\n",
       "      <td>2</td>\n",
       "    </tr>\n",
       "    <tr>\n",
       "      <th>6118</th>\n",
       "      <td>0.056335</td>\n",
       "      <td>-0.066986</td>\n",
       "      <td>-0.014911</td>\n",
       "      <td>-0.000147</td>\n",
       "      <td>0.058057</td>\n",
       "      <td>0.018714</td>\n",
       "      <td>0.009319</td>\n",
       "      <td>-0.017175</td>\n",
       "      <td>0.038954</td>\n",
       "      <td>0.023111</td>\n",
       "      <td>...</td>\n",
       "      <td>-0.013387</td>\n",
       "      <td>-0.020257</td>\n",
       "      <td>0.006745</td>\n",
       "      <td>0.034725</td>\n",
       "      <td>0.006830</td>\n",
       "      <td>-0.013227</td>\n",
       "      <td>-0.001016</td>\n",
       "      <td>0.006087</td>\n",
       "      <td>0.002676</td>\n",
       "      <td>2</td>\n",
       "    </tr>\n",
       "    <tr>\n",
       "      <th>6119</th>\n",
       "      <td>0.063006</td>\n",
       "      <td>-0.065104</td>\n",
       "      <td>-0.007099</td>\n",
       "      <td>0.009145</td>\n",
       "      <td>0.004131</td>\n",
       "      <td>0.043100</td>\n",
       "      <td>0.106104</td>\n",
       "      <td>0.003240</td>\n",
       "      <td>0.059052</td>\n",
       "      <td>0.024876</td>\n",
       "      <td>...</td>\n",
       "      <td>-0.008218</td>\n",
       "      <td>-0.023083</td>\n",
       "      <td>-0.006043</td>\n",
       "      <td>0.024147</td>\n",
       "      <td>-0.023418</td>\n",
       "      <td>0.053033</td>\n",
       "      <td>-0.020674</td>\n",
       "      <td>-0.005785</td>\n",
       "      <td>-0.002076</td>\n",
       "      <td>2</td>\n",
       "    </tr>\n",
       "    <tr>\n",
       "      <th>6120</th>\n",
       "      <td>0.102328</td>\n",
       "      <td>-0.081250</td>\n",
       "      <td>0.010215</td>\n",
       "      <td>-0.000051</td>\n",
       "      <td>0.001573</td>\n",
       "      <td>0.077492</td>\n",
       "      <td>0.100573</td>\n",
       "      <td>0.027362</td>\n",
       "      <td>0.044004</td>\n",
       "      <td>0.016380</td>\n",
       "      <td>...</td>\n",
       "      <td>0.007816</td>\n",
       "      <td>-0.007896</td>\n",
       "      <td>-0.007018</td>\n",
       "      <td>0.018148</td>\n",
       "      <td>-0.025700</td>\n",
       "      <td>0.043155</td>\n",
       "      <td>-0.034940</td>\n",
       "      <td>0.044113</td>\n",
       "      <td>0.021237</td>\n",
       "      <td>2</td>\n",
       "    </tr>\n",
       "  </tbody>\n",
       "</table>\n",
       "<p>5 rows × 51 columns</p>\n",
       "</div>"
      ],
      "text/plain": [
       "      component_1  component_2  component_3  component_4  component_5  \\\n",
       "6116     0.076394    -0.076488    -0.005795    -0.006340     0.048967   \n",
       "6117     0.046260    -0.046353    -0.000080     0.013365    -0.015399   \n",
       "6118     0.056335    -0.066986    -0.014911    -0.000147     0.058057   \n",
       "6119     0.063006    -0.065104    -0.007099     0.009145     0.004131   \n",
       "6120     0.102328    -0.081250     0.010215    -0.000051     0.001573   \n",
       "\n",
       "      component_6  component_7  component_8  component_9  component_10  \\\n",
       "6116     0.082995     0.123088     0.006026     0.088920      0.015342   \n",
       "6117     0.012675     0.015341    -0.004380     0.010401      0.008004   \n",
       "6118     0.018714     0.009319    -0.017175     0.038954      0.023111   \n",
       "6119     0.043100     0.106104     0.003240     0.059052      0.024876   \n",
       "6120     0.077492     0.100573     0.027362     0.044004      0.016380   \n",
       "\n",
       "        ...     component_42  component_43  component_44  component_45  \\\n",
       "6116    ...         0.005185     -0.004383      0.007622      0.006809   \n",
       "6117    ...        -0.010736     -0.012113     -0.003759      0.007840   \n",
       "6118    ...        -0.013387     -0.020257      0.006745      0.034725   \n",
       "6119    ...        -0.008218     -0.023083     -0.006043      0.024147   \n",
       "6120    ...         0.007816     -0.007896     -0.007018      0.018148   \n",
       "\n",
       "      component_46  component_47  component_48  component_49  component_50  \\\n",
       "6116     -0.030153      0.090428     -0.061336     -0.002320     -0.020957   \n",
       "6117     -0.002981      0.007593     -0.002132      0.001821     -0.002080   \n",
       "6118      0.006830     -0.013227     -0.001016      0.006087      0.002676   \n",
       "6119     -0.023418      0.053033     -0.020674     -0.005785     -0.002076   \n",
       "6120     -0.025700      0.043155     -0.034940      0.044113      0.021237   \n",
       "\n",
       "      category  \n",
       "6116         2  \n",
       "6117         2  \n",
       "6118         2  \n",
       "6119         2  \n",
       "6120         2  \n",
       "\n",
       "[5 rows x 51 columns]"
      ]
     },
     "execution_count": 69,
     "metadata": {},
     "output_type": "execute_result"
    }
   ],
   "source": [
    "latent_semantic_analysis = pd.DataFrame(svd_matrix,\n",
    "                                        index=document_term_matrix_df.index,\n",
    "                                        columns=component_names)\n",
    "# latent_semantic_analysis['sentence'] = corpus_df.sentence\n",
    "# latent_semantic_analysis['category'] = corpus['Category']\n",
    "latent_semantic_analysis.tail()"
   ]
  },
  {
   "cell_type": "code",
   "execution_count": 72,
   "metadata": {},
   "outputs": [],
   "source": [
    "latent_semantic_analysis.drop('category', axis=1, inplace=True)"
   ]
  },
  {
   "cell_type": "code",
   "execution_count": 86,
   "metadata": {},
   "outputs": [],
   "source": [
    "search_term1 = \"Machine Learning\"\n",
    "search_term2 = 'Business Software'"
   ]
  },
  {
   "cell_type": "code",
   "execution_count": 83,
   "metadata": {},
   "outputs": [],
   "source": [
    "search_term_vec1 = tfidf_vectorizer.transform([search_term1])"
   ]
  },
  {
   "cell_type": "code",
   "execution_count": 84,
   "metadata": {},
   "outputs": [],
   "source": [
    "search_term_lsa1 = SVD.transform(search_term_vec1)"
   ]
  },
  {
   "cell_type": "code",
   "execution_count": 87,
   "metadata": {},
   "outputs": [],
   "source": [
    "search_term_vec2 = tfidf_vectorizer.transform([search_term2])\n",
    "search_term_lsa2 = SVD.transform(search_term_vec2)"
   ]
  },
  {
   "cell_type": "code",
   "execution_count": 70,
   "metadata": {},
   "outputs": [],
   "source": [
    "cosine_similarities1 = latent_semantic_analysis.values.dot(search_term_lsa1.T).ravel()\n",
    "### Had to use .values to turn latent_semantic_analysis to an array\n",
    "### .ravel() does not work on dataframes, only arrays"
   ]
  },
  {
   "cell_type": "code",
   "execution_count": 62,
   "metadata": {},
   "outputs": [],
   "source": [
    "corpus.drop('Category_num', axis=1, inplace=True)"
   ]
  },
  {
   "cell_type": "markdown",
   "metadata": {},
   "source": [
    "# Predictive Analysis"
   ]
  },
  {
   "cell_type": "markdown",
   "metadata": {},
   "source": [
    "#### Replacing Machine Learning with 1; Business Software with 2"
   ]
  },
  {
   "cell_type": "code",
   "execution_count": 64,
   "metadata": {},
   "outputs": [],
   "source": [
    "corpus.Category.replace('Machine Learning', 1, inplace=True)\n",
    "corpus.Category.replace('Business Software', 2, inplace=True)"
   ]
  },
  {
   "cell_type": "code",
   "execution_count": 66,
   "metadata": {},
   "outputs": [
    {
     "data": {
      "text/html": [
       "<div>\n",
       "<table border=\"1\" class=\"dataframe\">\n",
       "  <thead>\n",
       "    <tr style=\"text-align: right;\">\n",
       "      <th></th>\n",
       "      <th>ns</th>\n",
       "      <th>pageid</th>\n",
       "      <th>title</th>\n",
       "      <th>Category</th>\n",
       "      <th>Text</th>\n",
       "      <th>Text_numerical</th>\n",
       "    </tr>\n",
       "  </thead>\n",
       "  <tbody>\n",
       "    <tr>\n",
       "      <th>6116</th>\n",
       "      <td>0</td>\n",
       "      <td>1577008</td>\n",
       "      <td>Ted (word processor)</td>\n",
       "      <td>2</td>\n",
       "      <td>Ted is a word processor for the X Window Syste...</td>\n",
       "      <td>3280</td>\n",
       "    </tr>\n",
       "    <tr>\n",
       "      <th>6117</th>\n",
       "      <td>0</td>\n",
       "      <td>37628014</td>\n",
       "      <td>Thorn EMI Liberator</td>\n",
       "      <td>2</td>\n",
       "      <td>The Thorn EMI Liberator was a laptop word proc...</td>\n",
       "      <td>3491</td>\n",
       "    </tr>\n",
       "    <tr>\n",
       "      <th>6118</th>\n",
       "      <td>0</td>\n",
       "      <td>34306381</td>\n",
       "      <td>Trelby</td>\n",
       "      <td>2</td>\n",
       "      <td>Trelby is a free and open source screenwriting...</td>\n",
       "      <td>3724</td>\n",
       "    </tr>\n",
       "    <tr>\n",
       "      <th>6119</th>\n",
       "      <td>0</td>\n",
       "      <td>29902828</td>\n",
       "      <td>Word Juggler</td>\n",
       "      <td>2</td>\n",
       "      <td>Word Juggler was a word processor application ...</td>\n",
       "      <td>3902</td>\n",
       "    </tr>\n",
       "    <tr>\n",
       "      <th>6120</th>\n",
       "      <td>0</td>\n",
       "      <td>826279</td>\n",
       "      <td>WordMARC</td>\n",
       "      <td>2</td>\n",
       "      <td>WordMARC was a scientifically oriented word pr...</td>\n",
       "      <td>3905</td>\n",
       "    </tr>\n",
       "  </tbody>\n",
       "</table>\n",
       "</div>"
      ],
      "text/plain": [
       "      ns    pageid                 title  Category  \\\n",
       "6116   0   1577008  Ted (word processor)         2   \n",
       "6117   0  37628014   Thorn EMI Liberator         2   \n",
       "6118   0  34306381                Trelby         2   \n",
       "6119   0  29902828          Word Juggler         2   \n",
       "6120   0    826279              WordMARC         2   \n",
       "\n",
       "                                                   Text  Text_numerical  \n",
       "6116  Ted is a word processor for the X Window Syste...            3280  \n",
       "6117  The Thorn EMI Liberator was a laptop word proc...            3491  \n",
       "6118  Trelby is a free and open source screenwriting...            3724  \n",
       "6119  Word Juggler was a word processor application ...            3902  \n",
       "6120  WordMARC was a scientifically oriented word pr...            3905  "
      ]
     },
     "execution_count": 66,
     "metadata": {},
     "output_type": "execute_result"
    }
   ],
   "source": [
    "corpus.tail()"
   ]
  },
  {
   "cell_type": "code",
   "execution_count": 67,
   "metadata": {},
   "outputs": [
    {
     "data": {
      "text/plain": [
       "2    4121\n",
       "1    1532\n",
       "Name: Category, dtype: int64"
      ]
     },
     "execution_count": 67,
     "metadata": {},
     "output_type": "execute_result"
    }
   ],
   "source": [
    "corpus.Category.value_counts()"
   ]
  },
  {
   "cell_type": "markdown",
   "metadata": {},
   "source": [
    "#### Using Gridsearch to find the best predictive model"
   ]
  },
  {
   "cell_type": "code",
   "execution_count": 73,
   "metadata": {},
   "outputs": [
    {
     "data": {
      "text/plain": [
       "GridSearchCV(cv=None, error_score='raise',\n",
       "       estimator=KNeighborsClassifier(algorithm='auto', leaf_size=30, metric='minkowski',\n",
       "           metric_params=None, n_jobs=1, n_neighbors=5, p=2,\n",
       "           weights='uniform'),\n",
       "       fit_params=None, iid=True, n_jobs=1,\n",
       "       param_grid={'n_neighbors': range(2, 20)}, pre_dispatch='2*n_jobs',\n",
       "       refit=True, return_train_score='warn', scoring=None, verbose=0)"
      ]
     },
     "execution_count": 73,
     "metadata": {},
     "output_type": "execute_result"
    }
   ],
   "source": [
    "KNN = KNeighborsClassifier()\n",
    "gs = GridSearchCV(KNN, param_grid={'n_neighbors':range(2,20)})\n",
    "gs.fit(latent_semantic_analysis, corpus['Category'])\n",
    "\n",
    "### make sure that the latent_semantic_analysis DF does NOT include 'Categpry'"
   ]
  },
  {
   "cell_type": "code",
   "execution_count": 75,
   "metadata": {},
   "outputs": [
    {
     "data": {
      "text/html": [
       "<div>\n",
       "<table border=\"1\" class=\"dataframe\">\n",
       "  <thead>\n",
       "    <tr style=\"text-align: right;\">\n",
       "      <th></th>\n",
       "      <th>0</th>\n",
       "      <th>1</th>\n",
       "      <th>2</th>\n",
       "      <th>3</th>\n",
       "      <th>4</th>\n",
       "      <th>5</th>\n",
       "      <th>6</th>\n",
       "      <th>7</th>\n",
       "      <th>8</th>\n",
       "      <th>9</th>\n",
       "      <th>10</th>\n",
       "      <th>11</th>\n",
       "      <th>12</th>\n",
       "      <th>13</th>\n",
       "      <th>14</th>\n",
       "      <th>15</th>\n",
       "      <th>16</th>\n",
       "      <th>17</th>\n",
       "    </tr>\n",
       "  </thead>\n",
       "  <tbody>\n",
       "    <tr>\n",
       "      <th>mean_fit_time</th>\n",
       "      <td>0.00841975</td>\n",
       "      <td>0.00757519</td>\n",
       "      <td>0.00917681</td>\n",
       "      <td>0.00820716</td>\n",
       "      <td>0.00857965</td>\n",
       "      <td>0.00862535</td>\n",
       "      <td>0.00964578</td>\n",
       "      <td>0.00846974</td>\n",
       "      <td>0.00753911</td>\n",
       "      <td>0.00788569</td>\n",
       "      <td>0.00801675</td>\n",
       "      <td>0.00846585</td>\n",
       "      <td>0.00826192</td>\n",
       "      <td>0.00867478</td>\n",
       "      <td>0.00868487</td>\n",
       "      <td>0.00835093</td>\n",
       "      <td>0.00798774</td>\n",
       "      <td>0.00827344</td>\n",
       "    </tr>\n",
       "    <tr>\n",
       "      <th>mean_score_time</th>\n",
       "      <td>0.355546</td>\n",
       "      <td>0.374009</td>\n",
       "      <td>0.444865</td>\n",
       "      <td>0.431874</td>\n",
       "      <td>0.450185</td>\n",
       "      <td>0.448647</td>\n",
       "      <td>0.472847</td>\n",
       "      <td>0.451722</td>\n",
       "      <td>0.442235</td>\n",
       "      <td>0.448468</td>\n",
       "      <td>0.462954</td>\n",
       "      <td>0.474984</td>\n",
       "      <td>0.475352</td>\n",
       "      <td>0.485183</td>\n",
       "      <td>0.494095</td>\n",
       "      <td>0.489717</td>\n",
       "      <td>0.462692</td>\n",
       "      <td>0.489445</td>\n",
       "    </tr>\n",
       "    <tr>\n",
       "      <th>mean_test_score</th>\n",
       "      <td>0.915266</td>\n",
       "      <td>0.967274</td>\n",
       "      <td>0.958783</td>\n",
       "      <td>0.969397</td>\n",
       "      <td>0.96922</td>\n",
       "      <td>0.968512</td>\n",
       "      <td>0.969397</td>\n",
       "      <td>0.967982</td>\n",
       "      <td>0.969043</td>\n",
       "      <td>0.967805</td>\n",
       "      <td>0.96922</td>\n",
       "      <td>0.967628</td>\n",
       "      <td>0.968512</td>\n",
       "      <td>0.967982</td>\n",
       "      <td>0.968689</td>\n",
       "      <td>0.96692</td>\n",
       "      <td>0.968158</td>\n",
       "      <td>0.966213</td>\n",
       "    </tr>\n",
       "    <tr>\n",
       "      <th>mean_train_score</th>\n",
       "      <td>0.989652</td>\n",
       "      <td>0.989121</td>\n",
       "      <td>0.986556</td>\n",
       "      <td>0.985141</td>\n",
       "      <td>0.98576</td>\n",
       "      <td>0.982487</td>\n",
       "      <td>0.983018</td>\n",
       "      <td>0.980542</td>\n",
       "      <td>0.981249</td>\n",
       "      <td>0.978065</td>\n",
       "      <td>0.97895</td>\n",
       "      <td>0.976473</td>\n",
       "      <td>0.977269</td>\n",
       "      <td>0.975589</td>\n",
       "      <td>0.976296</td>\n",
       "      <td>0.975323</td>\n",
       "      <td>0.975677</td>\n",
       "      <td>0.973201</td>\n",
       "    </tr>\n",
       "    <tr>\n",
       "      <th>param_n_neighbors</th>\n",
       "      <td>2</td>\n",
       "      <td>3</td>\n",
       "      <td>4</td>\n",
       "      <td>5</td>\n",
       "      <td>6</td>\n",
       "      <td>7</td>\n",
       "      <td>8</td>\n",
       "      <td>9</td>\n",
       "      <td>10</td>\n",
       "      <td>11</td>\n",
       "      <td>12</td>\n",
       "      <td>13</td>\n",
       "      <td>14</td>\n",
       "      <td>15</td>\n",
       "      <td>16</td>\n",
       "      <td>17</td>\n",
       "      <td>18</td>\n",
       "      <td>19</td>\n",
       "    </tr>\n",
       "    <tr>\n",
       "      <th>params</th>\n",
       "      <td>{'n_neighbors': 2}</td>\n",
       "      <td>{'n_neighbors': 3}</td>\n",
       "      <td>{'n_neighbors': 4}</td>\n",
       "      <td>{'n_neighbors': 5}</td>\n",
       "      <td>{'n_neighbors': 6}</td>\n",
       "      <td>{'n_neighbors': 7}</td>\n",
       "      <td>{'n_neighbors': 8}</td>\n",
       "      <td>{'n_neighbors': 9}</td>\n",
       "      <td>{'n_neighbors': 10}</td>\n",
       "      <td>{'n_neighbors': 11}</td>\n",
       "      <td>{'n_neighbors': 12}</td>\n",
       "      <td>{'n_neighbors': 13}</td>\n",
       "      <td>{'n_neighbors': 14}</td>\n",
       "      <td>{'n_neighbors': 15}</td>\n",
       "      <td>{'n_neighbors': 16}</td>\n",
       "      <td>{'n_neighbors': 17}</td>\n",
       "      <td>{'n_neighbors': 18}</td>\n",
       "      <td>{'n_neighbors': 19}</td>\n",
       "    </tr>\n",
       "    <tr>\n",
       "      <th>rank_test_score</th>\n",
       "      <td>18</td>\n",
       "      <td>14</td>\n",
       "      <td>17</td>\n",
       "      <td>1</td>\n",
       "      <td>3</td>\n",
       "      <td>7</td>\n",
       "      <td>1</td>\n",
       "      <td>10</td>\n",
       "      <td>5</td>\n",
       "      <td>12</td>\n",
       "      <td>3</td>\n",
       "      <td>13</td>\n",
       "      <td>7</td>\n",
       "      <td>10</td>\n",
       "      <td>6</td>\n",
       "      <td>15</td>\n",
       "      <td>9</td>\n",
       "      <td>16</td>\n",
       "    </tr>\n",
       "    <tr>\n",
       "      <th>split0_test_score</th>\n",
       "      <td>0.834483</td>\n",
       "      <td>0.973475</td>\n",
       "      <td>0.95809</td>\n",
       "      <td>0.974005</td>\n",
       "      <td>0.974536</td>\n",
       "      <td>0.971883</td>\n",
       "      <td>0.973475</td>\n",
       "      <td>0.972414</td>\n",
       "      <td>0.974536</td>\n",
       "      <td>0.970822</td>\n",
       "      <td>0.972944</td>\n",
       "      <td>0.970822</td>\n",
       "      <td>0.972414</td>\n",
       "      <td>0.970292</td>\n",
       "      <td>0.971353</td>\n",
       "      <td>0.9687</td>\n",
       "      <td>0.970822</td>\n",
       "      <td>0.967639</td>\n",
       "    </tr>\n",
       "    <tr>\n",
       "      <th>split0_train_score</th>\n",
       "      <td>0.988057</td>\n",
       "      <td>0.988588</td>\n",
       "      <td>0.984342</td>\n",
       "      <td>0.984342</td>\n",
       "      <td>0.985934</td>\n",
       "      <td>0.981423</td>\n",
       "      <td>0.983015</td>\n",
       "      <td>0.979565</td>\n",
       "      <td>0.981953</td>\n",
       "      <td>0.979034</td>\n",
       "      <td>0.980096</td>\n",
       "      <td>0.977442</td>\n",
       "      <td>0.978238</td>\n",
       "      <td>0.97638</td>\n",
       "      <td>0.977707</td>\n",
       "      <td>0.975849</td>\n",
       "      <td>0.976115</td>\n",
       "      <td>0.97293</td>\n",
       "    </tr>\n",
       "    <tr>\n",
       "      <th>split1_test_score</th>\n",
       "      <td>0.954907</td>\n",
       "      <td>0.959682</td>\n",
       "      <td>0.95756</td>\n",
       "      <td>0.959151</td>\n",
       "      <td>0.959151</td>\n",
       "      <td>0.957029</td>\n",
       "      <td>0.959682</td>\n",
       "      <td>0.955438</td>\n",
       "      <td>0.957029</td>\n",
       "      <td>0.954907</td>\n",
       "      <td>0.958621</td>\n",
       "      <td>0.954377</td>\n",
       "      <td>0.955968</td>\n",
       "      <td>0.954907</td>\n",
       "      <td>0.955438</td>\n",
       "      <td>0.953316</td>\n",
       "      <td>0.955438</td>\n",
       "      <td>0.952785</td>\n",
       "    </tr>\n",
       "    <tr>\n",
       "      <th>split1_train_score</th>\n",
       "      <td>0.992038</td>\n",
       "      <td>0.990446</td>\n",
       "      <td>0.989915</td>\n",
       "      <td>0.98673</td>\n",
       "      <td>0.987261</td>\n",
       "      <td>0.985138</td>\n",
       "      <td>0.985403</td>\n",
       "      <td>0.983015</td>\n",
       "      <td>0.983015</td>\n",
       "      <td>0.979565</td>\n",
       "      <td>0.979565</td>\n",
       "      <td>0.978503</td>\n",
       "      <td>0.978503</td>\n",
       "      <td>0.977442</td>\n",
       "      <td>0.977176</td>\n",
       "      <td>0.977442</td>\n",
       "      <td>0.977972</td>\n",
       "      <td>0.976911</td>\n",
       "    </tr>\n",
       "    <tr>\n",
       "      <th>split2_test_score</th>\n",
       "      <td>0.956452</td>\n",
       "      <td>0.968667</td>\n",
       "      <td>0.960701</td>\n",
       "      <td>0.97504</td>\n",
       "      <td>0.973978</td>\n",
       "      <td>0.976633</td>\n",
       "      <td>0.97504</td>\n",
       "      <td>0.976102</td>\n",
       "      <td>0.975571</td>\n",
       "      <td>0.977695</td>\n",
       "      <td>0.976102</td>\n",
       "      <td>0.977695</td>\n",
       "      <td>0.977164</td>\n",
       "      <td>0.978757</td>\n",
       "      <td>0.979288</td>\n",
       "      <td>0.978757</td>\n",
       "      <td>0.978226</td>\n",
       "      <td>0.978226</td>\n",
       "    </tr>\n",
       "    <tr>\n",
       "      <th>split2_train_score</th>\n",
       "      <td>0.988859</td>\n",
       "      <td>0.988329</td>\n",
       "      <td>0.985411</td>\n",
       "      <td>0.98435</td>\n",
       "      <td>0.984085</td>\n",
       "      <td>0.980902</td>\n",
       "      <td>0.980637</td>\n",
       "      <td>0.979045</td>\n",
       "      <td>0.97878</td>\n",
       "      <td>0.975597</td>\n",
       "      <td>0.977188</td>\n",
       "      <td>0.973475</td>\n",
       "      <td>0.975066</td>\n",
       "      <td>0.972944</td>\n",
       "      <td>0.974005</td>\n",
       "      <td>0.972679</td>\n",
       "      <td>0.972944</td>\n",
       "      <td>0.969761</td>\n",
       "    </tr>\n",
       "    <tr>\n",
       "      <th>std_fit_time</th>\n",
       "      <td>0.000631182</td>\n",
       "      <td>8.60477e-05</td>\n",
       "      <td>0.000905469</td>\n",
       "      <td>6.34977e-05</td>\n",
       "      <td>0.000384493</td>\n",
       "      <td>0.000192712</td>\n",
       "      <td>0.00102508</td>\n",
       "      <td>0.00130516</td>\n",
       "      <td>0.000140682</td>\n",
       "      <td>0.000332763</td>\n",
       "      <td>0.000300395</td>\n",
       "      <td>0.00030838</td>\n",
       "      <td>0.00010362</td>\n",
       "      <td>0.00062116</td>\n",
       "      <td>0.000514339</td>\n",
       "      <td>0.00016596</td>\n",
       "      <td>0.000500812</td>\n",
       "      <td>8.21527e-05</td>\n",
       "    </tr>\n",
       "    <tr>\n",
       "      <th>std_score_time</th>\n",
       "      <td>0.0148913</td>\n",
       "      <td>0.0200144</td>\n",
       "      <td>0.0354397</td>\n",
       "      <td>0.00779692</td>\n",
       "      <td>0.0106592</td>\n",
       "      <td>0.0192007</td>\n",
       "      <td>0.00566757</td>\n",
       "      <td>0.0109604</td>\n",
       "      <td>0.00635797</td>\n",
       "      <td>0.0123474</td>\n",
       "      <td>0.0120707</td>\n",
       "      <td>0.00742736</td>\n",
       "      <td>0.00580967</td>\n",
       "      <td>0.0129956</td>\n",
       "      <td>0.0202278</td>\n",
       "      <td>0.0153904</td>\n",
       "      <td>0.00300662</td>\n",
       "      <td>0.00837396</td>\n",
       "    </tr>\n",
       "    <tr>\n",
       "      <th>std_test_score</th>\n",
       "      <td>0.0571412</td>\n",
       "      <td>0.0057174</td>\n",
       "      <td>0.00137275</td>\n",
       "      <td>0.00725894</td>\n",
       "      <td>0.00712517</td>\n",
       "      <td>0.00835017</td>\n",
       "      <td>0.00690106</td>\n",
       "      <td>0.00899909</td>\n",
       "      <td>0.0085078</td>\n",
       "      <td>0.00954405</td>\n",
       "      <td>0.00760676</td>\n",
       "      <td>0.00978338</td>\n",
       "      <td>0.00908182</td>\n",
       "      <td>0.00987208</td>\n",
       "      <td>0.00991674</td>\n",
       "      <td>0.0104616</td>\n",
       "      <td>0.00949145</td>\n",
       "      <td>0.0104343</td>\n",
       "    </tr>\n",
       "    <tr>\n",
       "      <th>std_train_score</th>\n",
       "      <td>0.00171903</td>\n",
       "      <td>0.000942802</td>\n",
       "      <td>0.002415</td>\n",
       "      <td>0.00112401</td>\n",
       "      <td>0.00130254</td>\n",
       "      <td>0.00188624</td>\n",
       "      <td>0.00194604</td>\n",
       "      <td>0.0017617</td>\n",
       "      <td>0.00179917</td>\n",
       "      <td>0.0017588</td>\n",
       "      <td>0.00126408</td>\n",
       "      <td>0.00216403</td>\n",
       "      <td>0.00156137</td>\n",
       "      <td>0.00191941</td>\n",
       "      <td>0.00163432</td>\n",
       "      <td>0.00197956</td>\n",
       "      <td>0.0020759</td>\n",
       "      <td>0.00292507</td>\n",
       "    </tr>\n",
       "  </tbody>\n",
       "</table>\n",
       "</div>"
      ],
      "text/plain": [
       "                                    0                   1   \\\n",
       "mean_fit_time               0.00841975          0.00757519   \n",
       "mean_score_time               0.355546            0.374009   \n",
       "mean_test_score               0.915266            0.967274   \n",
       "mean_train_score              0.989652            0.989121   \n",
       "param_n_neighbors                    2                   3   \n",
       "params              {'n_neighbors': 2}  {'n_neighbors': 3}   \n",
       "rank_test_score                     18                  14   \n",
       "split0_test_score             0.834483            0.973475   \n",
       "split0_train_score            0.988057            0.988588   \n",
       "split1_test_score             0.954907            0.959682   \n",
       "split1_train_score            0.992038            0.990446   \n",
       "split2_test_score             0.956452            0.968667   \n",
       "split2_train_score            0.988859            0.988329   \n",
       "std_fit_time               0.000631182         8.60477e-05   \n",
       "std_score_time               0.0148913           0.0200144   \n",
       "std_test_score               0.0571412           0.0057174   \n",
       "std_train_score             0.00171903         0.000942802   \n",
       "\n",
       "                                    2                   3   \\\n",
       "mean_fit_time               0.00917681          0.00820716   \n",
       "mean_score_time               0.444865            0.431874   \n",
       "mean_test_score               0.958783            0.969397   \n",
       "mean_train_score              0.986556            0.985141   \n",
       "param_n_neighbors                    4                   5   \n",
       "params              {'n_neighbors': 4}  {'n_neighbors': 5}   \n",
       "rank_test_score                     17                   1   \n",
       "split0_test_score              0.95809            0.974005   \n",
       "split0_train_score            0.984342            0.984342   \n",
       "split1_test_score              0.95756            0.959151   \n",
       "split1_train_score            0.989915             0.98673   \n",
       "split2_test_score             0.960701             0.97504   \n",
       "split2_train_score            0.985411             0.98435   \n",
       "std_fit_time               0.000905469         6.34977e-05   \n",
       "std_score_time               0.0354397          0.00779692   \n",
       "std_test_score              0.00137275          0.00725894   \n",
       "std_train_score               0.002415          0.00112401   \n",
       "\n",
       "                                    4                   5   \\\n",
       "mean_fit_time               0.00857965          0.00862535   \n",
       "mean_score_time               0.450185            0.448647   \n",
       "mean_test_score                0.96922            0.968512   \n",
       "mean_train_score               0.98576            0.982487   \n",
       "param_n_neighbors                    6                   7   \n",
       "params              {'n_neighbors': 6}  {'n_neighbors': 7}   \n",
       "rank_test_score                      3                   7   \n",
       "split0_test_score             0.974536            0.971883   \n",
       "split0_train_score            0.985934            0.981423   \n",
       "split1_test_score             0.959151            0.957029   \n",
       "split1_train_score            0.987261            0.985138   \n",
       "split2_test_score             0.973978            0.976633   \n",
       "split2_train_score            0.984085            0.980902   \n",
       "std_fit_time               0.000384493         0.000192712   \n",
       "std_score_time               0.0106592           0.0192007   \n",
       "std_test_score              0.00712517          0.00835017   \n",
       "std_train_score             0.00130254          0.00188624   \n",
       "\n",
       "                                    6                   7   \\\n",
       "mean_fit_time               0.00964578          0.00846974   \n",
       "mean_score_time               0.472847            0.451722   \n",
       "mean_test_score               0.969397            0.967982   \n",
       "mean_train_score              0.983018            0.980542   \n",
       "param_n_neighbors                    8                   9   \n",
       "params              {'n_neighbors': 8}  {'n_neighbors': 9}   \n",
       "rank_test_score                      1                  10   \n",
       "split0_test_score             0.973475            0.972414   \n",
       "split0_train_score            0.983015            0.979565   \n",
       "split1_test_score             0.959682            0.955438   \n",
       "split1_train_score            0.985403            0.983015   \n",
       "split2_test_score              0.97504            0.976102   \n",
       "split2_train_score            0.980637            0.979045   \n",
       "std_fit_time                0.00102508          0.00130516   \n",
       "std_score_time              0.00566757           0.0109604   \n",
       "std_test_score              0.00690106          0.00899909   \n",
       "std_train_score             0.00194604           0.0017617   \n",
       "\n",
       "                                     8                    9   \\\n",
       "mean_fit_time                0.00753911           0.00788569   \n",
       "mean_score_time                0.442235             0.448468   \n",
       "mean_test_score                0.969043             0.967805   \n",
       "mean_train_score               0.981249             0.978065   \n",
       "param_n_neighbors                    10                   11   \n",
       "params              {'n_neighbors': 10}  {'n_neighbors': 11}   \n",
       "rank_test_score                       5                   12   \n",
       "split0_test_score              0.974536             0.970822   \n",
       "split0_train_score             0.981953             0.979034   \n",
       "split1_test_score              0.957029             0.954907   \n",
       "split1_train_score             0.983015             0.979565   \n",
       "split2_test_score              0.975571             0.977695   \n",
       "split2_train_score              0.97878             0.975597   \n",
       "std_fit_time                0.000140682          0.000332763   \n",
       "std_score_time               0.00635797            0.0123474   \n",
       "std_test_score                0.0085078           0.00954405   \n",
       "std_train_score              0.00179917            0.0017588   \n",
       "\n",
       "                                     10                   11  \\\n",
       "mean_fit_time                0.00801675           0.00846585   \n",
       "mean_score_time                0.462954             0.474984   \n",
       "mean_test_score                 0.96922             0.967628   \n",
       "mean_train_score                0.97895             0.976473   \n",
       "param_n_neighbors                    12                   13   \n",
       "params              {'n_neighbors': 12}  {'n_neighbors': 13}   \n",
       "rank_test_score                       3                   13   \n",
       "split0_test_score              0.972944             0.970822   \n",
       "split0_train_score             0.980096             0.977442   \n",
       "split1_test_score              0.958621             0.954377   \n",
       "split1_train_score             0.979565             0.978503   \n",
       "split2_test_score              0.976102             0.977695   \n",
       "split2_train_score             0.977188             0.973475   \n",
       "std_fit_time                0.000300395           0.00030838   \n",
       "std_score_time                0.0120707           0.00742736   \n",
       "std_test_score               0.00760676           0.00978338   \n",
       "std_train_score              0.00126408           0.00216403   \n",
       "\n",
       "                                     12                   13  \\\n",
       "mean_fit_time                0.00826192           0.00867478   \n",
       "mean_score_time                0.475352             0.485183   \n",
       "mean_test_score                0.968512             0.967982   \n",
       "mean_train_score               0.977269             0.975589   \n",
       "param_n_neighbors                    14                   15   \n",
       "params              {'n_neighbors': 14}  {'n_neighbors': 15}   \n",
       "rank_test_score                       7                   10   \n",
       "split0_test_score              0.972414             0.970292   \n",
       "split0_train_score             0.978238              0.97638   \n",
       "split1_test_score              0.955968             0.954907   \n",
       "split1_train_score             0.978503             0.977442   \n",
       "split2_test_score              0.977164             0.978757   \n",
       "split2_train_score             0.975066             0.972944   \n",
       "std_fit_time                 0.00010362           0.00062116   \n",
       "std_score_time               0.00580967            0.0129956   \n",
       "std_test_score               0.00908182           0.00987208   \n",
       "std_train_score              0.00156137           0.00191941   \n",
       "\n",
       "                                     14                   15  \\\n",
       "mean_fit_time                0.00868487           0.00835093   \n",
       "mean_score_time                0.494095             0.489717   \n",
       "mean_test_score                0.968689              0.96692   \n",
       "mean_train_score               0.976296             0.975323   \n",
       "param_n_neighbors                    16                   17   \n",
       "params              {'n_neighbors': 16}  {'n_neighbors': 17}   \n",
       "rank_test_score                       6                   15   \n",
       "split0_test_score              0.971353               0.9687   \n",
       "split0_train_score             0.977707             0.975849   \n",
       "split1_test_score              0.955438             0.953316   \n",
       "split1_train_score             0.977176             0.977442   \n",
       "split2_test_score              0.979288             0.978757   \n",
       "split2_train_score             0.974005             0.972679   \n",
       "std_fit_time                0.000514339           0.00016596   \n",
       "std_score_time                0.0202278            0.0153904   \n",
       "std_test_score               0.00991674            0.0104616   \n",
       "std_train_score              0.00163432           0.00197956   \n",
       "\n",
       "                                     16                   17  \n",
       "mean_fit_time                0.00798774           0.00827344  \n",
       "mean_score_time                0.462692             0.489445  \n",
       "mean_test_score                0.968158             0.966213  \n",
       "mean_train_score               0.975677             0.973201  \n",
       "param_n_neighbors                    18                   19  \n",
       "params              {'n_neighbors': 18}  {'n_neighbors': 19}  \n",
       "rank_test_score                       9                   16  \n",
       "split0_test_score              0.970822             0.967639  \n",
       "split0_train_score             0.976115              0.97293  \n",
       "split1_test_score              0.955438             0.952785  \n",
       "split1_train_score             0.977972             0.976911  \n",
       "split2_test_score              0.978226             0.978226  \n",
       "split2_train_score             0.972944             0.969761  \n",
       "std_fit_time                0.000500812          8.21527e-05  \n",
       "std_score_time               0.00300662           0.00837396  \n",
       "std_test_score               0.00949145            0.0104343  \n",
       "std_train_score               0.0020759           0.00292507  "
      ]
     },
     "execution_count": 75,
     "metadata": {},
     "output_type": "execute_result"
    }
   ],
   "source": [
    "gs_res_df = pd.DataFrame(gs.cv_results_)\n",
    "gs_res_df.T"
   ]
  },
  {
   "cell_type": "code",
   "execution_count": null,
   "metadata": {},
   "outputs": [],
   "source": []
  },
  {
   "cell_type": "code",
   "execution_count": 77,
   "metadata": {},
   "outputs": [],
   "source": [
    "%matplotlib inline"
   ]
  },
  {
   "cell_type": "markdown",
   "metadata": {},
   "source": [
    "#### Plot of `n_neighbors` versus ``mean_test_score`"
   ]
  },
  {
   "cell_type": "code",
   "execution_count": 78,
   "metadata": {
    "scrolled": false
   },
   "outputs": [
    {
     "data": {
      "text/plain": [
       "[<matplotlib.lines.Line2D at 0x7fd24bf034e0>]"
      ]
     },
     "execution_count": 78,
     "metadata": {},
     "output_type": "execute_result"
    },
    {
     "data": {
      "image/png": "[encoded data removed]",
      "text/plain": [
       "<matplotlib.figure.Figure at 0x7fd24c27da90>"
      ]
     },
     "metadata": {},
     "output_type": "display_data"
    }
   ],
   "source": [
    "plt.plot(gs_res_df['param_n_neighbors'], gs_res_df['mean_test_score'])"
   ]
  },
  {
   "cell_type": "code",
   "execution_count": 79,
   "metadata": {
    "scrolled": false
   },
   "outputs": [
    {
     "data": {
      "text/plain": [
       "KNeighborsClassifier(algorithm='auto', leaf_size=30, metric='minkowski',\n",
       "           metric_params=None, n_jobs=1, n_neighbors=5, p=2,\n",
       "           weights='uniform')"
      ]
     },
     "execution_count": 79,
     "metadata": {},
     "output_type": "execute_result"
    }
   ],
   "source": [
    "gs.best_estimator_"
   ]
  },
  {
   "cell_type": "markdown",
   "metadata": {},
   "source": [
    "#### The below shows us that the search term `Machine Learning` correctly predicts that it would fall underneath Category:Machine_learning  (category 1 is M.L.)"
   ]
  },
  {
   "cell_type": "code",
   "execution_count": 85,
   "metadata": {},
   "outputs": [
    {
     "data": {
      "text/plain": [
       "array([1])"
      ]
     },
     "execution_count": 85,
     "metadata": {},
     "output_type": "execute_result"
    }
   ],
   "source": [
    "gs.predict(search_term_lsa1)"
   ]
  },
  {
   "cell_type": "markdown",
   "metadata": {},
   "source": [
    "#### The below shows us that the search term `Business Software` correctly predicts that it would fall underneath Category:Business_software (Category 2 is B.S.)"
   ]
  },
  {
   "cell_type": "code",
   "execution_count": 88,
   "metadata": {},
   "outputs": [
    {
     "data": {
      "text/plain": [
       "array([2])"
      ]
     },
     "execution_count": 88,
     "metadata": {},
     "output_type": "execute_result"
    }
   ],
   "source": [
    "gs.predict(search_term_lsa2)"
   ]
  },
  {
   "cell_type": "markdown",
   "metadata": {},
   "source": [
    "### In summary, just give me a search term and it will predict either:\n",
    "- `Machine Learning` or \n",
    "- `Business Software`"
   ]
  },
  {
   "cell_type": "code",
   "execution_count": 89,
   "metadata": {},
   "outputs": [],
   "source": [
    "test_search = 'Microsoft Office'"
   ]
  },
  {
   "cell_type": "code",
   "execution_count": 90,
   "metadata": {},
   "outputs": [],
   "source": [
    "test_search_vec = tfidf_vectorizer.transform([test_search])\n",
    "test_search_lsa = SVD.transform(test_search_vec)"
   ]
  },
  {
   "cell_type": "code",
   "execution_count": 91,
   "metadata": {},
   "outputs": [
    {
     "data": {
      "text/plain": [
       "array([2])"
      ]
     },
     "execution_count": 91,
     "metadata": {},
     "output_type": "execute_result"
    }
   ],
   "source": [
    "gs.predict(test_search_lsa)"
   ]
  },
  {
   "cell_type": "markdown",
   "metadata": {},
   "source": [
    "#### search term for 'Microsoft Office' predicts Business Software"
   ]
  },
  {
   "cell_type": "code",
   "execution_count": null,
   "metadata": {},
   "outputs": [],
   "source": []
  },
  {
   "cell_type": "code",
   "execution_count": null,
   "metadata": {},
   "outputs": [],
   "source": []
  },
  {
   "cell_type": "code",
   "execution_count": null,
   "metadata": {},
   "outputs": [],
   "source": []
  },
  {
   "cell_type": "code",
   "execution_count": null,
   "metadata": {},
   "outputs": [],
   "source": []
  }
 ],
 "metadata": {
  "kernelspec": {
   "display_name": "Python 3",
   "language": "python",
   "name": "python3"
  },
  "language_info": {
   "codemirror_mode": {
    "name": "ipython",
    "version": 3
   },
   "file_extension": ".py",
   "mimetype": "text/x-python",
   "name": "python",
   "nbconvert_exporter": "python",
   "pygments_lexer": "ipython3",
   "version": "3.6.2"
  }
 },
 "nbformat": 4,
 "nbformat_minor": 2
}
