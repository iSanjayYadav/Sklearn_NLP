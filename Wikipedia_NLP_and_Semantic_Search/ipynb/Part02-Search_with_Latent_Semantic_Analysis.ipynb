{
 "cells": [
  {
   "cell_type": "markdown",
   "metadata": {},
   "source": [
    "## Part II - Latent Semantic Analysis to Grab Related Articles Given a Query"
   ]
  },
  {
   "cell_type": "code",
   "execution_count": 2,
   "metadata": {
    "collapsed": true
   },
   "outputs": [],
   "source": [
    "import matplotlib.pyplot as plt\n",
    "import numpy as np\n",
    "import pandas as pd\n",
    "import seaborn as sns\n",
    "\n",
    "%matplotlib inline"
   ]
  },
  {
   "cell_type": "code",
   "execution_count": 3,
   "metadata": {
    "collapsed": true
   },
   "outputs": [],
   "source": [
    "from sklearn.feature_extraction.text import CountVectorizer, TfidfVectorizer, TfidfTransformer\n",
    "from sklearn.decomposition import TruncatedSVD\n",
    "from sklearn.metrics.pairwise import cosine_similarity"
   ]
  },
  {
   "cell_type": "code",
   "execution_count": 4,
   "metadata": {},
   "outputs": [],
   "source": [
    "from os import chdir\n",
    "chdir('/home/jovyan/')"
   ]
  },
  {
   "cell_type": "code",
   "execution_count": 5,
   "metadata": {
    "scrolled": false
   },
   "outputs": [],
   "source": [
    "import library.db_helper as db\n",
    "import library.functions as fy"
   ]
  },
  {
   "cell_type": "markdown",
   "metadata": {},
   "source": [
    "### Grab Text from the Page table"
   ]
  },
  {
   "cell_type": "code",
   "execution_count": 6,
   "metadata": {},
   "outputs": [],
   "source": [
    "query = '''\n",
    "SELECT text\n",
    "FROM page\n",
    "'''\n",
    "\n",
    "X = db.query_to_dataframe(query)"
   ]
  },
  {
   "cell_type": "code",
   "execution_count": 7,
   "metadata": {
    "scrolled": true
   },
   "outputs": [
    {
     "data": {
      "text/html": [
       "<div>\n",
       "<table border=\"1\" class=\"dataframe\">\n",
       "  <thead>\n",
       "    <tr style=\"text-align: right;\">\n",
       "      <th></th>\n",
       "      <th>text</th>\n",
       "    </tr>\n",
       "  </thead>\n",
       "  <tbody>\n",
       "    <tr>\n",
       "      <th>1768</th>\n",
       "      <td>visionplus is a financial software application...</td>\n",
       "    </tr>\n",
       "    <tr>\n",
       "      <th>808</th>\n",
       "      <td>léon bottou is a researcher best known for his...</td>\n",
       "    </tr>\n",
       "    <tr>\n",
       "      <th>72</th>\n",
       "      <td>this article may be in need of reorganization ...</td>\n",
       "    </tr>\n",
       "    <tr>\n",
       "      <th>1782</th>\n",
       "      <td>this article has multiple issues please help i...</td>\n",
       "    </tr>\n",
       "    <tr>\n",
       "      <th>2409</th>\n",
       "      <td>expert choiceindustrycomputer softwarefounded ...</td>\n",
       "    </tr>\n",
       "  </tbody>\n",
       "</table>\n",
       "</div>"
      ],
      "text/plain": [
       "                                                   text\n",
       "1768  visionplus is a financial software application...\n",
       "808   léon bottou is a researcher best known for his...\n",
       "72    this article may be in need of reorganization ...\n",
       "1782  this article has multiple issues please help i...\n",
       "2409  expert choiceindustrycomputer softwarefounded ..."
      ]
     },
     "execution_count": 7,
     "metadata": {},
     "output_type": "execute_result"
    }
   ],
   "source": [
    "X.sample(5)"
   ]
  },
  {
   "cell_type": "code",
   "execution_count": 8,
   "metadata": {
    "collapsed": true
   },
   "outputs": [],
   "source": [
    "query = '''\n",
    "SELECT * \n",
    "FROM page \n",
    "'''\n",
    "\n",
    "page = db.query_to_dataframe(query)"
   ]
  },
  {
   "cell_type": "markdown",
   "metadata": {},
   "source": [
    "### Setup Latent Semantic Analysis - Article Modeling"
   ]
  },
  {
   "cell_type": "markdown",
   "metadata": {},
   "source": [
    "![](http://interactive.blockdiag.com/image?compression=deflate&encoding=base64&src=eJxLyslPzk7JTExXqOZSUFAqSixXSEksSVRS0LVTUCpILCpOhTCTc1IT85SsQWogTLBoSGpRrq5LfnJpbmpeiUJMnm9iSVFmBUQZDjmwvuAwFwjDM68ktaigKBWkICi1uDSnpBiouxYAYKwuOg)"
   ]
  },
  {
   "cell_type": "markdown",
   "metadata": {},
   "source": [
    "#### 1. Vetorize the Search Term and the Corpus (X['text'])"
   ]
  },
  {
   "cell_type": "code",
   "execution_count": 9,
   "metadata": {
    "collapsed": true
   },
   "outputs": [],
   "source": [
    "def tfidf_vectorizer (search_query, min_df=1):\n",
    "    tfidf_vec = TfidfVectorizer(stop_words = 'english', min_df=min_df)\n",
    "    doc_term_matrix = tfidf_vec.fit_transform(X['text'])\n",
    "    search_query_vec = tfidf_vec.transform([search_query])\n",
    "    return doc_term_matrix, search_query_vec"
   ]
  },
  {
   "cell_type": "code",
   "execution_count": 10,
   "metadata": {},
   "outputs": [
    {
     "data": {
      "text/plain": [
       "(<2449x34118 sparse matrix of type '<class 'numpy.float64'>'\n",
       " \twith 702977 stored elements in Compressed Sparse Row format>,\n",
       " <1x34118 sparse matrix of type '<class 'numpy.float64'>'\n",
       " \twith 1 stored elements in Compressed Sparse Row format>)"
      ]
     },
     "execution_count": 10,
     "metadata": {},
     "output_type": "execute_result"
    }
   ],
   "source": [
    "tfidf_vectorizer('oracle', min_df=2)"
   ]
  },
  {
   "cell_type": "markdown",
   "metadata": {},
   "source": [
    "#### 2. Use SVD to reduce dimensionality for the sparse document matrix"
   ]
  },
  {
   "cell_type": "code",
   "execution_count": 11,
   "metadata": {
    "collapsed": true
   },
   "outputs": [],
   "source": [
    "def SVD_lsa (search_query, n_components=300, min_df=1):\n",
    "    SVD = TruncatedSVD(n_components=n_components)\n",
    "    doc_term_matrix, search_query_vec = tfidf_vectorizer (search_query, min_df = min_df)\n",
    "    \n",
    "    lsa_doc_term = SVD.fit_transform(doc_term_matrix)\n",
    "    search_query_lsa = SVD.transform(search_query_vec)\n",
    "    \n",
    "    return lsa_doc_term, search_query_lsa"
   ]
  },
  {
   "cell_type": "code",
   "execution_count": 12,
   "metadata": {
    "collapsed": true
   },
   "outputs": [
    {
     "data": {
      "text/plain": [
       "(array([[ 0.22806814, -0.06748126, -0.10427892, ..., -0.03173541,\n",
       "         -0.00188687,  0.01658263],\n",
       "        [ 0.26614059, -0.01391332, -0.0579378 , ..., -0.00394924,\n",
       "         -0.02921368, -0.02485575],\n",
       "        [ 0.26572805,  0.08273001, -0.2099025 , ...,  0.00738858,\n",
       "          0.02448877,  0.00697621],\n",
       "        ..., \n",
       "        [ 0.09133903, -0.04684297, -0.01136924, ...,  0.01823165,\n",
       "          0.0355533 , -0.00489408],\n",
       "        [ 0.15998329, -0.08759892,  0.08040765, ..., -0.01623633,\n",
       "         -0.0209607 ,  0.00490432],\n",
       "        [ 0.18419962, -0.09739457,  0.15918732, ...,  0.02118281,\n",
       "         -0.04171515,  0.0096374 ]]),\n",
       " array([[  3.62049605e-02,  -2.54471588e-02,  -3.46700288e-02,\n",
       "          -6.19762523e-02,  -5.46172656e-02,   1.06033842e-01,\n",
       "          -6.17681939e-02,  -3.70162169e-02,   3.73106627e-02,\n",
       "           1.81111981e-01,  -1.30278453e-02,  -4.49196707e-02,\n",
       "           3.91873698e-01,   5.30837360e-01,   3.49651205e-01,\n",
       "           1.60584131e-01,  -1.43791584e-01,  -2.24848194e-01,\n",
       "          -1.18954663e-01,  -7.42209483e-02,   2.43085839e-01,\n",
       "           1.83649063e-02,  -6.37851502e-02,   7.55822624e-02,\n",
       "          -3.45751724e-03,   8.00632976e-03,  -4.17142373e-02,\n",
       "          -1.98142423e-02,   5.83454398e-02,   3.33894096e-02,\n",
       "          -3.92884160e-02,   3.48882468e-02,   2.04677480e-02,\n",
       "          -1.50441090e-02,   1.49243226e-02,   4.85972101e-02,\n",
       "          -1.41404713e-02,   4.21472264e-02,  -1.56024373e-02,\n",
       "          -5.48421720e-02,   4.19041222e-02,  -2.63773959e-02,\n",
       "           2.02052734e-02,  -5.28762213e-03,   2.08523373e-02,\n",
       "          -5.27716534e-03,   4.71637427e-03,   3.22624830e-02,\n",
       "           3.77034637e-02,   4.93835754e-03,   2.73330636e-02,\n",
       "          -6.00137846e-02,   2.95120905e-02,  -1.43724131e-02,\n",
       "           2.73356550e-02,   4.92045631e-02,   1.38619239e-02,\n",
       "          -1.67099011e-03,   3.20443589e-02,  -4.49496187e-04,\n",
       "           1.25720680e-02,   1.05623299e-02,  -2.66220338e-02,\n",
       "          -2.88356168e-02,   1.12753133e-02,  -4.01803837e-03,\n",
       "          -1.04088004e-02,   1.90881897e-02,   1.21419915e-02,\n",
       "           8.12087162e-03,  -1.04692026e-02,   2.93091121e-02,\n",
       "          -2.65377409e-02,  -3.47468655e-03,  -6.90602534e-03,\n",
       "           5.36850926e-03,   1.48418273e-02,   9.13344623e-04,\n",
       "          -9.18136745e-03,   6.10823196e-03,   6.14228935e-04,\n",
       "          -1.88432046e-02,  -7.30584829e-03,  -1.13826550e-02,\n",
       "          -7.97552500e-04,   1.78200347e-02,  -1.17859819e-03,\n",
       "          -2.13081778e-02,   2.22778807e-02,   1.70879160e-03,\n",
       "           9.16370487e-04,   6.75377738e-03,   2.24762613e-02,\n",
       "           3.13484402e-03,   7.24925727e-03,  -2.20118349e-03,\n",
       "          -1.30078543e-02,  -6.39960655e-03,   3.45873335e-03,\n",
       "          -1.23155160e-03,  -7.77365705e-03,  -2.12726666e-02,\n",
       "           2.67737889e-02,   1.00217232e-02,   1.98758957e-03,\n",
       "          -5.65063111e-03,   3.02819642e-03,   3.70870389e-03,\n",
       "           2.63581923e-02,   4.28044008e-03,  -7.92251014e-03,\n",
       "          -1.06440572e-02,   2.31242830e-02,   9.98521211e-04,\n",
       "          -1.35941233e-02,   1.50817028e-02,   6.42818269e-03,\n",
       "          -2.11263941e-03,   6.30025889e-03,   9.87693210e-03,\n",
       "          -1.21820868e-02,   1.29376695e-02,   6.14238953e-03,\n",
       "           3.53721640e-03,  -2.27386462e-02,   5.54051876e-03,\n",
       "           9.26216077e-03,  -1.61956488e-03,  -1.19264278e-04,\n",
       "          -3.16232966e-04,  -1.78053618e-02,   1.51731395e-02,\n",
       "          -1.15833462e-03,   2.88896391e-03,   4.01321069e-03,\n",
       "           1.23367975e-02,  -4.34544405e-03,   1.49959923e-03,\n",
       "          -1.08164807e-02,   1.67775235e-02,   2.10352099e-04,\n",
       "           7.94945414e-03,   3.24107087e-03,  -1.37664768e-02,\n",
       "          -6.76615782e-03,   6.78629224e-03,   5.25567565e-05,\n",
       "           9.39037103e-03,  -1.55899338e-02,   4.78791899e-03,\n",
       "           1.38221545e-02,  -1.78725129e-03,   1.33088042e-02,\n",
       "           9.15535914e-03,   3.69818620e-03,   1.10500965e-02,\n",
       "          -2.29587846e-03,   4.56641982e-04,  -2.53578637e-03,\n",
       "          -1.10497398e-02,   1.12108207e-02,   4.06398035e-03,\n",
       "          -2.10819511e-03,   3.18307819e-03,  -1.17159518e-03,\n",
       "          -7.77156598e-03,  -9.54589226e-03,  -1.20181178e-02,\n",
       "           3.21230626e-04,  -2.17781125e-02,   4.80651996e-03,\n",
       "           1.11735198e-02,  -2.73694153e-03,  -9.47643375e-03,\n",
       "          -5.21348298e-03,   1.30378412e-02,  -1.10545142e-02,\n",
       "           1.45950445e-02,   9.09651397e-03,   1.10908175e-02,\n",
       "          -7.74584968e-03,   7.56855297e-03,   9.43083583e-03,\n",
       "          -2.75500743e-03,   5.80055662e-03,  -1.31694771e-02,\n",
       "           8.78394468e-03,  -5.29023972e-03,  -2.69671923e-02,\n",
       "          -2.02154240e-03,  -9.75281714e-03,  -1.21843967e-03,\n",
       "           2.44111078e-03,  -6.76943775e-03,  -1.86952011e-02,\n",
       "           3.44369723e-03,   1.74112971e-03,   9.46551830e-03,\n",
       "           3.04733374e-03,   1.80525272e-05,   1.64268816e-03,\n",
       "          -8.72865423e-03,   1.94289146e-02,   1.96757024e-02,\n",
       "          -3.26171150e-03,  -4.71213158e-03,   7.74099080e-04,\n",
       "          -8.09548734e-03,   6.21038003e-03,  -1.52999165e-02,\n",
       "           8.84792726e-03,   9.56276563e-03,  -3.61080157e-05,\n",
       "          -1.24804042e-02,  -1.04102822e-02,   4.31885666e-03,\n",
       "           2.03300018e-02,   1.29306792e-02,   1.61097077e-03,\n",
       "          -7.01703404e-03,  -1.39288276e-02,  -2.31544965e-03,\n",
       "          -6.49031401e-03,   2.49991479e-02,  -1.87301984e-03,\n",
       "          -2.20961839e-03,   1.72604495e-02,   4.68330519e-03,\n",
       "           5.47588739e-04,  -2.34939289e-03,  -2.84088688e-03,\n",
       "           7.97970909e-03,   1.28871442e-02,  -1.26784367e-02,\n",
       "           8.43331892e-03,   3.97206446e-03,   4.55180982e-03,\n",
       "          -1.28711831e-02,  -6.94222293e-03,   7.22892754e-03,\n",
       "          -9.08721315e-03,   4.10431748e-03,  -7.13233209e-03,\n",
       "           6.62850240e-03,  -4.99502883e-04,  -4.63988793e-03,\n",
       "           5.38644411e-03,   1.91610687e-02,   1.15020637e-03,\n",
       "           8.07119128e-03,   5.63656024e-03,   2.55521337e-03,\n",
       "          -1.08732708e-02,   1.24573685e-03,  -1.26165921e-02,\n",
       "           5.62813131e-03,   4.03916703e-03,  -8.64951754e-03,\n",
       "           1.67315074e-03,  -8.35297971e-03,  -1.15537938e-03,\n",
       "           3.90250126e-03,   1.95028589e-03,   1.93014003e-02,\n",
       "          -1.72517680e-03,   9.04663138e-03,   7.55881427e-03,\n",
       "           1.68730372e-03,   9.26722674e-03,  -8.61665380e-03,\n",
       "           1.16686136e-02,   1.06534522e-03,  -9.46497712e-03,\n",
       "          -1.09512497e-02,   6.56650216e-03,   4.92649563e-03,\n",
       "          -1.11193171e-02,  -1.18203928e-02,   1.61029887e-02,\n",
       "          -3.76374354e-03,   7.96586830e-03,   1.62873222e-03,\n",
       "          -1.94947648e-03,  -1.85608119e-03,   7.83550943e-03,\n",
       "           2.32233826e-03,   1.88333938e-02,  -7.61168787e-03,\n",
       "           1.11332787e-03,   2.73780724e-03,   1.53351818e-02,\n",
       "           1.15963575e-02,  -9.90353489e-03,  -5.11779139e-03,\n",
       "          -2.80600300e-03,  -4.24914267e-03,   1.40634872e-02,\n",
       "          -1.24808497e-02,   6.40079629e-03,   2.38891495e-03,\n",
       "          -1.12364067e-02,  -3.03879813e-03,   9.41572840e-03,\n",
       "           9.50527508e-03,   8.53194983e-04,  -3.04520138e-03,\n",
       "          -1.16727918e-02,   3.95641331e-03,  -3.40022809e-03,\n",
       "          -3.77844097e-04,  -3.11294691e-03,   5.52774984e-04,\n",
       "           1.65050701e-02,  -2.05604854e-02,  -1.50185691e-02,\n",
       "           4.29897962e-03,  -1.69718080e-02,  -5.75996412e-03,\n",
       "          -5.14426246e-04,   1.94266359e-02,   9.23204377e-03,\n",
       "          -3.15192716e-03,   1.13467257e-04,   1.08892021e-02,\n",
       "          -1.73068308e-02,   1.89494919e-02,  -6.23207431e-03,\n",
       "          -1.78770815e-02,   6.62472894e-03,   7.50923056e-03,\n",
       "           3.91177736e-03,   1.42070803e-02,  -7.44317683e-04,\n",
       "           8.14113896e-03,  -6.70182479e-04,   2.87320049e-03,\n",
       "          -6.45344260e-03,   2.17722636e-02,   7.88168254e-03,\n",
       "           6.45340158e-03,   7.30394617e-03,   3.33632435e-03,\n",
       "           2.38023782e-03,   1.03009914e-02,   4.12182956e-03,\n",
       "          -2.72312069e-03,   1.70516536e-02,   1.19644863e-03,\n",
       "           2.47234162e-02,   8.20431707e-03,   3.55687056e-03,\n",
       "           6.69737982e-03,   3.04949278e-03,   1.28397704e-02,\n",
       "           1.04586267e-02,   8.85680825e-03,   1.16651252e-02,\n",
       "           2.59885405e-03,  -1.56990303e-02,   6.04605411e-03,\n",
       "           1.11420473e-02,  -1.32981684e-02,  -6.74208600e-03,\n",
       "           7.57152610e-03,  -8.82262146e-03,  -7.63286224e-03,\n",
       "           2.16050278e-03,   2.95037433e-03,   1.07568948e-02,\n",
       "           2.09331751e-03,  -1.36834305e-03,  -5.19308069e-03,\n",
       "           5.59633745e-03,   7.37187181e-03,   1.59830421e-03,\n",
       "          -3.72605090e-03,   4.81720303e-03,  -3.77407305e-03,\n",
       "           1.17656052e-03,  -3.91035841e-03,   4.86830019e-03,\n",
       "          -1.04166626e-02,  -2.07267369e-03,  -9.07101314e-03,\n",
       "          -1.08630810e-03,  -8.12538211e-03,   8.75254045e-03,\n",
       "           3.45851952e-04,  -1.74313026e-05,   1.41003457e-02,\n",
       "          -9.42487812e-04,   1.09356887e-02,   2.31553965e-03,\n",
       "           1.31993523e-02,   9.87115804e-03,   1.12726871e-03,\n",
       "          -1.13206469e-02,  -1.11306769e-02,   6.35639068e-03,\n",
       "           1.67973917e-02]]))"
      ]
     },
     "execution_count": 12,
     "metadata": {},
     "output_type": "execute_result"
    }
   ],
   "source": [
    "SVD_lsa ('oracle', min_df=2, n_components=400)"
   ]
  },
  {
   "cell_type": "markdown",
   "metadata": {},
   "source": [
    "#### 3. Apply sklearn's cosine_similiarity to return article matches for the given search term"
   ]
  },
  {
   "cell_type": "code",
   "execution_count": 13,
   "metadata": {
    "scrolled": false
   },
   "outputs": [
    {
     "data": {
      "text/plain": [
       "(2449, 1)"
      ]
     },
     "execution_count": 13,
     "metadata": {},
     "output_type": "execute_result"
    }
   ],
   "source": [
    "X.shape # corpus"
   ]
  },
  {
   "cell_type": "code",
   "execution_count": 14,
   "metadata": {},
   "outputs": [],
   "source": [
    "def grab_related_articles (search_query, n_results=5, n_components = 300, min_df=1):\n",
    "    lsa_doc_term, search_query_lsa = SVD_lsa(search_query, n_components=n_components, min_df=min_df)\n",
    "    cos_sim_arr = cosine_similarity(lsa_doc_term, search_query_lsa).ravel()\n",
    "    \n",
    "    first_term = -1*(n_results) - 1 \n",
    "    indices = (np.argsort(cos_sim_arr)[:first_term: -1])\n",
    "    \n",
    "    while len(list(set(page['title'].iloc[indices]))) < n_results:\n",
    "        first_term -= 1\n",
    "        indices = (np.argsort(cos_sim_arr)[:first_term: -1])\n",
    "    related_articles = list(set(page['title'].iloc[indices]))\n",
    "    return related_articles   "
   ]
  },
  {
   "cell_type": "code",
   "execution_count": 15,
   "metadata": {
    "scrolled": false
   },
   "outputs": [
    {
     "data": {
      "text/plain": [
       "['oracle application server',\n",
       " 'oracle soa suite',\n",
       " 'oracle fusion middleware',\n",
       " 'oracle corporation',\n",
       " 'oracle fusion architecture',\n",
       " 'oracle enterprise resource planning cloud',\n",
       " 'oracle policy automation',\n",
       " 'oracle reports',\n",
       " 'oracle fusion applications',\n",
       " 'oracle applications']"
      ]
     },
     "execution_count": 15,
     "metadata": {},
     "output_type": "execute_result"
    }
   ],
   "source": [
    "grab_related_articles(\"oracle\", n_results=10, n_components=400, min_df=2)"
   ]
  }
 ],
 "metadata": {
  "kernelspec": {
   "display_name": "Python 3",
   "language": "python",
   "name": "python3"
  },
  "language_info": {
   "codemirror_mode": {
    "name": "ipython",
    "version": 3
   },
   "file_extension": ".py",
   "mimetype": "text/x-python",
   "name": "python",
   "nbconvert_exporter": "python",
   "pygments_lexer": "ipython3",
   "version": "3.6.2"
  }
 },
 "nbformat": 4,
 "nbformat_minor": 2
}
