{
 "cells": [
  {
   "cell_type": "markdown",
   "metadata": {},
   "source": [
    "# Semantic Search"
   ]
  },
  {
   "cell_type": "markdown",
   "metadata": {},
   "source": [
    "### Part 0 - Data Collection"
   ]
  },
  {
   "cell_type": "markdown",
   "metadata": {},
   "source": [
    "Query the wikipedia API and **collect all of the articles** under the following wikipedia categories:\n",
    "* [Machine Learning](https://en.wikipedia.org/wiki/Category:Machine_learning)\n",
    "* [Business Software](https://en.wikipedia.org/wiki/Category:Business_software)\n",
    "\n",
    "The code should be modular enough that any valid category from Wikipedia can be queried by the code.\n",
    "\n",
    "The results of the query will be written to PostgreSQL tables, `page` and `category`. "
   ]
  },
  {
   "cell_type": "code",
   "execution_count": 1,
   "metadata": {
    "scrolled": true
   },
   "outputs": [
    {
     "name": "stdout",
     "output_type": "stream",
     "text": [
      "Requirement already satisfied: wikipedia in /opt/conda/lib/python3.6/site-packages\n",
      "Requirement already satisfied: beautifulsoup4 in /opt/conda/lib/python3.6/site-packages (from wikipedia)\n",
      "Requirement already satisfied: requests<3.0.0,>=2.0.0 in /opt/conda/lib/python3.6/site-packages (from wikipedia)\n",
      "Requirement already satisfied: chardet<3.1.0,>=3.0.2 in /opt/conda/lib/python3.6/site-packages (from requests<3.0.0,>=2.0.0->wikipedia)\n",
      "Requirement already satisfied: idna<2.7,>=2.5 in /opt/conda/lib/python3.6/site-packages (from requests<3.0.0,>=2.0.0->wikipedia)\n",
      "Requirement already satisfied: urllib3<1.23,>=1.21.1 in /opt/conda/lib/python3.6/site-packages (from requests<3.0.0,>=2.0.0->wikipedia)\n",
      "Requirement already satisfied: certifi>=2017.4.17 in /opt/conda/lib/python3.6/site-packages (from requests<3.0.0,>=2.0.0->wikipedia)\n"
     ]
    }
   ],
   "source": [
    "!pip install wikipedia"
   ]
  },
  {
   "cell_type": "code",
   "execution_count": 2,
   "metadata": {},
   "outputs": [
    {
     "name": "stdout",
     "output_type": "stream",
     "text": [
      "Requirement already satisfied: psycopg2 in /opt/conda/lib/python3.6/site-packages\r\n"
     ]
    }
   ],
   "source": [
    "!pip install psycopg2"
   ]
  },
  {
   "cell_type": "code",
   "execution_count": 3,
   "metadata": {
    "collapsed": true
   },
   "outputs": [],
   "source": [
    "import wikipedia\n",
    "import requests\n",
    "from bs4 import BeautifulSoup\n",
    "import pandas as pd\n",
    "import numpy as np\n",
    "import re\n",
    "import string\n",
    "import pickle"
   ]
  },
  {
   "cell_type": "code",
   "execution_count": 4,
   "metadata": {
    "collapsed": true
   },
   "outputs": [],
   "source": [
    "from os import chdir\n",
    "chdir('/home/jovyan/')"
   ]
  },
  {
   "cell_type": "code",
   "execution_count": 5,
   "metadata": {
    "collapsed": true,
    "scrolled": false
   },
   "outputs": [],
   "source": [
    "import library.db_helper as db\n",
    "import library.functions as fy"
   ]
  },
  {
   "cell_type": "code",
   "execution_count": 6,
   "metadata": {
    "collapsed": true
   },
   "outputs": [
    {
     "data": {
      "text/plain": [
       "{'batchcomplete': '',\n",
       " 'limits': {'categorymembers': 500},\n",
       " 'query': {'categorymembers': [{'ns': 2,\n",
       "    'pageid': 54972729,\n",
       "    'title': 'User:CustIntelMngt/sandbox/Customer Intelligence Management'},\n",
       "   {'ns': 0, 'pageid': 43385931, 'title': 'Data exploration'},\n",
       "   {'ns': 0,\n",
       "    'pageid': 49082762,\n",
       "    'title': 'List of datasets for machine learning research'},\n",
       "   {'ns': 0, 'pageid': 233488, 'title': 'Machine learning'},\n",
       "   {'ns': 0, 'pageid': 53587467, 'title': 'Outline of machine learning'},\n",
       "   {'ns': 0, 'pageid': 3771060, 'title': 'Accuracy paradox'},\n",
       "   {'ns': 0, 'pageid': 43808044, 'title': 'Action model learning'},\n",
       "   {'ns': 0,\n",
       "    'pageid': 28801798,\n",
       "    'title': 'Active learning (machine learning)'},\n",
       "   {'ns': 0, 'pageid': 45049676, 'title': 'Adversarial machine learning'},\n",
       "   {'ns': 0, 'pageid': 52642349, 'title': 'AIVA'},\n",
       "   {'ns': 0, 'pageid': 30511763, 'title': 'AIXI'},\n",
       "   {'ns': 0, 'pageid': 50773876, 'title': 'Algorithm Selection'},\n",
       "   {'ns': 0, 'pageid': 20890511, 'title': 'Algorithmic inference'},\n",
       "   {'ns': 0, 'pageid': 49242352, 'title': 'AlphaGo'},\n",
       "   {'ns': 0, 'pageid': 19463198, 'title': 'Apprenticeship learning'},\n",
       "   {'ns': 0, 'pageid': 14003441, 'title': 'Bag-of-words model'},\n",
       "   {'ns': 0, 'pageid': 31877832, 'title': 'Ball tree'},\n",
       "   {'ns': 0, 'pageid': 9732182, 'title': 'Base rate'},\n",
       "   {'ns': 0,\n",
       "    'pageid': 35867897,\n",
       "    'title': 'Bayesian interpretation of kernel regularization'},\n",
       "   {'ns': 0, 'pageid': 40973765, 'title': 'Bayesian optimization'},\n",
       "   {'ns': 0, 'pageid': 50211107, 'title': 'Bayesian structural time series'},\n",
       "   {'ns': 0, 'pageid': 40678189, 'title': 'Bias–variance tradeoff'},\n",
       "   {'ns': 0, 'pageid': 55075082, 'title': 'BigDL'},\n",
       "   {'ns': 0, 'pageid': 205393, 'title': 'Binary classification'},\n",
       "   {'ns': 0, 'pageid': 50646178, 'title': 'Bing Predicts'},\n",
       "   {'ns': 0, 'pageid': 1191936, 'title': 'Bongard problem'},\n",
       "   {'ns': 0, 'pageid': 44439173, 'title': 'Bradley–Terry model'},\n",
       "   {'ns': 0, 'pageid': 53631046, 'title': 'Caffe (software)'},\n",
       "   {'ns': 0, 'pageid': 39182554, 'title': 'Catastrophic interference'},\n",
       "   {'ns': 0, 'pageid': 8964665, 'title': 'Category utility'},\n",
       "   {'ns': 0, 'pageid': 17114678, 'title': 'CBCL (MIT)'},\n",
       "   {'ns': 0, 'pageid': 22795783, 'title': 'CIML community portal'},\n",
       "   {'ns': 0, 'pageid': 28650287, 'title': 'Cleverbot'},\n",
       "   {'ns': 0, 'pageid': 2934910, 'title': 'Cognitive robotics'},\n",
       "   {'ns': 0, 'pageid': 9583985, 'title': 'Committee machine'},\n",
       "   {'ns': 0, 'pageid': 387537, 'title': 'Computational learning theory'},\n",
       "   {'ns': 0, 'pageid': 3118600, 'title': 'Concept drift'},\n",
       "   {'ns': 0, 'pageid': 6968451, 'title': 'Concept learning'},\n",
       "   {'ns': 0, 'pageid': 4118276, 'title': 'Conditional random field'},\n",
       "   {'ns': 0, 'pageid': 847558, 'title': 'Confusion matrix'},\n",
       "   {'ns': 0,\n",
       "    'pageid': 54550729,\n",
       "    'title': 'Connectionist Temporal Classification (CTC)'},\n",
       "   {'ns': 0, 'pageid': 28255458, 'title': 'Constrained conditional model'},\n",
       "   {'ns': 0, 'pageid': 34042707, 'title': 'Coupled pattern learner'},\n",
       "   {'ns': 0, 'pageid': 5767980, 'title': 'Cross-entropy method'},\n",
       "   {'ns': 0, 'pageid': 416612, 'title': 'Cross-validation (statistics)'},\n",
       "   {'ns': 0, 'pageid': 787776, 'title': 'Curse of dimensionality'},\n",
       "   {'ns': 0, 'pageid': 49316492, 'title': 'Darkforest'},\n",
       "   {'ns': 0, 'pageid': 12386904, 'title': 'Data pre-processing'},\n",
       "   {'ns': 0, 'pageid': 51112472, 'title': 'Dataiku'},\n",
       "   {'ns': 0, 'pageid': 19317802, 'title': 'Decision list'},\n",
       "   {'ns': 0, 'pageid': 48290454, 'title': 'Deep feature synthesis'},\n",
       "   {'ns': 0, 'pageid': 43169442, 'title': 'Deeplearning4j'},\n",
       "   {'ns': 0, 'pageid': 41755648, 'title': 'DeepMind'},\n",
       "   {'ns': 0, 'pageid': 1422176, 'title': 'Developmental robotics'},\n",
       "   {'ns': 0, 'pageid': 579867, 'title': 'Dimensionality reduction'},\n",
       "   {'ns': 0, 'pageid': 12155912, 'title': 'Discriminative model'},\n",
       "   {'ns': 0, 'pageid': 1331441, 'title': 'Document classification'},\n",
       "   {'ns': 0, 'pageid': 45390860, 'title': 'Domain adaptation'},\n",
       "   {'ns': 0, 'pageid': 10747995, 'title': 'Eager learning'},\n",
       "   {'ns': 0, 'pageid': 213214, 'title': 'Early stopping'},\n",
       "   {'ns': 0, 'pageid': 13750669, 'title': 'Elastic matching'},\n",
       "   {'ns': 0, 'pageid': 1455062, 'title': 'Empirical risk minimization'},\n",
       "   {'ns': 0, 'pageid': 52003586, 'title': 'End-to-end reinforcement learning'},\n",
       "   {'ns': 0, 'pageid': 12304987, 'title': 'Ensembles of classifiers'},\n",
       "   {'ns': 0, 'pageid': 48833041, 'title': 'Error Tolerance (PAC learning)'},\n",
       "   {'ns': 0, 'pageid': 43218024, 'title': 'Evaluation of binary classifiers'},\n",
       "   {'ns': 0, 'pageid': 460689, 'title': 'Evolutionary programming'},\n",
       "   {'ns': 0, 'pageid': 8416103, 'title': 'Evolvability (computer science)'},\n",
       "   {'ns': 0, 'pageid': 14923880, 'title': 'Expectation propagation'},\n",
       "   {'ns': 0, 'pageid': 21638340, 'title': 'Explanation-based learning'},\n",
       "   {'ns': 0, 'pageid': 1299404, 'title': 'Feature (machine learning)'},\n",
       "   {'ns': 0, 'pageid': 46207323, 'title': 'Feature engineering'},\n",
       "   {'ns': 0, 'pageid': 36126852, 'title': 'Feature hashing'},\n",
       "   {'ns': 0, 'pageid': 38870173, 'title': 'Feature learning'},\n",
       "   {'ns': 0, 'pageid': 34061548, 'title': 'Feature scaling'},\n",
       "   {'ns': 0, 'pageid': 2085584, 'title': 'Feature vector'},\n",
       "   {'ns': 0, 'pageid': 313845, 'title': 'Formal concept analysis'},\n",
       "   {'ns': 0, 'pageid': 1222578, 'title': 'Generative model'},\n",
       "   {'ns': 0, 'pageid': 40254, 'title': 'Genetic algorithm'},\n",
       "   {'ns': 0,\n",
       "    'pageid': 50336055,\n",
       "    'title': 'Glossary of artificial intelligence'},\n",
       "   {'ns': 0, 'pageid': 4375576, 'title': 'Grammar induction'},\n",
       "   {'ns': 0, 'pageid': 1041204, 'title': 'Granular computing'},\n",
       "   {'ns': 0, 'pageid': 32402755, 'title': 'Hyperparameter (machine learning)'},\n",
       "   {'ns': 0, 'pageid': 5008963, 'title': 'Inauthentic text'},\n",
       "   {'ns': 0, 'pageid': 173926, 'title': 'Inductive bias'},\n",
       "   {'ns': 0, 'pageid': 42579971, 'title': 'Inductive probability'},\n",
       "   {'ns': 0, 'pageid': 41644056, 'title': 'Inductive programming'},\n",
       "   {'ns': 0, 'pageid': 33762888, 'title': 'Inferential theory of learning'},\n",
       "   {'ns': 0, 'pageid': 53279262, 'title': 'Instance selection'},\n",
       "   {'ns': 0, 'pageid': 22589574, 'title': 'Instance-based learning'},\n",
       "   {'ns': 0,\n",
       "    'pageid': 470314,\n",
       "    'title': 'Instantaneously trained neural networks'},\n",
       "   {'ns': 0, 'pageid': 48987892, 'title': 'Isotropic position'},\n",
       "   {'ns': 0,\n",
       "    'pageid': 5721283,\n",
       "    'title': 'Journal of Machine Learning Research'},\n",
       "   {'ns': 0, 'pageid': 2090057, 'title': 'Kernel density estimation'},\n",
       "   {'ns': 0, 'pageid': 41370976, 'title': 'Kernel embedding of distributions'},\n",
       "   {'ns': 0, 'pageid': 46798615, 'title': 'Kernel random forest'},\n",
       "   {'ns': 0, 'pageid': 4144848, 'title': 'Knowledge integration'},\n",
       "   {'ns': 0, 'pageid': 43688866, 'title': 'Knowledge Vault'},\n",
       "   {'ns': 0, 'pageid': 54033657, 'title': 'Labeled data'},\n",
       "   {'ns': 0, 'pageid': 28037054, 'title': 'Large margin nearest neighbor'},\n",
       "   {'ns': 0, 'pageid': 10747879, 'title': 'Lazy learning'},\n",
       "   {'ns': 0, 'pageid': 48827727, 'title': 'Learnable function class'},\n",
       "   {'ns': 0, 'pageid': 3274742, 'title': 'Learning automata'},\n",
       "   {'ns': 0, 'pageid': 25050663, 'title': 'Learning to rank'},\n",
       "   {'ns': 0, 'pageid': 23864530, 'title': 'Learning with errors'},\n",
       "   {'ns': 0, 'pageid': 33890474, 'title': 'Leave-one-out error'},\n",
       "   {'ns': 0, 'pageid': 35272263, 'title': 'Linear predictor function'},\n",
       "   {'ns': 0, 'pageid': 523173, 'title': 'Linear separability'},\n",
       "   {'ns': 0, 'pageid': 46963137, 'title': 'Local case-control sampling'},\n",
       "   {'ns': 2, 'pageid': 53047074, 'title': 'User:Luca Innocenti/sandbox'},\n",
       "   {'ns': 0, 'pageid': 44632031, 'title': 'M-Theory (learning framework)'},\n",
       "   {'ns': 0, 'pageid': 45378845, 'title': 'Logic learning machine'},\n",
       "   {'ns': 0, 'pageid': 5721403, 'title': 'Machine Learning (journal)'},\n",
       "   {'ns': 0, 'pageid': 53802271, 'title': 'Machine learning control'},\n",
       "   {'ns': 0,\n",
       "    'pageid': 53970843,\n",
       "    'title': 'Machine learning in bioinformatics'},\n",
       "   {'ns': 0, 'pageid': 48777199, 'title': 'Manifold regularization'},\n",
       "   {'ns': 2, 'pageid': 53049812, 'title': 'User:Maria Schuld/sandbox'},\n",
       "   {'ns': 0, 'pageid': 47937215, 'title': 'The Master Algorithm'},\n",
       "   {'ns': 0, 'pageid': 44628821, 'title': 'Matrix regularization'},\n",
       "   {'ns': 0, 'pageid': 12306500, 'title': 'Matthews correlation coefficient'},\n",
       "   {'ns': 0, 'pageid': 4615464, 'title': 'Meta learning (computer science)'},\n",
       "   {'ns': 0, 'pageid': 871681, 'title': 'Mixture model'},\n",
       "   {'ns': 0, 'pageid': 33998310, 'title': 'Mountain Car'},\n",
       "   {'ns': 0, 'pageid': 49786340, 'title': 'Movidius'},\n",
       "   {'ns': 0, 'pageid': 2854828, 'title': 'Multi-armed bandit'},\n",
       "   {'ns': 0, 'pageid': 938663, 'title': 'Multi-task learning'},\n",
       "   {'ns': 0,\n",
       "    'pageid': 30928751,\n",
       "    'title': 'Multilinear principal component analysis'},\n",
       "   {'ns': 0, 'pageid': 30909817, 'title': 'Multilinear subspace learning'},\n",
       "   {'ns': 0, 'pageid': 48841414, 'title': 'Multiple instance learning'},\n",
       "   {'ns': 0, 'pageid': 14082194, 'title': 'Multiple-instance learning'},\n",
       "   {'ns': 0,\n",
       "    'pageid': 52242050,\n",
       "    'title': 'Multiplicative Weight Update Method'},\n",
       "   {'ns': 0,\n",
       "    'pageid': 18475546,\n",
       "    'title': 'Multivariate adaptive regression splines'},\n",
       "   {'ns': 0, 'pageid': 48976249, 'title': 'MysteryVibe'},\n",
       "   {'ns': 0, 'pageid': 45627703, 'title': 'Native-language identification'},\n",
       "   {'ns': 0, 'pageid': 7309022, 'title': 'Nearest neighbor search'},\n",
       "   {'ns': 0, 'pageid': 19208664, 'title': 'Neural modeling fields'},\n",
       "   {'ns': 0, 'pageid': 44577560, 'title': 'Occam learning'},\n",
       "   {'ns': 0, 'pageid': 10748030, 'title': 'Offline learning'},\n",
       "   {'ns': 0, 'pageid': 42129549, 'title': 'OpenNN'},\n",
       "   {'ns': 0, 'pageid': 173332, 'title': 'Overfitting'},\n",
       "   {'ns': 0, 'pageid': 23864280, 'title': 'Parity learning'},\n",
       "   {'ns': 0,\n",
       "    'pageid': 40946774,\n",
       "    'title': 'Pattern language (formal languages)'},\n",
       "   {'ns': 0, 'pageid': 126706, 'title': 'Pattern recognition'},\n",
       "   {'ns': 0, 'pageid': 54956179, 'title': 'Pleo (company)'},\n",
       "   {'ns': 0, 'pageid': 2291650, 'title': 'Predictive learning'},\n",
       "   {'ns': 0, 'pageid': 11360852, 'title': 'Predictive state representation'},\n",
       "   {'ns': 0, 'pageid': 34072838, 'title': 'Preference learning'},\n",
       "   {'ns': 0,\n",
       "    'pageid': 6881120,\n",
       "    'title': 'Prior knowledge for pattern recognition'},\n",
       "   {'ns': 0, 'pageid': 21985449, 'title': 'Proactive learning'},\n",
       "   {'ns': 0, 'pageid': 9731945, 'title': 'Probability matching'},\n",
       "   {'ns': 0, 'pageid': 24825162, 'title': 'Product of experts'},\n",
       "   {'ns': 0,\n",
       "    'pageid': 41200806,\n",
       "    'title': 'Proximal gradient methods for learning'},\n",
       "   {'ns': 0, 'pageid': 41732818, 'title': 'Qloo'},\n",
       "   {'ns': 0, 'pageid': 44108758, 'title': 'Quantum machine learning'},\n",
       "   {'ns': 0, 'pageid': 41929726, 'title': 'Query level feature'},\n",
       "   {'ns': 0, 'pageid': 14529261, 'title': 'Rademacher complexity'},\n",
       "   {'ns': 0, 'pageid': 37697003, 'title': 'Random indexing'},\n",
       "   {'ns': 0, 'pageid': 43932548, 'title': 'Random projection'},\n",
       "   {'ns': 0, 'pageid': 926722, 'title': 'Relational data mining'},\n",
       "   {'ns': 0, 'pageid': 35887507, 'title': 'Representer theorem'},\n",
       "   {'ns': 0, 'pageid': 54625345, 'title': 'Right to explanation'},\n",
       "   {'ns': 0, 'pageid': 38782554, 'title': 'RoboEarth'},\n",
       "   {'ns': 0, 'pageid': 3290880, 'title': 'Robot learning'},\n",
       "   {'ns': 0, 'pageid': 7517319, 'title': 'Rule induction'},\n",
       "   {'ns': 0, 'pageid': 43269516, 'title': 'Sample complexity'},\n",
       "   {'ns': 0, 'pageid': 995455, 'title': 'Savi Technology'},\n",
       "   {'ns': 0,\n",
       "    'pageid': 14271782,\n",
       "    'title': 'Semantic analysis (machine learning)'},\n",
       "   {'ns': 0, 'pageid': 50222574, 'title': 'Semantic folding'},\n",
       "   {'ns': 0, 'pageid': 2829632, 'title': 'Semi-supervised learning'},\n",
       "   {'ns': 0, 'pageid': 29288159, 'title': 'Sequence labeling'},\n",
       "   {'ns': 0, 'pageid': 38059657, 'title': 'Similarity learning'},\n",
       "   {'ns': 0, 'pageid': 47509138, 'title': 'Skymind'},\n",
       "   {'ns': 0,\n",
       "    'pageid': 405562,\n",
       "    'title': \"Solomonoff's theory of inductive inference\"},\n",
       "   {'ns': 0, 'pageid': 48813654, 'title': 'Sparse dictionary learning'},\n",
       "   {'ns': 0, 'pageid': 50227596, 'title': 'Spike-and-slab variable selection'},\n",
       "   {'ns': 0, 'pageid': 33886025, 'title': 'Stability (learning theory)'},\n",
       "   {'ns': 0, 'pageid': 1579244, 'title': 'Statistical classification'},\n",
       "   {'ns': 0, 'pageid': 1053303, 'title': 'Statistical learning theory'},\n",
       "   {'ns': 0, 'pageid': 19667111, 'title': 'Statistical relational learning'},\n",
       "   {'ns': 0, 'pageid': 47845063, 'title': 'Stochastic block model'},\n",
       "   {'ns': 0, 'pageid': 10704974, 'title': 'Structural risk minimization'},\n",
       "   {'ns': 0,\n",
       "    'pageid': 48844125,\n",
       "    'title': 'Structured sparsity regularization'},\n",
       "   {'ns': 0, 'pageid': 3119546, 'title': 'Subclass reachability'},\n",
       "   {'ns': 0, 'pageid': 20926, 'title': 'Supervised learning'},\n",
       "   {'ns': 0, 'pageid': 1514392, 'title': 'Test set'},\n",
       "   {'ns': 0, 'pageid': 50828755, 'title': 'Timeline of machine learning'},\n",
       "   {'ns': 0, 'pageid': 960361, 'title': 'Transduction (machine learning)'},\n",
       "   {'ns': 0, 'pageid': 3920550, 'title': 'Transfer learning'},\n",
       "   {'ns': 0, 'pageid': 47577902, 'title': 'Trax Image Recognition'},\n",
       "   {'ns': 0, 'pageid': 5077439, 'title': 'Ugly duckling theorem'},\n",
       "   {'ns': 0, 'pageid': 19058043, 'title': 'Uncertain data'},\n",
       "   {'ns': 0,\n",
       "    'pageid': 22999791,\n",
       "    'title': 'Uniform convergence in probability'},\n",
       "   {'ns': 0, 'pageid': 37787103, 'title': 'Universal portfolio algorithm'},\n",
       "   {'ns': 0, 'pageid': 233497, 'title': 'Unsupervised learning'},\n",
       "   {'ns': 0, 'pageid': 47228422, 'title': 'User behavior analytics'},\n",
       "   {'ns': 0, 'pageid': 39945557, 'title': 'Validation set'},\n",
       "   {'ns': 0, 'pageid': 43502368, 'title': 'Vanishing gradient problem'},\n",
       "   {'ns': 0, 'pageid': 7578809, 'title': 'Version space learning'},\n",
       "   {'ns': 0, 'pageid': 52992310, 'title': 'VGG Image Annotator'},\n",
       "   {'ns': 0, 'pageid': 47527969, 'title': 'Word2vec'},\n",
       "   {'ns': 14,\n",
       "    'pageid': 33547387,\n",
       "    'title': 'Category:Applied machine learning'},\n",
       "   {'ns': 14,\n",
       "    'pageid': 42936114,\n",
       "    'title': 'Category:Artificial neural networks'},\n",
       "   {'ns': 14, 'pageid': 1718975, 'title': 'Category:Bayesian networks'},\n",
       "   {'ns': 14,\n",
       "    'pageid': 1991254,\n",
       "    'title': 'Category:Classification algorithms'},\n",
       "   {'ns': 14, 'pageid': 22532673, 'title': 'Category:Cluster analysis'},\n",
       "   {'ns': 14,\n",
       "    'pageid': 34310097,\n",
       "    'title': 'Category:Computational learning theory'},\n",
       "   {'ns': 14,\n",
       "    'pageid': 12932492,\n",
       "    'title': 'Category:Artificial intelligence conferences'},\n",
       "   {'ns': 14,\n",
       "    'pageid': 33542714,\n",
       "    'title': 'Category:Data mining and machine learning software'},\n",
       "   {'ns': 14,\n",
       "    'pageid': 42320378,\n",
       "    'title': 'Category:Datasets in machine learning'},\n",
       "   {'ns': 14, 'pageid': 29549713, 'title': 'Category:Dimension reduction'},\n",
       "   {'ns': 14, 'pageid': 3985352, 'title': 'Category:Ensemble learning'},\n",
       "   {'ns': 14, 'pageid': 754055, 'title': 'Category:Evolutionary algorithms'},\n",
       "   {'ns': 14, 'pageid': 3061615, 'title': 'Category:Genetic programming'},\n",
       "   {'ns': 14,\n",
       "    'pageid': 29003796,\n",
       "    'title': 'Category:Inductive logic programming'},\n",
       "   {'ns': 14,\n",
       "    'pageid': 12535256,\n",
       "    'title': 'Category:Kernel methods for machine learning'},\n",
       "   {'ns': 14, 'pageid': 20924581, 'title': 'Category:Latent variable models'},\n",
       "   {'ns': 14,\n",
       "    'pageid': 19314112,\n",
       "    'title': 'Category:Learning in computer vision'},\n",
       "   {'ns': 14, 'pageid': 36407925, 'title': 'Category:Log-linear models'},\n",
       "   {'ns': 14, 'pageid': 28004586, 'title': 'Category:Loss functions'},\n",
       "   {'ns': 14,\n",
       "    'pageid': 33547228,\n",
       "    'title': 'Category:Machine learning algorithms'},\n",
       "   {'ns': 14, 'pageid': 44943481, 'title': 'Category:Machine learning portal'},\n",
       "   {'ns': 14, 'pageid': 47991509, 'title': 'Category:Machine learning task'},\n",
       "   {'ns': 14, 'pageid': 24059390, 'title': 'Category:Markov models'},\n",
       "   {'ns': 14,\n",
       "    'pageid': 3832584,\n",
       "    'title': 'Category:Machine learning researchers'},\n",
       "   {'ns': 14, 'pageid': 52763829, 'title': 'Category:Semisupervised learning'},\n",
       "   {'ns': 14,\n",
       "    'pageid': 11737376,\n",
       "    'title': 'Category:Statistical natural language processing'},\n",
       "   {'ns': 14, 'pageid': 40149461, 'title': 'Category:Structured prediction'},\n",
       "   {'ns': 14, 'pageid': 52763867, 'title': 'Category:Supervised learning'},\n",
       "   {'ns': 14, 'pageid': 31176997, 'title': 'Category:Support vector machines'},\n",
       "   {'ns': 14, 'pageid': 52763828, 'title': 'Category:Unsupervised learning'}]}}"
      ]
     },
     "execution_count": 6,
     "metadata": {},
     "output_type": "execute_result"
    }
   ],
   "source": [
    "fy.jsonify_wiki_category('Category:Machine_learning')"
   ]
  },
  {
   "cell_type": "code",
   "execution_count": 7,
   "metadata": {},
   "outputs": [
    {
     "data": {
      "text/html": [
       "<div>\n",
       "<table border=\"1\" class=\"dataframe\">\n",
       "  <thead>\n",
       "    <tr style=\"text-align: right;\">\n",
       "      <th></th>\n",
       "      <th>ns</th>\n",
       "      <th>pageid</th>\n",
       "      <th>title</th>\n",
       "      <th>category</th>\n",
       "    </tr>\n",
       "  </thead>\n",
       "  <tbody>\n",
       "    <tr>\n",
       "      <th>0</th>\n",
       "      <td>2</td>\n",
       "      <td>54972729</td>\n",
       "      <td>User:CustIntelMngt/sandbox/Customer Intelligen...</td>\n",
       "      <td>Category:Machine_learning</td>\n",
       "    </tr>\n",
       "    <tr>\n",
       "      <th>1</th>\n",
       "      <td>0</td>\n",
       "      <td>43385931</td>\n",
       "      <td>Data exploration</td>\n",
       "      <td>Category:Machine_learning</td>\n",
       "    </tr>\n",
       "    <tr>\n",
       "      <th>2</th>\n",
       "      <td>0</td>\n",
       "      <td>49082762</td>\n",
       "      <td>List of datasets for machine learning research</td>\n",
       "      <td>Category:Machine_learning</td>\n",
       "    </tr>\n",
       "    <tr>\n",
       "      <th>3</th>\n",
       "      <td>0</td>\n",
       "      <td>233488</td>\n",
       "      <td>Machine learning</td>\n",
       "      <td>Category:Machine_learning</td>\n",
       "    </tr>\n",
       "    <tr>\n",
       "      <th>4</th>\n",
       "      <td>0</td>\n",
       "      <td>53587467</td>\n",
       "      <td>Outline of machine learning</td>\n",
       "      <td>Category:Machine_learning</td>\n",
       "    </tr>\n",
       "  </tbody>\n",
       "</table>\n",
       "</div>"
      ],
      "text/plain": [
       "   ns    pageid                                              title  \\\n",
       "0   2  54972729  User:CustIntelMngt/sandbox/Customer Intelligen...   \n",
       "1   0  43385931                                   Data exploration   \n",
       "2   0  49082762     List of datasets for machine learning research   \n",
       "3   0    233488                                   Machine learning   \n",
       "4   0  53587467                        Outline of machine learning   \n",
       "\n",
       "                    category  \n",
       "0  Category:Machine_learning  \n",
       "1  Category:Machine_learning  \n",
       "2  Category:Machine_learning  \n",
       "3  Category:Machine_learning  \n",
       "4  Category:Machine_learning  "
      ]
     },
     "execution_count": 7,
     "metadata": {},
     "output_type": "execute_result"
    }
   ],
   "source": [
    "fy.dfize_category_names('Category:Machine_learning').head()"
   ]
  },
  {
   "cell_type": "code",
   "execution_count": 8,
   "metadata": {
    "scrolled": true
   },
   "outputs": [
    {
     "data": {
      "text/html": [
       "<div>\n",
       "<table border=\"1\" class=\"dataframe\">\n",
       "  <thead>\n",
       "    <tr style=\"text-align: right;\">\n",
       "      <th></th>\n",
       "      <th>ns</th>\n",
       "      <th>pageid</th>\n",
       "      <th>title</th>\n",
       "      <th>category</th>\n",
       "    </tr>\n",
       "  </thead>\n",
       "  <tbody>\n",
       "    <tr>\n",
       "      <th>0</th>\n",
       "      <td>2</td>\n",
       "      <td>54972729</td>\n",
       "      <td>User:CustIntelMngt/sandbox/Customer Intelligen...</td>\n",
       "      <td>Category:Machine_learning</td>\n",
       "    </tr>\n",
       "    <tr>\n",
       "      <th>1</th>\n",
       "      <td>0</td>\n",
       "      <td>43385931</td>\n",
       "      <td>Data exploration</td>\n",
       "      <td>Category:Machine_learning</td>\n",
       "    </tr>\n",
       "    <tr>\n",
       "      <th>2</th>\n",
       "      <td>0</td>\n",
       "      <td>49082762</td>\n",
       "      <td>List of datasets for machine learning research</td>\n",
       "      <td>Category:Machine_learning</td>\n",
       "    </tr>\n",
       "    <tr>\n",
       "      <th>3</th>\n",
       "      <td>0</td>\n",
       "      <td>233488</td>\n",
       "      <td>Machine learning</td>\n",
       "      <td>Category:Machine_learning</td>\n",
       "    </tr>\n",
       "    <tr>\n",
       "      <th>4</th>\n",
       "      <td>0</td>\n",
       "      <td>53587467</td>\n",
       "      <td>Outline of machine learning</td>\n",
       "      <td>Category:Machine_learning</td>\n",
       "    </tr>\n",
       "  </tbody>\n",
       "</table>\n",
       "</div>"
      ],
      "text/plain": [
       "   ns    pageid                                              title  \\\n",
       "0   2  54972729  User:CustIntelMngt/sandbox/Customer Intelligen...   \n",
       "1   0  43385931                                   Data exploration   \n",
       "2   0  49082762     List of datasets for machine learning research   \n",
       "3   0    233488                                   Machine learning   \n",
       "4   0  53587467                        Outline of machine learning   \n",
       "\n",
       "                    category  \n",
       "0  Category:Machine_learning  \n",
       "1  Category:Machine_learning  \n",
       "2  Category:Machine_learning  \n",
       "3  Category:Machine_learning  \n",
       "4  Category:Machine_learning  "
      ]
     },
     "execution_count": 8,
     "metadata": {},
     "output_type": "execute_result"
    }
   ],
   "source": [
    "fy.dfize_cat_articles_only('Category:Machine_learning').head()"
   ]
  },
  {
   "cell_type": "markdown",
   "metadata": {},
   "source": [
    "### Machine Learning"
   ]
  },
  {
   "cell_type": "code",
   "execution_count": 9,
   "metadata": {
    "collapsed": true
   },
   "outputs": [],
   "source": [
    "ml_df = fy.dfize_cat_articles_only('Category:Machine_learning')"
   ]
  },
  {
   "cell_type": "code",
   "execution_count": 10,
   "metadata": {
    "collapsed": true
   },
   "outputs": [],
   "source": [
    "ml_df.drop_duplicates(inplace=True)"
   ]
  },
  {
   "cell_type": "code",
   "execution_count": 11,
   "metadata": {
    "collapsed": true
   },
   "outputs": [],
   "source": [
    "ml_df['category'] = 'Machine Learning'"
   ]
  },
  {
   "cell_type": "code",
   "execution_count": 12,
   "metadata": {
    "scrolled": true
   },
   "outputs": [
    {
     "data": {
      "text/plain": [
       "(200, 4)"
      ]
     },
     "execution_count": 12,
     "metadata": {},
     "output_type": "execute_result"
    }
   ],
   "source": [
    "ml_df.shape"
   ]
  },
  {
   "cell_type": "code",
   "execution_count": 13,
   "metadata": {
    "collapsed": true
   },
   "outputs": [],
   "source": [
    "ml_article_content = []\n",
    "\n",
    "for article in ml_df['title'].tolist():\n",
    "    page = fy.beautify_html_article(article)\n",
    "    ml_article_content.append(page)"
   ]
  },
  {
   "cell_type": "code",
   "execution_count": 14,
   "metadata": {
    "collapsed": true
   },
   "outputs": [],
   "source": [
    "ml_df['text'] = ml_article_content"
   ]
  },
  {
   "cell_type": "code",
   "execution_count": 15,
   "metadata": {
    "scrolled": true
   },
   "outputs": [
    {
     "data": {
      "text/plain": [
       "(200, 5)"
      ]
     },
     "execution_count": 15,
     "metadata": {},
     "output_type": "execute_result"
    }
   ],
   "source": [
    "ml_df.shape"
   ]
  },
  {
   "cell_type": "code",
   "execution_count": 29,
   "metadata": {},
   "outputs": [
    {
     "data": {
      "text/html": [
       "<div>\n",
       "<table border=\"1\" class=\"dataframe\">\n",
       "  <thead>\n",
       "    <tr style=\"text-align: right;\">\n",
       "      <th></th>\n",
       "      <th>ns</th>\n",
       "      <th>pageid</th>\n",
       "      <th>title</th>\n",
       "      <th>category</th>\n",
       "      <th>text</th>\n",
       "    </tr>\n",
       "  </thead>\n",
       "  <tbody>\n",
       "    <tr>\n",
       "      <th>112</th>\n",
       "      <td>0</td>\n",
       "      <td>5721403</td>\n",
       "      <td>Machine Learning (journal)</td>\n",
       "      <td>Machine Learning</td>\n",
       "      <td>Machine Learning  DisciplineMachine learningLa...</td>\n",
       "    </tr>\n",
       "    <tr>\n",
       "      <th>21</th>\n",
       "      <td>0</td>\n",
       "      <td>40678189</td>\n",
       "      <td>Bias–variance tradeoff</td>\n",
       "      <td>Machine Learning</td>\n",
       "      <td>This article needs additional citations for ve...</td>\n",
       "    </tr>\n",
       "    <tr>\n",
       "      <th>199</th>\n",
       "      <td>0</td>\n",
       "      <td>47527969</td>\n",
       "      <td>Word2vec</td>\n",
       "      <td>Machine Learning</td>\n",
       "      <td>Machine learning anddata miningProblemsClassif...</td>\n",
       "    </tr>\n",
       "    <tr>\n",
       "      <th>140</th>\n",
       "      <td>0</td>\n",
       "      <td>23864280</td>\n",
       "      <td>Parity learning</td>\n",
       "      <td>Machine Learning</td>\n",
       "      <td>Parity learning is a problem in machine learni...</td>\n",
       "    </tr>\n",
       "    <tr>\n",
       "      <th>53</th>\n",
       "      <td>0</td>\n",
       "      <td>1422176</td>\n",
       "      <td>Developmental robotics</td>\n",
       "      <td>Machine Learning</td>\n",
       "      <td>o Developmental robotics (DevRob), sometimes c...</td>\n",
       "    </tr>\n",
       "  </tbody>\n",
       "</table>\n",
       "</div>"
      ],
      "text/plain": [
       "     ns    pageid                       title          category  \\\n",
       "112   0   5721403  Machine Learning (journal)  Machine Learning   \n",
       "21    0  40678189      Bias–variance tradeoff  Machine Learning   \n",
       "199   0  47527969                    Word2vec  Machine Learning   \n",
       "140   0  23864280             Parity learning  Machine Learning   \n",
       "53    0   1422176      Developmental robotics  Machine Learning   \n",
       "\n",
       "                                                  text  \n",
       "112  Machine Learning  DisciplineMachine learningLa...  \n",
       "21   This article needs additional citations for ve...  \n",
       "199  Machine learning anddata miningProblemsClassif...  \n",
       "140  Parity learning is a problem in machine learni...  \n",
       "53   o Developmental robotics (DevRob), sometimes c...  "
      ]
     },
     "execution_count": 29,
     "metadata": {},
     "output_type": "execute_result"
    }
   ],
   "source": [
    "ml_df.sample(5)"
   ]
  },
  {
   "cell_type": "markdown",
   "metadata": {},
   "source": [
    "#### Generate Machine Learning Subcategory DataFrame (go only 1 layer deeper)"
   ]
  },
  {
   "cell_type": "code",
   "execution_count": 16,
   "metadata": {
    "collapsed": true
   },
   "outputs": [],
   "source": [
    "ml_subcat_df = fy.dfize_subcategory_article('Category:Machine_learning')"
   ]
  },
  {
   "cell_type": "code",
   "execution_count": 17,
   "metadata": {
    "collapsed": true
   },
   "outputs": [],
   "source": [
    "ml_subcat_df.drop_duplicates(inplace=True)"
   ]
  },
  {
   "cell_type": "code",
   "execution_count": 19,
   "metadata": {
    "collapsed": true,
    "scrolled": false
   },
   "outputs": [],
   "source": [
    "ml_subcat_article_content = []\n",
    "\n",
    "for article in ml_subcat_df['title'].tolist()[:400]:\n",
    "    page = fy.beautify_html_article(article)\n",
    "    ml_subcat_article_content.append(page)"
   ]
  },
  {
   "cell_type": "code",
   "execution_count": 20,
   "metadata": {
    "collapsed": true
   },
   "outputs": [],
   "source": [
    "for article in ml_subcat_df['title'].tolist()[400:600]:\n",
    "    page = fy.beautify_html_article(article)\n",
    "    ml_subcat_article_content.append(page)"
   ]
  },
  {
   "cell_type": "code",
   "execution_count": 21,
   "metadata": {
    "collapsed": true
   },
   "outputs": [],
   "source": [
    "for article in ml_subcat_df['title'].tolist()[600:]:\n",
    "    page = fy.beautify_html_article(article)\n",
    "    ml_subcat_article_content.append(page)"
   ]
  },
  {
   "cell_type": "code",
   "execution_count": 22,
   "metadata": {
    "scrolled": true
   },
   "outputs": [
    {
     "data": {
      "text/plain": [
       "831"
      ]
     },
     "execution_count": 22,
     "metadata": {},
     "output_type": "execute_result"
    }
   ],
   "source": [
    "len(ml_subcat_article_content)"
   ]
  },
  {
   "cell_type": "code",
   "execution_count": 23,
   "metadata": {
    "collapsed": true
   },
   "outputs": [],
   "source": [
    "ml_subcat_df['text'] = ml_subcat_article_content"
   ]
  },
  {
   "cell_type": "code",
   "execution_count": 24,
   "metadata": {
    "collapsed": true
   },
   "outputs": [],
   "source": [
    "ml_subcat_df['category'] = 'Machine Learning'"
   ]
  },
  {
   "cell_type": "code",
   "execution_count": 25,
   "metadata": {
    "scrolled": true
   },
   "outputs": [
    {
     "data": {
      "text/html": [
       "<div>\n",
       "<table border=\"1\" class=\"dataframe\">\n",
       "  <thead>\n",
       "    <tr style=\"text-align: right;\">\n",
       "      <th></th>\n",
       "      <th>ns</th>\n",
       "      <th>pageid</th>\n",
       "      <th>title</th>\n",
       "      <th>category</th>\n",
       "      <th>text</th>\n",
       "    </tr>\n",
       "  </thead>\n",
       "  <tbody>\n",
       "    <tr>\n",
       "      <th>30</th>\n",
       "      <td>0</td>\n",
       "      <td>33544408</td>\n",
       "      <td>GraphLab</td>\n",
       "      <td>Machine Learning</td>\n",
       "      <td>This article relies too much on references to ...</td>\n",
       "    </tr>\n",
       "    <tr>\n",
       "      <th>31</th>\n",
       "      <td>0</td>\n",
       "      <td>54238535</td>\n",
       "      <td>Mixture of experts</td>\n",
       "      <td>Machine Learning</td>\n",
       "      <td>Mixture of experts refers to a machine learnin...</td>\n",
       "    </tr>\n",
       "    <tr>\n",
       "      <th>0</th>\n",
       "      <td>0</td>\n",
       "      <td>54069</td>\n",
       "      <td>Inductive logic programming</td>\n",
       "      <td>Machine Learning</td>\n",
       "      <td>Programming paradigmsActionAgent-orientedArray...</td>\n",
       "    </tr>\n",
       "    <tr>\n",
       "      <th>29</th>\n",
       "      <td>0</td>\n",
       "      <td>318439</td>\n",
       "      <td>Text mining</td>\n",
       "      <td>Machine Learning</td>\n",
       "      <td>Text mining, also referred to as text data min...</td>\n",
       "    </tr>\n",
       "    <tr>\n",
       "      <th>12</th>\n",
       "      <td>0</td>\n",
       "      <td>705605</td>\n",
       "      <td>Jabberwacky</td>\n",
       "      <td>Machine Learning</td>\n",
       "      <td>This article possibly contains original resear...</td>\n",
       "    </tr>\n",
       "  </tbody>\n",
       "</table>\n",
       "</div>"
      ],
      "text/plain": [
       "    ns    pageid                        title          category  \\\n",
       "30   0  33544408                     GraphLab  Machine Learning   \n",
       "31   0  54238535           Mixture of experts  Machine Learning   \n",
       "0    0     54069  Inductive logic programming  Machine Learning   \n",
       "29   0    318439                  Text mining  Machine Learning   \n",
       "12   0    705605                  Jabberwacky  Machine Learning   \n",
       "\n",
       "                                                 text  \n",
       "30  This article relies too much on references to ...  \n",
       "31  Mixture of experts refers to a machine learnin...  \n",
       "0   Programming paradigmsActionAgent-orientedArray...  \n",
       "29  Text mining, also referred to as text data min...  \n",
       "12  This article possibly contains original resear...  "
      ]
     },
     "execution_count": 25,
     "metadata": {},
     "output_type": "execute_result"
    }
   ],
   "source": [
    "ml_subcat_df.sample(5)"
   ]
  },
  {
   "cell_type": "code",
   "execution_count": 69,
   "metadata": {},
   "outputs": [
    {
     "data": {
      "text/plain": [
       "(200, 5)"
      ]
     },
     "execution_count": 69,
     "metadata": {},
     "output_type": "execute_result"
    }
   ],
   "source": [
    "ml_df.shape"
   ]
  },
  {
   "cell_type": "code",
   "execution_count": 70,
   "metadata": {},
   "outputs": [
    {
     "data": {
      "text/plain": [
       "(831, 5)"
      ]
     },
     "execution_count": 70,
     "metadata": {},
     "output_type": "execute_result"
    }
   ],
   "source": [
    "ml_subcat_df.shape"
   ]
  },
  {
   "cell_type": "code",
   "execution_count": 74,
   "metadata": {
    "collapsed": true
   },
   "outputs": [],
   "source": [
    "mldfs = [ml_df, ml_subcat_df]"
   ]
  },
  {
   "cell_type": "code",
   "execution_count": 75,
   "metadata": {
    "collapsed": true,
    "scrolled": true
   },
   "outputs": [],
   "source": [
    "MLdf = pd.concat(mldfs)"
   ]
  },
  {
   "cell_type": "code",
   "execution_count": 76,
   "metadata": {},
   "outputs": [
    {
     "data": {
      "text/plain": [
       "(1031, 5)"
      ]
     },
     "execution_count": 76,
     "metadata": {},
     "output_type": "execute_result"
    }
   ],
   "source": [
    "MLdf.shape"
   ]
  },
  {
   "cell_type": "code",
   "execution_count": 80,
   "metadata": {
    "collapsed": true
   },
   "outputs": [],
   "source": [
    "MLdf.drop_duplicates(inplace=True)\n",
    "MLdf.drop('ns', axis=1, inplace=True)"
   ]
  },
  {
   "cell_type": "code",
   "execution_count": 81,
   "metadata": {},
   "outputs": [
    {
     "data": {
      "text/plain": [
       "(899, 4)"
      ]
     },
     "execution_count": 81,
     "metadata": {},
     "output_type": "execute_result"
    }
   ],
   "source": [
    "MLdf.shape"
   ]
  },
  {
   "cell_type": "markdown",
   "metadata": {},
   "source": [
    "### Business Software"
   ]
  },
  {
   "cell_type": "code",
   "execution_count": 40,
   "metadata": {
    "collapsed": true
   },
   "outputs": [],
   "source": [
    "bs_df = fy.dfize_cat_articles_only('Category:Business_software')"
   ]
  },
  {
   "cell_type": "code",
   "execution_count": 41,
   "metadata": {
    "collapsed": true
   },
   "outputs": [],
   "source": [
    "bs_df.drop_duplicates(inplace=True)"
   ]
  },
  {
   "cell_type": "code",
   "execution_count": 42,
   "metadata": {
    "collapsed": true
   },
   "outputs": [],
   "source": [
    "bs_df['category'] = 'Business Software'"
   ]
  },
  {
   "cell_type": "code",
   "execution_count": 44,
   "metadata": {
    "collapsed": true
   },
   "outputs": [],
   "source": [
    "bs_article_content = []\n",
    "\n",
    "for article in bs_df['title'].tolist():\n",
    "    page = fy.beautify_html_article(article)\n",
    "    bs_article_content.append(page)"
   ]
  },
  {
   "cell_type": "code",
   "execution_count": 45,
   "metadata": {
    "collapsed": true
   },
   "outputs": [],
   "source": [
    "bs_df['text'] = bs_article_content"
   ]
  },
  {
   "cell_type": "code",
   "execution_count": 46,
   "metadata": {},
   "outputs": [
    {
     "data": {
      "text/plain": [
       "(297, 4)"
      ]
     },
     "execution_count": 46,
     "metadata": {},
     "output_type": "execute_result"
    }
   ],
   "source": [
    "bs_df.drop_duplicates(inplace=True)\n",
    "bs_df.drop('ns', axis=1, inplace=True)\n",
    "bs_df.shape"
   ]
  },
  {
   "cell_type": "markdown",
   "metadata": {},
   "source": [
    "#### Generate Business Software Subcategory DataFrame (go only 1 layer deeper)"
   ]
  },
  {
   "cell_type": "code",
   "execution_count": 47,
   "metadata": {
    "collapsed": true
   },
   "outputs": [],
   "source": [
    "bs_subcat_df = fy.dfize_subcategory_article('Category:Business software')"
   ]
  },
  {
   "cell_type": "code",
   "execution_count": 48,
   "metadata": {
    "collapsed": true
   },
   "outputs": [],
   "source": [
    "bs_subcat_df.drop_duplicates(inplace=True)"
   ]
  },
  {
   "cell_type": "code",
   "execution_count": 49,
   "metadata": {
    "scrolled": true
   },
   "outputs": [
    {
     "data": {
      "text/plain": [
       "(1461, 4)"
      ]
     },
     "execution_count": 49,
     "metadata": {},
     "output_type": "execute_result"
    }
   ],
   "source": [
    "bs_subcat_df.shape"
   ]
  },
  {
   "cell_type": "code",
   "execution_count": 50,
   "metadata": {
    "collapsed": true
   },
   "outputs": [],
   "source": [
    "# fill in the article text in batches (because it takes so long, just to ensure it's working)\n",
    "bs_subcat_article_content = []\n",
    "\n",
    "for article in bs_subcat_df['title'].tolist()[:400]:\n",
    "    page = fy.beautify_html_article(article)\n",
    "    bs_subcat_article_content.append(page)"
   ]
  },
  {
   "cell_type": "code",
   "execution_count": 51,
   "metadata": {
    "collapsed": true
   },
   "outputs": [],
   "source": [
    "for article in bs_subcat_df['title'].tolist()[400:800]:\n",
    "    page = fy.beautify_html_article(article)\n",
    "    bs_subcat_article_content.append(page)"
   ]
  },
  {
   "cell_type": "code",
   "execution_count": 52,
   "metadata": {
    "collapsed": true
   },
   "outputs": [],
   "source": [
    "for article in bs_subcat_df['title'].tolist()[800:1200]:\n",
    "    page = fy.beautify_html_article(article)\n",
    "    bs_subcat_article_content.append(page)"
   ]
  },
  {
   "cell_type": "code",
   "execution_count": 53,
   "metadata": {
    "collapsed": true
   },
   "outputs": [],
   "source": [
    "for article in bs_subcat_df['title'].tolist()[1200:]:\n",
    "    page = fy.beautify_html_article(article)\n",
    "    bs_subcat_article_content.append(page)"
   ]
  },
  {
   "cell_type": "code",
   "execution_count": 55,
   "metadata": {
    "collapsed": true
   },
   "outputs": [],
   "source": [
    "bs_subcat_df['text'] = bs_subcat_article_content"
   ]
  },
  {
   "cell_type": "code",
   "execution_count": 60,
   "metadata": {
    "collapsed": true
   },
   "outputs": [],
   "source": [
    "bs_subcat_df.drop_duplicates(inplace=True)\n",
    "bs_subcat_df.drop('ns', axis=1, inplace=True)"
   ]
  },
  {
   "cell_type": "code",
   "execution_count": 57,
   "metadata": {
    "collapsed": true
   },
   "outputs": [],
   "source": [
    "bs_subcat_df['category'] = 'Business Software'"
   ]
  },
  {
   "cell_type": "code",
   "execution_count": 61,
   "metadata": {
    "scrolled": false
   },
   "outputs": [
    {
     "data": {
      "text/plain": [
       "(1323, 4)"
      ]
     },
     "execution_count": 61,
     "metadata": {},
     "output_type": "execute_result"
    }
   ],
   "source": [
    "bs_subcat_df.shape"
   ]
  },
  {
   "cell_type": "code",
   "execution_count": 63,
   "metadata": {
    "scrolled": true
   },
   "outputs": [
    {
     "data": {
      "text/plain": [
       "(1550, 4)"
      ]
     },
     "execution_count": 63,
     "metadata": {},
     "output_type": "execute_result"
    }
   ],
   "source": [
    "BSdf = bs_df.merge(bs_subcat_df, how='outer')\n",
    "BSdf.shape"
   ]
  },
  {
   "cell_type": "markdown",
   "metadata": {},
   "source": [
    "### Run the `text_cleaner` function on the text for each DataFrame"
   ]
  },
  {
   "cell_type": "code",
   "execution_count": 82,
   "metadata": {
    "collapsed": true
   },
   "outputs": [],
   "source": [
    "MLdf['text'] = MLdf['text'].apply(lambda x: fy.text_cleaner(x))"
   ]
  },
  {
   "cell_type": "code",
   "execution_count": 83,
   "metadata": {
    "collapsed": true
   },
   "outputs": [],
   "source": [
    "BSdf['text'] = BSdf['text'].apply(lambda x: fy.text_cleaner(x))"
   ]
  },
  {
   "cell_type": "markdown",
   "metadata": {},
   "source": [
    "### Pickle the generated DataFrames before joining / concatenating them"
   ]
  },
  {
   "cell_type": "code",
   "execution_count": 84,
   "metadata": {
    "collapsed": true
   },
   "outputs": [],
   "source": [
    "MLdf.to_pickle('./data/MLdf.p')"
   ]
  },
  {
   "cell_type": "code",
   "execution_count": 85,
   "metadata": {
    "collapsed": true
   },
   "outputs": [],
   "source": [
    "BSdf.to_pickle('./data/BSdf.p')"
   ]
  },
  {
   "cell_type": "markdown",
   "metadata": {},
   "source": [
    "#### Join the ml_total_df with the bs_total_df"
   ]
  },
  {
   "cell_type": "code",
   "execution_count": 97,
   "metadata": {
    "collapsed": true
   },
   "outputs": [],
   "source": [
    "total_df = MLdf.merge(BSdf, how='outer')"
   ]
  },
  {
   "cell_type": "code",
   "execution_count": 98,
   "metadata": {},
   "outputs": [
    {
     "data": {
      "text/plain": [
       "(2449, 4)"
      ]
     },
     "execution_count": 98,
     "metadata": {},
     "output_type": "execute_result"
    }
   ],
   "source": [
    "total_df.shape"
   ]
  },
  {
   "cell_type": "code",
   "execution_count": 99,
   "metadata": {
    "collapsed": true
   },
   "outputs": [],
   "source": [
    "total_df.to_pickle('./data/total_df.p')"
   ]
  },
  {
   "cell_type": "code",
   "execution_count": 100,
   "metadata": {
    "scrolled": false
   },
   "outputs": [
    {
     "data": {
      "text/html": [
       "<div>\n",
       "<table border=\"1\" class=\"dataframe\">\n",
       "  <thead>\n",
       "    <tr style=\"text-align: right;\">\n",
       "      <th></th>\n",
       "      <th>pageid</th>\n",
       "      <th>title</th>\n",
       "      <th>category</th>\n",
       "      <th>text</th>\n",
       "    </tr>\n",
       "  </thead>\n",
       "  <tbody>\n",
       "    <tr>\n",
       "      <th>1101</th>\n",
       "      <td>638133</td>\n",
       "      <td>Product data management</td>\n",
       "      <td>Business Software</td>\n",
       "      <td>product data management pdm is the business fu...</td>\n",
       "    </tr>\n",
       "    <tr>\n",
       "      <th>92</th>\n",
       "      <td>5721283</td>\n",
       "      <td>Journal of Machine Learning Research</td>\n",
       "      <td>Machine Learning</td>\n",
       "      <td>j mach learn res doesn t exist please verify j...</td>\n",
       "    </tr>\n",
       "    <tr>\n",
       "      <th>2281</th>\n",
       "      <td>25373946</td>\n",
       "      <td>ActiveVOS</td>\n",
       "      <td>Business Software</td>\n",
       "      <td>the topic of this article may not meet wikiped...</td>\n",
       "    </tr>\n",
       "    <tr>\n",
       "      <th>844</th>\n",
       "      <td>4373337</td>\n",
       "      <td>Ross Quinlan</td>\n",
       "      <td>Machine Learning</td>\n",
       "      <td>john ross quinlan is a computer science resear...</td>\n",
       "    </tr>\n",
       "    <tr>\n",
       "      <th>1148</th>\n",
       "      <td>2756846</td>\n",
       "      <td>Teamcenter</td>\n",
       "      <td>Business Software</td>\n",
       "      <td>this article relies too much on references to ...</td>\n",
       "    </tr>\n",
       "  </tbody>\n",
       "</table>\n",
       "</div>"
      ],
      "text/plain": [
       "        pageid                                 title           category  \\\n",
       "1101    638133               Product data management  Business Software   \n",
       "92     5721283  Journal of Machine Learning Research   Machine Learning   \n",
       "2281  25373946                             ActiveVOS  Business Software   \n",
       "844    4373337                          Ross Quinlan   Machine Learning   \n",
       "1148   2756846                            Teamcenter  Business Software   \n",
       "\n",
       "                                                   text  \n",
       "1101  product data management pdm is the business fu...  \n",
       "92    j mach learn res doesn t exist please verify j...  \n",
       "2281  the topic of this article may not meet wikiped...  \n",
       "844   john ross quinlan is a computer science resear...  \n",
       "1148  this article relies too much on references to ...  "
      ]
     },
     "execution_count": 100,
     "metadata": {},
     "output_type": "execute_result"
    }
   ],
   "source": [
    "total_df.sample(5)"
   ]
  },
  {
   "cell_type": "markdown",
   "metadata": {},
   "source": [
    "#### Generate Category Numbers"
   ]
  },
  {
   "cell_type": "code",
   "execution_count": 101,
   "metadata": {
    "collapsed": true
   },
   "outputs": [],
   "source": [
    "from sklearn.preprocessing import LabelEncoder"
   ]
  },
  {
   "cell_type": "code",
   "execution_count": 102,
   "metadata": {
    "collapsed": true
   },
   "outputs": [],
   "source": [
    "le = LabelEncoder()"
   ]
  },
  {
   "cell_type": "code",
   "execution_count": 103,
   "metadata": {},
   "outputs": [
    {
     "data": {
      "text/html": [
       "<div>\n",
       "<table border=\"1\" class=\"dataframe\">\n",
       "  <thead>\n",
       "    <tr style=\"text-align: right;\">\n",
       "      <th></th>\n",
       "      <th>pageid</th>\n",
       "      <th>title</th>\n",
       "      <th>category</th>\n",
       "      <th>text</th>\n",
       "    </tr>\n",
       "  </thead>\n",
       "  <tbody>\n",
       "    <tr>\n",
       "      <th>2093</th>\n",
       "      <td>41315870</td>\n",
       "      <td>Jahia</td>\n",
       "      <td>Business Software</td>\n",
       "      <td>jahiadeveloper s jahia solutions group  stable...</td>\n",
       "    </tr>\n",
       "    <tr>\n",
       "      <th>2007</th>\n",
       "      <td>24719742</td>\n",
       "      <td>Spring Roo</td>\n",
       "      <td>Business Software</td>\n",
       "      <td>spring roospring roo   xdeveloper s disid pivo...</td>\n",
       "    </tr>\n",
       "    <tr>\n",
       "      <th>2349</th>\n",
       "      <td>7793802</td>\n",
       "      <td>Green Building XML</td>\n",
       "      <td>Business Software</td>\n",
       "      <td>the green building xml schema gbxml is an open...</td>\n",
       "    </tr>\n",
       "    <tr>\n",
       "      <th>45</th>\n",
       "      <td>787776</td>\n",
       "      <td>Curse of dimensionality</td>\n",
       "      <td>Machine Learning</td>\n",
       "      <td>the curse of dimensionality refers to various ...</td>\n",
       "    </tr>\n",
       "    <tr>\n",
       "      <th>1704</th>\n",
       "      <td>32717006</td>\n",
       "      <td>ClearCheckbook.com</td>\n",
       "      <td>Business Software</td>\n",
       "      <td>this article has multiple issues please help i...</td>\n",
       "    </tr>\n",
       "  </tbody>\n",
       "</table>\n",
       "</div>"
      ],
      "text/plain": [
       "        pageid                    title           category  \\\n",
       "2093  41315870                    Jahia  Business Software   \n",
       "2007  24719742               Spring Roo  Business Software   \n",
       "2349   7793802       Green Building XML  Business Software   \n",
       "45      787776  Curse of dimensionality   Machine Learning   \n",
       "1704  32717006       ClearCheckbook.com  Business Software   \n",
       "\n",
       "                                                   text  \n",
       "2093  jahiadeveloper s jahia solutions group  stable...  \n",
       "2007  spring roospring roo   xdeveloper s disid pivo...  \n",
       "2349  the green building xml schema gbxml is an open...  \n",
       "45    the curse of dimensionality refers to various ...  \n",
       "1704  this article has multiple issues please help i...  "
      ]
     },
     "execution_count": 103,
     "metadata": {},
     "output_type": "execute_result"
    }
   ],
   "source": [
    "total_df.sample(5)"
   ]
  },
  {
   "cell_type": "code",
   "execution_count": 104,
   "metadata": {
    "collapsed": true
   },
   "outputs": [],
   "source": [
    "total_df['categoryid'] = le.fit_transform(total_df['category'])"
   ]
  },
  {
   "cell_type": "code",
   "execution_count": 105,
   "metadata": {},
   "outputs": [
    {
     "data": {
      "text/html": [
       "<div>\n",
       "<table border=\"1\" class=\"dataframe\">\n",
       "  <thead>\n",
       "    <tr style=\"text-align: right;\">\n",
       "      <th></th>\n",
       "      <th>pageid</th>\n",
       "      <th>title</th>\n",
       "      <th>category</th>\n",
       "      <th>text</th>\n",
       "      <th>categoryid</th>\n",
       "    </tr>\n",
       "  </thead>\n",
       "  <tbody>\n",
       "    <tr>\n",
       "      <th>1626</th>\n",
       "      <td>21641559</td>\n",
       "      <td>Workspace.com</td>\n",
       "      <td>Business Software</td>\n",
       "      <td>this article contains content that is written ...</td>\n",
       "      <td>0</td>\n",
       "    </tr>\n",
       "    <tr>\n",
       "      <th>1386</th>\n",
       "      <td>5085849</td>\n",
       "      <td>Tycoon City: New York</td>\n",
       "      <td>Business Software</td>\n",
       "      <td>tycoon city new yorkdeveloper s deep red games...</td>\n",
       "      <td>0</td>\n",
       "    </tr>\n",
       "    <tr>\n",
       "      <th>760</th>\n",
       "      <td>22999330</td>\n",
       "      <td>Markov switching multifractal</td>\n",
       "      <td>Machine Learning</td>\n",
       "      <td>this article provides insufficient context for...</td>\n",
       "      <td>1</td>\n",
       "    </tr>\n",
       "    <tr>\n",
       "      <th>534</th>\n",
       "      <td>9517150</td>\n",
       "      <td>Shogun (toolbox)</td>\n",
       "      <td>Machine Learning</td>\n",
       "      <td>this article includes a list of references rel...</td>\n",
       "      <td>1</td>\n",
       "    </tr>\n",
       "    <tr>\n",
       "      <th>2078</th>\n",
       "      <td>28846270</td>\n",
       "      <td>Mobile business intelligence</td>\n",
       "      <td>Business Software</td>\n",
       "      <td>mobile business intelligence mobile bi or mobi...</td>\n",
       "      <td>0</td>\n",
       "    </tr>\n",
       "  </tbody>\n",
       "</table>\n",
       "</div>"
      ],
      "text/plain": [
       "        pageid                          title           category  \\\n",
       "1626  21641559                  Workspace.com  Business Software   \n",
       "1386   5085849          Tycoon City: New York  Business Software   \n",
       "760   22999330  Markov switching multifractal   Machine Learning   \n",
       "534    9517150               Shogun (toolbox)   Machine Learning   \n",
       "2078  28846270   Mobile business intelligence  Business Software   \n",
       "\n",
       "                                                   text  categoryid  \n",
       "1626  this article contains content that is written ...           0  \n",
       "1386  tycoon city new yorkdeveloper s deep red games...           0  \n",
       "760   this article provides insufficient context for...           1  \n",
       "534   this article includes a list of references rel...           1  \n",
       "2078  mobile business intelligence mobile bi or mobi...           0  "
      ]
     },
     "execution_count": 105,
     "metadata": {},
     "output_type": "execute_result"
    }
   ],
   "source": [
    "total_df.sample(5)\n",
    "# note 0 = Business Software category\n",
    "# note 1 = Machine Learning category"
   ]
  },
  {
   "cell_type": "markdown",
   "metadata": {},
   "source": [
    "#### Subset the total_df DataFrame into a Category table vs. a Page table, and Generate a Join Table to map each Page ID to Category"
   ]
  },
  {
   "cell_type": "code",
   "execution_count": 107,
   "metadata": {},
   "outputs": [
    {
     "data": {
      "text/html": [
       "<div>\n",
       "<table border=\"1\" class=\"dataframe\">\n",
       "  <thead>\n",
       "    <tr style=\"text-align: right;\">\n",
       "      <th></th>\n",
       "      <th>pageid</th>\n",
       "      <th>title</th>\n",
       "      <th>text</th>\n",
       "    </tr>\n",
       "  </thead>\n",
       "  <tbody>\n",
       "    <tr>\n",
       "      <th>1309</th>\n",
       "      <td>1488410</td>\n",
       "      <td>MassBalance</td>\n",
       "      <td>this article is an orphan as no other articles...</td>\n",
       "    </tr>\n",
       "    <tr>\n",
       "      <th>1077</th>\n",
       "      <td>27656596</td>\n",
       "      <td>Money (software)</td>\n",
       "      <td>not to be confused with microsoft money this a...</td>\n",
       "    </tr>\n",
       "    <tr>\n",
       "      <th>2364</th>\n",
       "      <td>18530544</td>\n",
       "      <td>SportsML-G2</td>\n",
       "      <td>sportsml g is an xml news exchange standard of...</td>\n",
       "    </tr>\n",
       "    <tr>\n",
       "      <th>1529</th>\n",
       "      <td>1588264</td>\n",
       "      <td>SugarCRM</td>\n",
       "      <td>sugarcrmtypeprivateindustrycrm softwarefounded...</td>\n",
       "    </tr>\n",
       "    <tr>\n",
       "      <th>1505</th>\n",
       "      <td>38134506</td>\n",
       "      <td>TradeCard</td>\n",
       "      <td>tradecard inc connect transact profit former t...</td>\n",
       "    </tr>\n",
       "  </tbody>\n",
       "</table>\n",
       "</div>"
      ],
      "text/plain": [
       "        pageid             title  \\\n",
       "1309   1488410       MassBalance   \n",
       "1077  27656596  Money (software)   \n",
       "2364  18530544       SportsML-G2   \n",
       "1529   1588264          SugarCRM   \n",
       "1505  38134506         TradeCard   \n",
       "\n",
       "                                                   text  \n",
       "1309  this article is an orphan as no other articles...  \n",
       "1077  not to be confused with microsoft money this a...  \n",
       "2364  sportsml g is an xml news exchange standard of...  \n",
       "1529  sugarcrmtypeprivateindustrycrm softwarefounded...  \n",
       "1505  tradecard inc connect transact profit former t...  "
      ]
     },
     "execution_count": 107,
     "metadata": {},
     "output_type": "execute_result"
    }
   ],
   "source": [
    "PAGE_df = total_df[['pageid', 'title', 'text']]\n",
    "PAGE_df.sample(5)"
   ]
  },
  {
   "cell_type": "code",
   "execution_count": 108,
   "metadata": {
    "scrolled": true
   },
   "outputs": [
    {
     "data": {
      "text/plain": [
       "(2449, 3)"
      ]
     },
     "execution_count": 108,
     "metadata": {},
     "output_type": "execute_result"
    }
   ],
   "source": [
    "PAGE_df.shape"
   ]
  },
  {
   "cell_type": "code",
   "execution_count": 109,
   "metadata": {
    "scrolled": false
   },
   "outputs": [
    {
     "name": "stdout",
     "output_type": "stream",
     "text": [
      "<class 'pandas.core.frame.DataFrame'>\n",
      "Int64Index: 2449 entries, 0 to 2448\n",
      "Data columns (total 3 columns):\n",
      "pageid    2449 non-null int64\n",
      "title     2449 non-null object\n",
      "text      2449 non-null object\n",
      "dtypes: int64(1), object(2)\n",
      "memory usage: 76.5+ KB\n"
     ]
    }
   ],
   "source": [
    "PAGE_df.info()"
   ]
  },
  {
   "cell_type": "code",
   "execution_count": 111,
   "metadata": {
    "collapsed": true
   },
   "outputs": [],
   "source": [
    "PAGE_df.to_pickle('./data/PAGE_df.p')"
   ]
  },
  {
   "cell_type": "code",
   "execution_count": 112,
   "metadata": {},
   "outputs": [
    {
     "data": {
      "text/html": [
       "<div>\n",
       "<table border=\"1\" class=\"dataframe\">\n",
       "  <thead>\n",
       "    <tr style=\"text-align: right;\">\n",
       "      <th></th>\n",
       "      <th>category</th>\n",
       "      <th>categoryid</th>\n",
       "    </tr>\n",
       "  </thead>\n",
       "  <tbody>\n",
       "    <tr>\n",
       "      <th>1789</th>\n",
       "      <td>Business Software</td>\n",
       "      <td>0</td>\n",
       "    </tr>\n",
       "    <tr>\n",
       "      <th>425</th>\n",
       "      <td>Machine Learning</td>\n",
       "      <td>1</td>\n",
       "    </tr>\n",
       "    <tr>\n",
       "      <th>347</th>\n",
       "      <td>Machine Learning</td>\n",
       "      <td>1</td>\n",
       "    </tr>\n",
       "    <tr>\n",
       "      <th>1517</th>\n",
       "      <td>Business Software</td>\n",
       "      <td>0</td>\n",
       "    </tr>\n",
       "    <tr>\n",
       "      <th>1158</th>\n",
       "      <td>Business Software</td>\n",
       "      <td>0</td>\n",
       "    </tr>\n",
       "  </tbody>\n",
       "</table>\n",
       "</div>"
      ],
      "text/plain": [
       "               category  categoryid\n",
       "1789  Business Software           0\n",
       "425    Machine Learning           1\n",
       "347    Machine Learning           1\n",
       "1517  Business Software           0\n",
       "1158  Business Software           0"
      ]
     },
     "execution_count": 112,
     "metadata": {},
     "output_type": "execute_result"
    }
   ],
   "source": [
    "CATEGORY_df = total_df[['category', 'categoryid']]\n",
    "CATEGORY_df.sample(5)"
   ]
  },
  {
   "cell_type": "code",
   "execution_count": 114,
   "metadata": {},
   "outputs": [
    {
     "name": "stderr",
     "output_type": "stream",
     "text": [
      "/opt/conda/lib/python3.6/site-packages/pandas/util/decorators.py:91: SettingWithCopyWarning: \n",
      "A value is trying to be set on a copy of a slice from a DataFrame\n",
      "\n",
      "See the caveats in the documentation: http://pandas.pydata.org/pandas-docs/stable/indexing.html#indexing-view-versus-copy\n",
      "  return func(*args, **kwargs)\n"
     ]
    }
   ],
   "source": [
    "CATEGORY_df.drop_duplicates(inplace=True)"
   ]
  },
  {
   "cell_type": "code",
   "execution_count": 115,
   "metadata": {},
   "outputs": [
    {
     "data": {
      "text/plain": [
       "(2, 2)"
      ]
     },
     "execution_count": 115,
     "metadata": {},
     "output_type": "execute_result"
    }
   ],
   "source": [
    "CATEGORY_df.shape"
   ]
  },
  {
   "cell_type": "code",
   "execution_count": 116,
   "metadata": {
    "scrolled": true
   },
   "outputs": [
    {
     "name": "stdout",
     "output_type": "stream",
     "text": [
      "<class 'pandas.core.frame.DataFrame'>\n",
      "Int64Index: 2 entries, 0 to 899\n",
      "Data columns (total 2 columns):\n",
      "category      2 non-null object\n",
      "categoryid    2 non-null int64\n",
      "dtypes: int64(1), object(1)\n",
      "memory usage: 48.0+ bytes\n"
     ]
    }
   ],
   "source": [
    "CATEGORY_df.info()"
   ]
  },
  {
   "cell_type": "code",
   "execution_count": 118,
   "metadata": {
    "collapsed": true
   },
   "outputs": [],
   "source": [
    "CATEGORY_df.to_pickle('./data/CATEGORY_df.p')"
   ]
  },
  {
   "cell_type": "code",
   "execution_count": 120,
   "metadata": {},
   "outputs": [
    {
     "data": {
      "text/plain": [
       "(2449, 2)"
      ]
     },
     "execution_count": 120,
     "metadata": {},
     "output_type": "execute_result"
    }
   ],
   "source": [
    "CATEGORY_PAGE_df = total_df[['pageid', 'category']]\n",
    "CATEGORY_PAGE_df.shape"
   ]
  },
  {
   "cell_type": "code",
   "execution_count": 121,
   "metadata": {},
   "outputs": [
    {
     "data": {
      "text/html": [
       "<div>\n",
       "<table border=\"1\" class=\"dataframe\">\n",
       "  <thead>\n",
       "    <tr style=\"text-align: right;\">\n",
       "      <th></th>\n",
       "      <th>pageid</th>\n",
       "      <th>category</th>\n",
       "    </tr>\n",
       "  </thead>\n",
       "  <tbody>\n",
       "    <tr>\n",
       "      <th>858</th>\n",
       "      <td>52469</td>\n",
       "      <td>Machine Learning</td>\n",
       "    </tr>\n",
       "    <tr>\n",
       "      <th>1227</th>\n",
       "      <td>4755375</td>\n",
       "      <td>Business Software</td>\n",
       "    </tr>\n",
       "    <tr>\n",
       "      <th>1356</th>\n",
       "      <td>20327090</td>\n",
       "      <td>Business Software</td>\n",
       "    </tr>\n",
       "    <tr>\n",
       "      <th>2196</th>\n",
       "      <td>50315118</td>\n",
       "      <td>Business Software</td>\n",
       "    </tr>\n",
       "    <tr>\n",
       "      <th>2154</th>\n",
       "      <td>2504464</td>\n",
       "      <td>Business Software</td>\n",
       "    </tr>\n",
       "  </tbody>\n",
       "</table>\n",
       "</div>"
      ],
      "text/plain": [
       "        pageid           category\n",
       "858      52469   Machine Learning\n",
       "1227   4755375  Business Software\n",
       "1356  20327090  Business Software\n",
       "2196  50315118  Business Software\n",
       "2154   2504464  Business Software"
      ]
     },
     "execution_count": 121,
     "metadata": {},
     "output_type": "execute_result"
    }
   ],
   "source": [
    "CATEGORY_PAGE_df.sample(5)"
   ]
  },
  {
   "cell_type": "code",
   "execution_count": 122,
   "metadata": {
    "collapsed": true
   },
   "outputs": [],
   "source": [
    "CATEGORY_PAGE_df.to_pickle('./data/CATEGORY_PAGE_df.p')"
   ]
  }
 ],
 "metadata": {
  "kernelspec": {
   "display_name": "Python 3",
   "language": "python",
   "name": "python3"
  },
  "language_info": {
   "codemirror_mode": {
    "name": "ipython",
    "version": 3
   },
   "file_extension": ".py",
   "mimetype": "text/x-python",
   "name": "python",
   "nbconvert_exporter": "python",
   "pygments_lexer": "ipython3",
   "version": "3.6.2"
  }
 },
 "nbformat": 4,
 "nbformat_minor": 2
}
